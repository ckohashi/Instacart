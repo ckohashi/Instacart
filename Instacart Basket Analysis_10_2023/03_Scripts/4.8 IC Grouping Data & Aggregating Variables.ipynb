{
 "cells": [
  {
   "cell_type": "markdown",
   "id": "989a91de",
   "metadata": {},
   "source": [
    "# IC Grouping Data and Aggregating Variables Exercise"
   ]
  },
  {
   "cell_type": "markdown",
   "id": "a6c633e8",
   "metadata": {},
   "source": [
    "## List of Contents:\n",
    "## 01. Importing Libraries\n",
    "## 02. Importing Data\n",
    "## 03. Addressing High Price Values\n",
    "## 04. Average Number of Orders by Department\n",
    "## 05. Creating a Loyalty Flag for Existing Customers\n",
    "## 06. Spending Habbits of the Loyalty Flag Groups\n",
    "## 07. Creating a Spending Flag for Existing Customers\n",
    "## 08. Creating a Frequency Flag for Existing Customers\n",
    "## 09. Addressing 11 NaN Values\n",
    "## 10. Export Data\n",
    "\n",
    "## --"
   ]
  },
  {
   "cell_type": "markdown",
   "id": "b067ef4c",
   "metadata": {},
   "source": [
    "## 01. Importing Libraries"
   ]
  },
  {
   "cell_type": "code",
   "execution_count": 1,
   "id": "2dc1ebdb",
   "metadata": {},
   "outputs": [],
   "source": [
    "#Importing Libraries\n",
    "import pandas as pd\n",
    "import numpy as np\n",
    "import os"
   ]
  },
  {
   "cell_type": "markdown",
   "id": "92390200",
   "metadata": {},
   "source": [
    "## 02. Importing Data"
   ]
  },
  {
   "cell_type": "code",
   "execution_count": 2,
   "id": "2fd1787a",
   "metadata": {},
   "outputs": [],
   "source": [
    "#Assigning path for import\n",
    "path = r'C:\\Users\\Mosspants\\Desktop\\CareerFoundry\\A4_Python_Fundamentals_for_Data_Analysts\\Instacart Basket Analysis_10_2023'"
   ]
  },
  {
   "cell_type": "code",
   "execution_count": 3,
   "id": "14cadbac",
   "metadata": {},
   "outputs": [],
   "source": [
    "#Importing data as ords_prods_merge\n",
    "ords_prods_merge = pd.read_pickle(os.path.join(path, '02_Data', 'Prepared_Data', 'orders_products_derived.pkl'))"
   ]
  },
  {
   "cell_type": "code",
   "execution_count": 4,
   "id": "af3a6c23",
   "metadata": {},
   "outputs": [
    {
     "data": {
      "text/html": [
       "<div>\n",
       "<style scoped>\n",
       "    .dataframe tbody tr th:only-of-type {\n",
       "        vertical-align: middle;\n",
       "    }\n",
       "\n",
       "    .dataframe tbody tr th {\n",
       "        vertical-align: top;\n",
       "    }\n",
       "\n",
       "    .dataframe thead th {\n",
       "        text-align: right;\n",
       "    }\n",
       "</style>\n",
       "<table border=\"1\" class=\"dataframe\">\n",
       "  <thead>\n",
       "    <tr style=\"text-align: right;\">\n",
       "      <th></th>\n",
       "      <th>order_id</th>\n",
       "      <th>user_id</th>\n",
       "      <th>order_number</th>\n",
       "      <th>order_day_of_week</th>\n",
       "      <th>order_hour_of_day</th>\n",
       "      <th>days_since_prior_order</th>\n",
       "      <th>product_id</th>\n",
       "      <th>add_to_cart_order</th>\n",
       "      <th>reordered</th>\n",
       "      <th>_merge</th>\n",
       "      <th>product_name</th>\n",
       "      <th>aisle_id</th>\n",
       "      <th>department_id</th>\n",
       "      <th>prices</th>\n",
       "      <th>price_label</th>\n",
       "      <th>busiest_day</th>\n",
       "      <th>busiest_days</th>\n",
       "      <th>busiest_period_of_day</th>\n",
       "    </tr>\n",
       "  </thead>\n",
       "  <tbody>\n",
       "    <tr>\n",
       "      <th>0</th>\n",
       "      <td>2539329</td>\n",
       "      <td>1</td>\n",
       "      <td>1.0</td>\n",
       "      <td>2.0</td>\n",
       "      <td>8.0</td>\n",
       "      <td>NaN</td>\n",
       "      <td>196</td>\n",
       "      <td>1.0</td>\n",
       "      <td>0.0</td>\n",
       "      <td>both</td>\n",
       "      <td>Soda</td>\n",
       "      <td>77.0</td>\n",
       "      <td>7.0</td>\n",
       "      <td>9.0</td>\n",
       "      <td>Mid-range product</td>\n",
       "      <td>Regular Busy</td>\n",
       "      <td>Regular Days</td>\n",
       "      <td>Average Orders</td>\n",
       "    </tr>\n",
       "    <tr>\n",
       "      <th>1</th>\n",
       "      <td>2398795</td>\n",
       "      <td>1</td>\n",
       "      <td>2.0</td>\n",
       "      <td>3.0</td>\n",
       "      <td>7.0</td>\n",
       "      <td>15.0</td>\n",
       "      <td>196</td>\n",
       "      <td>1.0</td>\n",
       "      <td>1.0</td>\n",
       "      <td>both</td>\n",
       "      <td>Soda</td>\n",
       "      <td>77.0</td>\n",
       "      <td>7.0</td>\n",
       "      <td>9.0</td>\n",
       "      <td>Mid-range product</td>\n",
       "      <td>Regular Busy</td>\n",
       "      <td>Slowest Days</td>\n",
       "      <td>Average Orders</td>\n",
       "    </tr>\n",
       "    <tr>\n",
       "      <th>2</th>\n",
       "      <td>473747</td>\n",
       "      <td>1</td>\n",
       "      <td>3.0</td>\n",
       "      <td>3.0</td>\n",
       "      <td>12.0</td>\n",
       "      <td>21.0</td>\n",
       "      <td>196</td>\n",
       "      <td>1.0</td>\n",
       "      <td>1.0</td>\n",
       "      <td>both</td>\n",
       "      <td>Soda</td>\n",
       "      <td>77.0</td>\n",
       "      <td>7.0</td>\n",
       "      <td>9.0</td>\n",
       "      <td>Mid-range product</td>\n",
       "      <td>Regular Busy</td>\n",
       "      <td>Slowest Days</td>\n",
       "      <td>Most Orders</td>\n",
       "    </tr>\n",
       "    <tr>\n",
       "      <th>3</th>\n",
       "      <td>2254736</td>\n",
       "      <td>1</td>\n",
       "      <td>4.0</td>\n",
       "      <td>4.0</td>\n",
       "      <td>7.0</td>\n",
       "      <td>29.0</td>\n",
       "      <td>196</td>\n",
       "      <td>1.0</td>\n",
       "      <td>1.0</td>\n",
       "      <td>both</td>\n",
       "      <td>Soda</td>\n",
       "      <td>77.0</td>\n",
       "      <td>7.0</td>\n",
       "      <td>9.0</td>\n",
       "      <td>Mid-range product</td>\n",
       "      <td>Least Busy</td>\n",
       "      <td>Slowest Days</td>\n",
       "      <td>Average Orders</td>\n",
       "    </tr>\n",
       "    <tr>\n",
       "      <th>4</th>\n",
       "      <td>431534</td>\n",
       "      <td>1</td>\n",
       "      <td>5.0</td>\n",
       "      <td>4.0</td>\n",
       "      <td>15.0</td>\n",
       "      <td>28.0</td>\n",
       "      <td>196</td>\n",
       "      <td>1.0</td>\n",
       "      <td>1.0</td>\n",
       "      <td>both</td>\n",
       "      <td>Soda</td>\n",
       "      <td>77.0</td>\n",
       "      <td>7.0</td>\n",
       "      <td>9.0</td>\n",
       "      <td>Mid-range product</td>\n",
       "      <td>Least Busy</td>\n",
       "      <td>Slowest Days</td>\n",
       "      <td>Most Orders</td>\n",
       "    </tr>\n",
       "  </tbody>\n",
       "</table>\n",
       "</div>"
      ],
      "text/plain": [
       "  order_id user_id  order_number  order_day_of_week  order_hour_of_day  \\\n",
       "0  2539329       1           1.0                2.0                8.0   \n",
       "1  2398795       1           2.0                3.0                7.0   \n",
       "2   473747       1           3.0                3.0               12.0   \n",
       "3  2254736       1           4.0                4.0                7.0   \n",
       "4   431534       1           5.0                4.0               15.0   \n",
       "\n",
       "   days_since_prior_order product_id  add_to_cart_order  reordered _merge  \\\n",
       "0                     NaN        196                1.0        0.0   both   \n",
       "1                    15.0        196                1.0        1.0   both   \n",
       "2                    21.0        196                1.0        1.0   both   \n",
       "3                    29.0        196                1.0        1.0   both   \n",
       "4                    28.0        196                1.0        1.0   both   \n",
       "\n",
       "  product_name  aisle_id  department_id  prices        price_label  \\\n",
       "0         Soda      77.0            7.0     9.0  Mid-range product   \n",
       "1         Soda      77.0            7.0     9.0  Mid-range product   \n",
       "2         Soda      77.0            7.0     9.0  Mid-range product   \n",
       "3         Soda      77.0            7.0     9.0  Mid-range product   \n",
       "4         Soda      77.0            7.0     9.0  Mid-range product   \n",
       "\n",
       "    busiest_day  busiest_days busiest_period_of_day  \n",
       "0  Regular Busy  Regular Days        Average Orders  \n",
       "1  Regular Busy  Slowest Days        Average Orders  \n",
       "2  Regular Busy  Slowest Days           Most Orders  \n",
       "3    Least Busy  Slowest Days        Average Orders  \n",
       "4    Least Busy  Slowest Days           Most Orders  "
      ]
     },
     "execution_count": 4,
     "metadata": {},
     "output_type": "execute_result"
    }
   ],
   "source": [
    "#Checking data after import with head\n",
    "ords_prods_merge.head()"
   ]
  },
  {
   "cell_type": "code",
   "execution_count": 5,
   "id": "295bc8ae",
   "metadata": {
    "scrolled": true
   },
   "outputs": [
    {
     "data": {
      "text/html": [
       "<div>\n",
       "<style scoped>\n",
       "    .dataframe tbody tr th:only-of-type {\n",
       "        vertical-align: middle;\n",
       "    }\n",
       "\n",
       "    .dataframe tbody tr th {\n",
       "        vertical-align: top;\n",
       "    }\n",
       "\n",
       "    .dataframe thead th {\n",
       "        text-align: right;\n",
       "    }\n",
       "</style>\n",
       "<table border=\"1\" class=\"dataframe\">\n",
       "  <thead>\n",
       "    <tr style=\"text-align: right;\">\n",
       "      <th></th>\n",
       "      <th>order_number</th>\n",
       "      <th>order_day_of_week</th>\n",
       "      <th>order_hour_of_day</th>\n",
       "      <th>days_since_prior_order</th>\n",
       "      <th>add_to_cart_order</th>\n",
       "      <th>reordered</th>\n",
       "      <th>aisle_id</th>\n",
       "      <th>department_id</th>\n",
       "      <th>prices</th>\n",
       "    </tr>\n",
       "  </thead>\n",
       "  <tbody>\n",
       "    <tr>\n",
       "      <th>count</th>\n",
       "      <td>3.243506e+07</td>\n",
       "      <td>3.243506e+07</td>\n",
       "      <td>3.243506e+07</td>\n",
       "      <td>3.035696e+07</td>\n",
       "      <td>3.243506e+07</td>\n",
       "      <td>3.243506e+07</td>\n",
       "      <td>3.240487e+07</td>\n",
       "      <td>3.240487e+07</td>\n",
       "      <td>3.240487e+07</td>\n",
       "    </tr>\n",
       "    <tr>\n",
       "      <th>mean</th>\n",
       "      <td>1.714195e+01</td>\n",
       "      <td>2.738815e+00</td>\n",
       "      <td>1.342498e+01</td>\n",
       "      <td>1.110414e+01</td>\n",
       "      <td>8.351081e+00</td>\n",
       "      <td>5.896955e-01</td>\n",
       "      <td>7.119612e+01</td>\n",
       "      <td>9.919794e+00</td>\n",
       "      <td>1.198022e+01</td>\n",
       "    </tr>\n",
       "    <tr>\n",
       "      <th>std</th>\n",
       "      <td>1.753496e+01</td>\n",
       "      <td>2.090051e+00</td>\n",
       "      <td>4.246357e+00</td>\n",
       "      <td>8.778941e+00</td>\n",
       "      <td>7.126656e+00</td>\n",
       "      <td>4.918889e-01</td>\n",
       "      <td>3.821138e+01</td>\n",
       "      <td>6.281486e+00</td>\n",
       "      <td>4.956554e+02</td>\n",
       "    </tr>\n",
       "    <tr>\n",
       "      <th>min</th>\n",
       "      <td>1.000000e+00</td>\n",
       "      <td>0.000000e+00</td>\n",
       "      <td>0.000000e+00</td>\n",
       "      <td>0.000000e+00</td>\n",
       "      <td>1.000000e+00</td>\n",
       "      <td>0.000000e+00</td>\n",
       "      <td>1.000000e+00</td>\n",
       "      <td>1.000000e+00</td>\n",
       "      <td>1.000000e+00</td>\n",
       "    </tr>\n",
       "    <tr>\n",
       "      <th>25%</th>\n",
       "      <td>5.000000e+00</td>\n",
       "      <td>1.000000e+00</td>\n",
       "      <td>1.000000e+01</td>\n",
       "      <td>5.000000e+00</td>\n",
       "      <td>3.000000e+00</td>\n",
       "      <td>0.000000e+00</td>\n",
       "      <td>3.100000e+01</td>\n",
       "      <td>4.000000e+00</td>\n",
       "      <td>4.200000e+00</td>\n",
       "    </tr>\n",
       "    <tr>\n",
       "      <th>50%</th>\n",
       "      <td>1.100000e+01</td>\n",
       "      <td>3.000000e+00</td>\n",
       "      <td>1.300000e+01</td>\n",
       "      <td>8.000000e+00</td>\n",
       "      <td>6.000000e+00</td>\n",
       "      <td>1.000000e+00</td>\n",
       "      <td>8.300000e+01</td>\n",
       "      <td>9.000000e+00</td>\n",
       "      <td>7.400000e+00</td>\n",
       "    </tr>\n",
       "    <tr>\n",
       "      <th>75%</th>\n",
       "      <td>2.400000e+01</td>\n",
       "      <td>5.000000e+00</td>\n",
       "      <td>1.600000e+01</td>\n",
       "      <td>1.500000e+01</td>\n",
       "      <td>1.100000e+01</td>\n",
       "      <td>1.000000e+00</td>\n",
       "      <td>1.070000e+02</td>\n",
       "      <td>1.600000e+01</td>\n",
       "      <td>1.130000e+01</td>\n",
       "    </tr>\n",
       "    <tr>\n",
       "      <th>max</th>\n",
       "      <td>9.900000e+01</td>\n",
       "      <td>6.000000e+00</td>\n",
       "      <td>2.300000e+01</td>\n",
       "      <td>3.000000e+01</td>\n",
       "      <td>1.450000e+02</td>\n",
       "      <td>1.000000e+00</td>\n",
       "      <td>1.340000e+02</td>\n",
       "      <td>2.100000e+01</td>\n",
       "      <td>9.999900e+04</td>\n",
       "    </tr>\n",
       "  </tbody>\n",
       "</table>\n",
       "</div>"
      ],
      "text/plain": [
       "       order_number  order_day_of_week  order_hour_of_day  \\\n",
       "count  3.243506e+07       3.243506e+07       3.243506e+07   \n",
       "mean   1.714195e+01       2.738815e+00       1.342498e+01   \n",
       "std    1.753496e+01       2.090051e+00       4.246357e+00   \n",
       "min    1.000000e+00       0.000000e+00       0.000000e+00   \n",
       "25%    5.000000e+00       1.000000e+00       1.000000e+01   \n",
       "50%    1.100000e+01       3.000000e+00       1.300000e+01   \n",
       "75%    2.400000e+01       5.000000e+00       1.600000e+01   \n",
       "max    9.900000e+01       6.000000e+00       2.300000e+01   \n",
       "\n",
       "       days_since_prior_order  add_to_cart_order     reordered      aisle_id  \\\n",
       "count            3.035696e+07       3.243506e+07  3.243506e+07  3.240487e+07   \n",
       "mean             1.110414e+01       8.351081e+00  5.896955e-01  7.119612e+01   \n",
       "std              8.778941e+00       7.126656e+00  4.918889e-01  3.821138e+01   \n",
       "min              0.000000e+00       1.000000e+00  0.000000e+00  1.000000e+00   \n",
       "25%              5.000000e+00       3.000000e+00  0.000000e+00  3.100000e+01   \n",
       "50%              8.000000e+00       6.000000e+00  1.000000e+00  8.300000e+01   \n",
       "75%              1.500000e+01       1.100000e+01  1.000000e+00  1.070000e+02   \n",
       "max              3.000000e+01       1.450000e+02  1.000000e+00  1.340000e+02   \n",
       "\n",
       "       department_id        prices  \n",
       "count   3.240487e+07  3.240487e+07  \n",
       "mean    9.919794e+00  1.198022e+01  \n",
       "std     6.281486e+00  4.956554e+02  \n",
       "min     1.000000e+00  1.000000e+00  \n",
       "25%     4.000000e+00  4.200000e+00  \n",
       "50%     9.000000e+00  7.400000e+00  \n",
       "75%     1.600000e+01  1.130000e+01  \n",
       "max     2.100000e+01  9.999900e+04  "
      ]
     },
     "execution_count": 5,
     "metadata": {},
     "output_type": "execute_result"
    }
   ],
   "source": [
    "#Checking data after import with describe\n",
    "ords_prods_merge.describe()"
   ]
  },
  {
   "cell_type": "markdown",
   "id": "f8f55bbf",
   "metadata": {},
   "source": [
    "## 03. Addressing High Price Values"
   ]
  },
  {
   "cell_type": "code",
   "execution_count": 6,
   "id": "0ffa5158",
   "metadata": {},
   "outputs": [],
   "source": [
    "#Assinging NaN to prices over 100\n",
    "ords_prods_merge.loc[ords_prods_merge['prices'] > 100, 'prices'] = np.nan"
   ]
  },
  {
   "cell_type": "code",
   "execution_count": 7,
   "id": "1f2e70e3",
   "metadata": {},
   "outputs": [
    {
     "data": {
      "text/plain": [
       "25.0"
      ]
     },
     "execution_count": 7,
     "metadata": {},
     "output_type": "execute_result"
    }
   ],
   "source": [
    "#Checking change in prices with max\n",
    "ords_prods_merge['prices'].max()"
   ]
  },
  {
   "cell_type": "code",
   "execution_count": 8,
   "id": "c184484c",
   "metadata": {},
   "outputs": [
    {
     "data": {
      "text/html": [
       "<div>\n",
       "<style scoped>\n",
       "    .dataframe tbody tr th:only-of-type {\n",
       "        vertical-align: middle;\n",
       "    }\n",
       "\n",
       "    .dataframe tbody tr th {\n",
       "        vertical-align: top;\n",
       "    }\n",
       "\n",
       "    .dataframe thead th {\n",
       "        text-align: right;\n",
       "    }\n",
       "</style>\n",
       "<table border=\"1\" class=\"dataframe\">\n",
       "  <thead>\n",
       "    <tr style=\"text-align: right;\">\n",
       "      <th></th>\n",
       "      <th>order_number</th>\n",
       "      <th>order_day_of_week</th>\n",
       "      <th>order_hour_of_day</th>\n",
       "      <th>days_since_prior_order</th>\n",
       "      <th>add_to_cart_order</th>\n",
       "      <th>reordered</th>\n",
       "      <th>aisle_id</th>\n",
       "      <th>department_id</th>\n",
       "      <th>prices</th>\n",
       "    </tr>\n",
       "  </thead>\n",
       "  <tbody>\n",
       "    <tr>\n",
       "      <th>count</th>\n",
       "      <td>3.243506e+07</td>\n",
       "      <td>3.243506e+07</td>\n",
       "      <td>3.243506e+07</td>\n",
       "      <td>3.035696e+07</td>\n",
       "      <td>3.243506e+07</td>\n",
       "      <td>3.243506e+07</td>\n",
       "      <td>3.240487e+07</td>\n",
       "      <td>3.240487e+07</td>\n",
       "      <td>3.239974e+07</td>\n",
       "    </tr>\n",
       "    <tr>\n",
       "      <th>mean</th>\n",
       "      <td>1.714195e+01</td>\n",
       "      <td>2.738815e+00</td>\n",
       "      <td>1.342498e+01</td>\n",
       "      <td>1.110414e+01</td>\n",
       "      <td>8.351081e+00</td>\n",
       "      <td>5.896955e-01</td>\n",
       "      <td>7.119612e+01</td>\n",
       "      <td>9.919794e+00</td>\n",
       "      <td>7.790994e+00</td>\n",
       "    </tr>\n",
       "    <tr>\n",
       "      <th>std</th>\n",
       "      <td>1.753496e+01</td>\n",
       "      <td>2.090051e+00</td>\n",
       "      <td>4.246357e+00</td>\n",
       "      <td>8.778941e+00</td>\n",
       "      <td>7.126656e+00</td>\n",
       "      <td>4.918889e-01</td>\n",
       "      <td>3.821138e+01</td>\n",
       "      <td>6.281486e+00</td>\n",
       "      <td>4.241809e+00</td>\n",
       "    </tr>\n",
       "    <tr>\n",
       "      <th>min</th>\n",
       "      <td>1.000000e+00</td>\n",
       "      <td>0.000000e+00</td>\n",
       "      <td>0.000000e+00</td>\n",
       "      <td>0.000000e+00</td>\n",
       "      <td>1.000000e+00</td>\n",
       "      <td>0.000000e+00</td>\n",
       "      <td>1.000000e+00</td>\n",
       "      <td>1.000000e+00</td>\n",
       "      <td>1.000000e+00</td>\n",
       "    </tr>\n",
       "    <tr>\n",
       "      <th>25%</th>\n",
       "      <td>5.000000e+00</td>\n",
       "      <td>1.000000e+00</td>\n",
       "      <td>1.000000e+01</td>\n",
       "      <td>5.000000e+00</td>\n",
       "      <td>3.000000e+00</td>\n",
       "      <td>0.000000e+00</td>\n",
       "      <td>3.100000e+01</td>\n",
       "      <td>4.000000e+00</td>\n",
       "      <td>4.200000e+00</td>\n",
       "    </tr>\n",
       "    <tr>\n",
       "      <th>50%</th>\n",
       "      <td>1.100000e+01</td>\n",
       "      <td>3.000000e+00</td>\n",
       "      <td>1.300000e+01</td>\n",
       "      <td>8.000000e+00</td>\n",
       "      <td>6.000000e+00</td>\n",
       "      <td>1.000000e+00</td>\n",
       "      <td>8.300000e+01</td>\n",
       "      <td>9.000000e+00</td>\n",
       "      <td>7.400000e+00</td>\n",
       "    </tr>\n",
       "    <tr>\n",
       "      <th>75%</th>\n",
       "      <td>2.400000e+01</td>\n",
       "      <td>5.000000e+00</td>\n",
       "      <td>1.600000e+01</td>\n",
       "      <td>1.500000e+01</td>\n",
       "      <td>1.100000e+01</td>\n",
       "      <td>1.000000e+00</td>\n",
       "      <td>1.070000e+02</td>\n",
       "      <td>1.600000e+01</td>\n",
       "      <td>1.130000e+01</td>\n",
       "    </tr>\n",
       "    <tr>\n",
       "      <th>max</th>\n",
       "      <td>9.900000e+01</td>\n",
       "      <td>6.000000e+00</td>\n",
       "      <td>2.300000e+01</td>\n",
       "      <td>3.000000e+01</td>\n",
       "      <td>1.450000e+02</td>\n",
       "      <td>1.000000e+00</td>\n",
       "      <td>1.340000e+02</td>\n",
       "      <td>2.100000e+01</td>\n",
       "      <td>2.500000e+01</td>\n",
       "    </tr>\n",
       "  </tbody>\n",
       "</table>\n",
       "</div>"
      ],
      "text/plain": [
       "       order_number  order_day_of_week  order_hour_of_day  \\\n",
       "count  3.243506e+07       3.243506e+07       3.243506e+07   \n",
       "mean   1.714195e+01       2.738815e+00       1.342498e+01   \n",
       "std    1.753496e+01       2.090051e+00       4.246357e+00   \n",
       "min    1.000000e+00       0.000000e+00       0.000000e+00   \n",
       "25%    5.000000e+00       1.000000e+00       1.000000e+01   \n",
       "50%    1.100000e+01       3.000000e+00       1.300000e+01   \n",
       "75%    2.400000e+01       5.000000e+00       1.600000e+01   \n",
       "max    9.900000e+01       6.000000e+00       2.300000e+01   \n",
       "\n",
       "       days_since_prior_order  add_to_cart_order     reordered      aisle_id  \\\n",
       "count            3.035696e+07       3.243506e+07  3.243506e+07  3.240487e+07   \n",
       "mean             1.110414e+01       8.351081e+00  5.896955e-01  7.119612e+01   \n",
       "std              8.778941e+00       7.126656e+00  4.918889e-01  3.821138e+01   \n",
       "min              0.000000e+00       1.000000e+00  0.000000e+00  1.000000e+00   \n",
       "25%              5.000000e+00       3.000000e+00  0.000000e+00  3.100000e+01   \n",
       "50%              8.000000e+00       6.000000e+00  1.000000e+00  8.300000e+01   \n",
       "75%              1.500000e+01       1.100000e+01  1.000000e+00  1.070000e+02   \n",
       "max              3.000000e+01       1.450000e+02  1.000000e+00  1.340000e+02   \n",
       "\n",
       "       department_id        prices  \n",
       "count   3.240487e+07  3.239974e+07  \n",
       "mean    9.919794e+00  7.790994e+00  \n",
       "std     6.281486e+00  4.241809e+00  \n",
       "min     1.000000e+00  1.000000e+00  \n",
       "25%     4.000000e+00  4.200000e+00  \n",
       "50%     9.000000e+00  7.400000e+00  \n",
       "75%     1.600000e+01  1.130000e+01  \n",
       "max     2.100000e+01  2.500000e+01  "
      ]
     },
     "execution_count": 8,
     "metadata": {},
     "output_type": "execute_result"
    }
   ],
   "source": [
    "#Checking change in prices with describe\n",
    "ords_prods_merge.describe()"
   ]
  },
  {
   "cell_type": "code",
   "execution_count": 9,
   "id": "f8e2fa77",
   "metadata": {},
   "outputs": [],
   "source": [
    "#Creating subset of Nan values in prices\n",
    "prices_nan = ords_prods_merge[ords_prods_merge['prices'].isnull() == True]"
   ]
  },
  {
   "cell_type": "code",
   "execution_count": 10,
   "id": "fd0cb8ed",
   "metadata": {
    "scrolled": true
   },
   "outputs": [
    {
     "data": {
      "text/plain": [
       "(35327, 18)"
      ]
     },
     "execution_count": 10,
     "metadata": {},
     "output_type": "execute_result"
    }
   ],
   "source": [
    "#Counting new NaN values in prices subset\n",
    "prices_nan.shape"
   ]
  },
  {
   "cell_type": "markdown",
   "id": "a95c8ae6",
   "metadata": {},
   "source": [
    "### Duplicate check on orders_products_merged after changes."
   ]
  },
  {
   "cell_type": "code",
   "execution_count": 11,
   "id": "abc6d01e",
   "metadata": {},
   "outputs": [],
   "source": [
    "#Creating subset for duplicates\n",
    "ords_prods_merge_dup = ords_prods_merge[ords_prods_merge.duplicated()]"
   ]
  },
  {
   "cell_type": "code",
   "execution_count": 12,
   "id": "70f6aed4",
   "metadata": {},
   "outputs": [
    {
     "data": {
      "text/html": [
       "<div>\n",
       "<style scoped>\n",
       "    .dataframe tbody tr th:only-of-type {\n",
       "        vertical-align: middle;\n",
       "    }\n",
       "\n",
       "    .dataframe tbody tr th {\n",
       "        vertical-align: top;\n",
       "    }\n",
       "\n",
       "    .dataframe thead th {\n",
       "        text-align: right;\n",
       "    }\n",
       "</style>\n",
       "<table border=\"1\" class=\"dataframe\">\n",
       "  <thead>\n",
       "    <tr style=\"text-align: right;\">\n",
       "      <th></th>\n",
       "      <th>order_id</th>\n",
       "      <th>user_id</th>\n",
       "      <th>order_number</th>\n",
       "      <th>order_day_of_week</th>\n",
       "      <th>order_hour_of_day</th>\n",
       "      <th>days_since_prior_order</th>\n",
       "      <th>product_id</th>\n",
       "      <th>add_to_cart_order</th>\n",
       "      <th>reordered</th>\n",
       "      <th>_merge</th>\n",
       "      <th>product_name</th>\n",
       "      <th>aisle_id</th>\n",
       "      <th>department_id</th>\n",
       "      <th>prices</th>\n",
       "      <th>price_label</th>\n",
       "      <th>busiest_day</th>\n",
       "      <th>busiest_days</th>\n",
       "      <th>busiest_period_of_day</th>\n",
       "    </tr>\n",
       "  </thead>\n",
       "  <tbody>\n",
       "  </tbody>\n",
       "</table>\n",
       "</div>"
      ],
      "text/plain": [
       "Empty DataFrame\n",
       "Columns: [order_id, user_id, order_number, order_day_of_week, order_hour_of_day, days_since_prior_order, product_id, add_to_cart_order, reordered, _merge, product_name, aisle_id, department_id, prices, price_label, busiest_day, busiest_days, busiest_period_of_day]\n",
       "Index: []"
      ]
     },
     "execution_count": 12,
     "metadata": {},
     "output_type": "execute_result"
    }
   ],
   "source": [
    "ords_prods_merge_dup"
   ]
  },
  {
   "cell_type": "markdown",
   "id": "20d57014",
   "metadata": {},
   "source": [
    "### There are no duplicates after changes."
   ]
  },
  {
   "cell_type": "markdown",
   "id": "d06e31e8",
   "metadata": {},
   "source": [
    "## 04. Average Number of Orders by Department"
   ]
  },
  {
   "cell_type": "code",
   "execution_count": 13,
   "id": "ade1756d",
   "metadata": {},
   "outputs": [
    {
     "data": {
      "text/html": [
       "<div>\n",
       "<style scoped>\n",
       "    .dataframe tbody tr th:only-of-type {\n",
       "        vertical-align: middle;\n",
       "    }\n",
       "\n",
       "    .dataframe tbody tr th {\n",
       "        vertical-align: top;\n",
       "    }\n",
       "\n",
       "    .dataframe thead tr th {\n",
       "        text-align: left;\n",
       "    }\n",
       "\n",
       "    .dataframe thead tr:last-of-type th {\n",
       "        text-align: right;\n",
       "    }\n",
       "</style>\n",
       "<table border=\"1\" class=\"dataframe\">\n",
       "  <thead>\n",
       "    <tr>\n",
       "      <th></th>\n",
       "      <th>order_number</th>\n",
       "    </tr>\n",
       "    <tr>\n",
       "      <th></th>\n",
       "      <th>mean</th>\n",
       "    </tr>\n",
       "    <tr>\n",
       "      <th>department_id</th>\n",
       "      <th></th>\n",
       "    </tr>\n",
       "  </thead>\n",
       "  <tbody>\n",
       "    <tr>\n",
       "      <th>1.0</th>\n",
       "      <td>15.457838</td>\n",
       "    </tr>\n",
       "    <tr>\n",
       "      <th>2.0</th>\n",
       "      <td>17.277920</td>\n",
       "    </tr>\n",
       "    <tr>\n",
       "      <th>3.0</th>\n",
       "      <td>17.170395</td>\n",
       "    </tr>\n",
       "    <tr>\n",
       "      <th>4.0</th>\n",
       "      <td>17.811403</td>\n",
       "    </tr>\n",
       "    <tr>\n",
       "      <th>5.0</th>\n",
       "      <td>15.215751</td>\n",
       "    </tr>\n",
       "    <tr>\n",
       "      <th>6.0</th>\n",
       "      <td>16.439806</td>\n",
       "    </tr>\n",
       "    <tr>\n",
       "      <th>7.0</th>\n",
       "      <td>17.225802</td>\n",
       "    </tr>\n",
       "    <tr>\n",
       "      <th>8.0</th>\n",
       "      <td>15.340650</td>\n",
       "    </tr>\n",
       "    <tr>\n",
       "      <th>9.0</th>\n",
       "      <td>15.895474</td>\n",
       "    </tr>\n",
       "    <tr>\n",
       "      <th>10.0</th>\n",
       "      <td>20.197148</td>\n",
       "    </tr>\n",
       "    <tr>\n",
       "      <th>11.0</th>\n",
       "      <td>16.170638</td>\n",
       "    </tr>\n",
       "    <tr>\n",
       "      <th>12.0</th>\n",
       "      <td>15.887671</td>\n",
       "    </tr>\n",
       "    <tr>\n",
       "      <th>13.0</th>\n",
       "      <td>16.583536</td>\n",
       "    </tr>\n",
       "    <tr>\n",
       "      <th>14.0</th>\n",
       "      <td>16.773669</td>\n",
       "    </tr>\n",
       "    <tr>\n",
       "      <th>15.0</th>\n",
       "      <td>16.165037</td>\n",
       "    </tr>\n",
       "    <tr>\n",
       "      <th>16.0</th>\n",
       "      <td>17.665606</td>\n",
       "    </tr>\n",
       "    <tr>\n",
       "      <th>17.0</th>\n",
       "      <td>15.694469</td>\n",
       "    </tr>\n",
       "    <tr>\n",
       "      <th>18.0</th>\n",
       "      <td>19.310397</td>\n",
       "    </tr>\n",
       "    <tr>\n",
       "      <th>19.0</th>\n",
       "      <td>17.177343</td>\n",
       "    </tr>\n",
       "    <tr>\n",
       "      <th>20.0</th>\n",
       "      <td>16.473447</td>\n",
       "    </tr>\n",
       "    <tr>\n",
       "      <th>21.0</th>\n",
       "      <td>22.902379</td>\n",
       "    </tr>\n",
       "  </tbody>\n",
       "</table>\n",
       "</div>"
      ],
      "text/plain": [
       "              order_number\n",
       "                      mean\n",
       "department_id             \n",
       "1.0              15.457838\n",
       "2.0              17.277920\n",
       "3.0              17.170395\n",
       "4.0              17.811403\n",
       "5.0              15.215751\n",
       "6.0              16.439806\n",
       "7.0              17.225802\n",
       "8.0              15.340650\n",
       "9.0              15.895474\n",
       "10.0             20.197148\n",
       "11.0             16.170638\n",
       "12.0             15.887671\n",
       "13.0             16.583536\n",
       "14.0             16.773669\n",
       "15.0             16.165037\n",
       "16.0             17.665606\n",
       "17.0             15.694469\n",
       "18.0             19.310397\n",
       "19.0             17.177343\n",
       "20.0             16.473447\n",
       "21.0             22.902379"
      ]
     },
     "execution_count": 13,
     "metadata": {},
     "output_type": "execute_result"
    }
   ],
   "source": [
    "#Grouping department_id aggregated by order_number\n",
    "ords_prods_merge.groupby('department_id').agg({'order_number' : ['mean']})"
   ]
  },
  {
   "cell_type": "markdown",
   "id": "755d0908",
   "metadata": {},
   "source": [
    "## 05. Creating a Loyalty Flag for Existing Customers"
   ]
  },
  {
   "cell_type": "code",
   "execution_count": 14,
   "id": "5a54c761",
   "metadata": {},
   "outputs": [
    {
     "name": "stderr",
     "output_type": "stream",
     "text": [
      "C:\\Users\\Mosspants\\AppData\\Local\\Temp\\ipykernel_8844\\1468074955.py:2: FutureWarning: The provided callable <function amax at 0x0000023969D479C0> is currently using SeriesGroupBy.max. In a future version of pandas, the provided callable will be used directly. To keep current behavior pass the string \"max\" instead.\n",
      "  ords_prods_merge['max_order'] = ords_prods_merge.groupby(['user_id'])['order_number'].transform(np.max)\n"
     ]
    }
   ],
   "source": [
    "#Grouping data by order_id, appyling transfrom to generate max order aggregation, and creating a new column for results\n",
    "ords_prods_merge['max_order'] = ords_prods_merge.groupby(['user_id'])['order_number'].transform(np.max)"
   ]
  },
  {
   "cell_type": "markdown",
   "id": "839e48ef",
   "metadata": {},
   "source": [
    "### Assigning loyalty flags to new max_order column."
   ]
  },
  {
   "cell_type": "markdown",
   "id": "ab1fbbc9",
   "metadata": {},
   "source": [
    "### Creating conditions."
   ]
  },
  {
   "cell_type": "code",
   "execution_count": 15,
   "id": "7cf381d6",
   "metadata": {},
   "outputs": [
    {
     "name": "stderr",
     "output_type": "stream",
     "text": [
      "C:\\Users\\Mosspants\\AppData\\Local\\Temp\\ipykernel_8844\\1524379026.py:2: FutureWarning: Setting an item of incompatible dtype is deprecated and will raise in a future error of pandas. Value 'Loyal Customer' has dtype incompatible with float64, please explicitly cast to a compatible dtype first.\n",
      "  ords_prods_merge.loc[ords_prods_merge['max_order'] > 40, 'loyalty_flag'] = 'Loyal Customer'\n"
     ]
    }
   ],
   "source": [
    "#Loyal customer condition - orders over 40\n",
    "ords_prods_merge.loc[ords_prods_merge['max_order'] > 40, 'loyalty_flag'] = 'Loyal Customer'"
   ]
  },
  {
   "cell_type": "code",
   "execution_count": 16,
   "id": "66205a58",
   "metadata": {},
   "outputs": [],
   "source": [
    "#Regular customer condition - orders equal to or under 40 and orders over 10\n",
    "ords_prods_merge.loc[(ords_prods_merge['max_order'] <= 40) & (ords_prods_merge['max_order'] > 10), 'loyalty_flag'] = 'Regular Customer'"
   ]
  },
  {
   "cell_type": "code",
   "execution_count": 17,
   "id": "dbd4840c",
   "metadata": {},
   "outputs": [],
   "source": [
    "#New customer condition - orders equal to or under 10\n",
    "ords_prods_merge.loc[ords_prods_merge['max_order'] <= 10, 'loyalty_flag'] = 'New Customer'"
   ]
  },
  {
   "cell_type": "markdown",
   "id": "1ab03fff",
   "metadata": {},
   "source": [
    "### Checking new loyalty_flag column."
   ]
  },
  {
   "cell_type": "code",
   "execution_count": 18,
   "id": "0dadeb29",
   "metadata": {},
   "outputs": [
    {
     "data": {
      "text/plain": [
       "loyalty_flag\n",
       "Regular Customer    15891507\n",
       "Loyal Customer      10294027\n",
       "New Customer         6249525\n",
       "NaN                       11\n",
       "Name: count, dtype: int64"
      ]
     },
     "execution_count": 18,
     "metadata": {},
     "output_type": "execute_result"
    }
   ],
   "source": [
    "#Checking the output of new loyalty flag column with value_counts\n",
    "ords_prods_merge['loyalty_flag'].value_counts(dropna = False)"
   ]
  },
  {
   "cell_type": "code",
   "execution_count": 19,
   "id": "f1d35a17",
   "metadata": {},
   "outputs": [
    {
     "data": {
      "text/plain": [
       "(32435070,)"
      ]
     },
     "execution_count": 19,
     "metadata": {},
     "output_type": "execute_result"
    }
   ],
   "source": [
    "#Checking the output of new loyalty flag column with .shape\n",
    "ords_prods_merge['loyalty_flag'].shape"
   ]
  },
  {
   "cell_type": "markdown",
   "id": "e1a78660",
   "metadata": {},
   "source": [
    "## 06. Spending Habbits of the Loyalty Flag Groups"
   ]
  },
  {
   "cell_type": "code",
   "execution_count": 20,
   "id": "271d591e",
   "metadata": {},
   "outputs": [
    {
     "data": {
      "text/html": [
       "<div>\n",
       "<style scoped>\n",
       "    .dataframe tbody tr th:only-of-type {\n",
       "        vertical-align: middle;\n",
       "    }\n",
       "\n",
       "    .dataframe tbody tr th {\n",
       "        vertical-align: top;\n",
       "    }\n",
       "\n",
       "    .dataframe thead tr th {\n",
       "        text-align: left;\n",
       "    }\n",
       "\n",
       "    .dataframe thead tr:last-of-type th {\n",
       "        text-align: right;\n",
       "    }\n",
       "</style>\n",
       "<table border=\"1\" class=\"dataframe\">\n",
       "  <thead>\n",
       "    <tr>\n",
       "      <th></th>\n",
       "      <th colspan=\"3\" halign=\"left\">prices</th>\n",
       "    </tr>\n",
       "    <tr>\n",
       "      <th></th>\n",
       "      <th>min</th>\n",
       "      <th>max</th>\n",
       "      <th>mean</th>\n",
       "    </tr>\n",
       "    <tr>\n",
       "      <th>loyalty_flag</th>\n",
       "      <th></th>\n",
       "      <th></th>\n",
       "      <th></th>\n",
       "    </tr>\n",
       "  </thead>\n",
       "  <tbody>\n",
       "    <tr>\n",
       "      <th>Loyal Customer</th>\n",
       "      <td>1.0</td>\n",
       "      <td>25.0</td>\n",
       "      <td>7.773575</td>\n",
       "    </tr>\n",
       "    <tr>\n",
       "      <th>New Customer</th>\n",
       "      <td>1.0</td>\n",
       "      <td>25.0</td>\n",
       "      <td>7.801206</td>\n",
       "    </tr>\n",
       "    <tr>\n",
       "      <th>Regular Customer</th>\n",
       "      <td>1.0</td>\n",
       "      <td>25.0</td>\n",
       "      <td>7.798262</td>\n",
       "    </tr>\n",
       "  </tbody>\n",
       "</table>\n",
       "</div>"
      ],
      "text/plain": [
       "                 prices                \n",
       "                    min   max      mean\n",
       "loyalty_flag                           \n",
       "Loyal Customer      1.0  25.0  7.773575\n",
       "New Customer        1.0  25.0  7.801206\n",
       "Regular Customer    1.0  25.0  7.798262"
      ]
     },
     "execution_count": 20,
     "metadata": {},
     "output_type": "execute_result"
    }
   ],
   "source": [
    "#Min, Max, and Mean of product prices of Loyal Customers, Regular Customers, and New Customers\n",
    "ords_prods_merge.groupby('loyalty_flag').agg({'prices' : ['min', 'max', 'mean']})"
   ]
  },
  {
   "cell_type": "markdown",
   "id": "a58cc181",
   "metadata": {},
   "source": [
    "### The average product price of a Loyal Customer is actually slightly lower than that of New and Regular Customers."
   ]
  },
  {
   "cell_type": "markdown",
   "id": "249b4e41",
   "metadata": {},
   "source": [
    "## 07. Creating a Spending Flag for Existing Customers"
   ]
  },
  {
   "cell_type": "code",
   "execution_count": 21,
   "id": "31cec75a",
   "metadata": {},
   "outputs": [
    {
     "name": "stderr",
     "output_type": "stream",
     "text": [
      "C:\\Users\\Mosspants\\AppData\\Local\\Temp\\ipykernel_8844\\3830970452.py:2: FutureWarning: The provided callable <function amax at 0x0000023969D479C0> is currently using SeriesGroupBy.max. In a future version of pandas, the provided callable will be used directly. To keep current behavior pass the string \"max\" instead.\n",
      "  ords_prods_merge['average_price'] = ords_prods_merge.groupby(['user_id'])['prices'].transform(np.max)\n"
     ]
    }
   ],
   "source": [
    "#Grouping data by user_id, appyling transfrom to generate average prices aggregation, and creating a new column for results\n",
    "ords_prods_merge['average_price'] = ords_prods_merge.groupby(['user_id'])['prices'].transform(np.max)"
   ]
  },
  {
   "cell_type": "markdown",
   "id": "e7238065",
   "metadata": {},
   "source": [
    "### Assigning spending flags to average_price column."
   ]
  },
  {
   "cell_type": "code",
   "execution_count": 22,
   "id": "7fb0990c",
   "metadata": {},
   "outputs": [
    {
     "name": "stderr",
     "output_type": "stream",
     "text": [
      "C:\\Users\\Mosspants\\AppData\\Local\\Temp\\ipykernel_8844\\4229649758.py:2: FutureWarning: Setting an item of incompatible dtype is deprecated and will raise in a future error of pandas. Value 'Low Spender' has dtype incompatible with float64, please explicitly cast to a compatible dtype first.\n",
      "  ords_prods_merge.loc[ords_prods_merge['average_price'] < 10, 'spending_flag'] = 'Low Spender'\n"
     ]
    }
   ],
   "source": [
    "#Low spender condition - average prices of products purchased lower than 10\n",
    "ords_prods_merge.loc[ords_prods_merge['average_price'] < 10, 'spending_flag'] = 'Low Spender'"
   ]
  },
  {
   "cell_type": "code",
   "execution_count": 23,
   "id": "b33a22a8",
   "metadata": {},
   "outputs": [],
   "source": [
    "#High spender condition - averge prices of products purchased greater than or equal to 10\n",
    "ords_prods_merge.loc[ords_prods_merge['average_price'] >= 10, 'spending_flag'] = 'High Spender'"
   ]
  },
  {
   "cell_type": "code",
   "execution_count": 24,
   "id": "e1975570",
   "metadata": {
    "scrolled": true
   },
   "outputs": [
    {
     "data": {
      "text/plain": [
       "spending_flag\n",
       "High Spender    32403113\n",
       "Low Spender        31946\n",
       "NaN                   11\n",
       "Name: count, dtype: int64"
      ]
     },
     "execution_count": 24,
     "metadata": {},
     "output_type": "execute_result"
    }
   ],
   "source": [
    "#Checking the output of new spender flag column with value_counts\n",
    "ords_prods_merge['spending_flag'].value_counts(dropna = False)"
   ]
  },
  {
   "cell_type": "markdown",
   "id": "55b0274a",
   "metadata": {},
   "source": [
    "### Checking new spending_flag column."
   ]
  },
  {
   "cell_type": "code",
   "execution_count": 25,
   "id": "d70fc642",
   "metadata": {},
   "outputs": [
    {
     "data": {
      "text/plain": [
       "spending_flag\n",
       "High Spender    32403113\n",
       "Low Spender        31946\n",
       "NaN                   11\n",
       "Name: count, dtype: int64"
      ]
     },
     "execution_count": 25,
     "metadata": {},
     "output_type": "execute_result"
    }
   ],
   "source": [
    "#Checking the output of new spender flag column with value_counts\n",
    "ords_prods_merge['spending_flag'].value_counts(dropna = False)"
   ]
  },
  {
   "cell_type": "code",
   "execution_count": 26,
   "id": "377a6619",
   "metadata": {},
   "outputs": [
    {
     "data": {
      "text/plain": [
       "(32435070,)"
      ]
     },
     "execution_count": 26,
     "metadata": {},
     "output_type": "execute_result"
    }
   ],
   "source": [
    "#Checking the output of new spender flag column with .shape\n",
    "ords_prods_merge['spending_flag'].shape"
   ]
  },
  {
   "cell_type": "markdown",
   "id": "add24351",
   "metadata": {},
   "source": [
    "## 08. Creating a Frequency Flag for Existing Customers"
   ]
  },
  {
   "cell_type": "code",
   "execution_count": 27,
   "id": "b60f8a3b",
   "metadata": {},
   "outputs": [
    {
     "name": "stderr",
     "output_type": "stream",
     "text": [
      "C:\\Users\\Mosspants\\AppData\\Local\\Temp\\ipykernel_8844\\2829990256.py:2: FutureWarning: The provided callable <function amax at 0x0000023969D479C0> is currently using SeriesGroupBy.max. In a future version of pandas, the provided callable will be used directly. To keep current behavior pass the string \"max\" instead.\n",
      "  ords_prods_merge['average_days_since_prior_order'] = ords_prods_merge.groupby(['user_id'])['days_since_prior_order'].transform(np.max)\n"
     ]
    }
   ],
   "source": [
    "#Grouping data by user_id, appyling transfrom to generate average days_since_prior_order aggregation, and creating a new column for results\n",
    "ords_prods_merge['average_days_since_prior_order'] = ords_prods_merge.groupby(['user_id'])['days_since_prior_order'].transform(np.max)"
   ]
  },
  {
   "cell_type": "markdown",
   "id": "07659656",
   "metadata": {},
   "source": [
    "### Assigning frequency flags to average_days_since_prior_order column."
   ]
  },
  {
   "cell_type": "code",
   "execution_count": 28,
   "id": "81458cfe",
   "metadata": {},
   "outputs": [
    {
     "name": "stderr",
     "output_type": "stream",
     "text": [
      "C:\\Users\\Mosspants\\AppData\\Local\\Temp\\ipykernel_8844\\2157338520.py:2: FutureWarning: Setting an item of incompatible dtype is deprecated and will raise in a future error of pandas. Value 'Non-frequent Customer' has dtype incompatible with float64, please explicitly cast to a compatible dtype first.\n",
      "  ords_prods_merge.loc[ords_prods_merge['average_days_since_prior_order'] > 20, 'frequency_flag'] = 'Non-frequent Customer'\n"
     ]
    }
   ],
   "source": [
    "#Non-frequent Customer condition - average_days_since_prior_order higher than 20\n",
    "ords_prods_merge.loc[ords_prods_merge['average_days_since_prior_order'] > 20, 'frequency_flag'] = 'Non-frequent Customer'"
   ]
  },
  {
   "cell_type": "code",
   "execution_count": 29,
   "id": "3df8af89",
   "metadata": {},
   "outputs": [],
   "source": [
    "#Regular Customer condition - average_days_since_prior_order higher than 10 and lower than or equal to 20\n",
    "ords_prods_merge.loc[(ords_prods_merge['average_days_since_prior_order'] <= 20) & (ords_prods_merge['average_days_since_prior_order'] > 10), 'frequency_flag'] = 'Regular Customer'"
   ]
  },
  {
   "cell_type": "code",
   "execution_count": 30,
   "id": "1e9d673f",
   "metadata": {},
   "outputs": [],
   "source": [
    "#Frequent Customer condition - average_days_since_prior_order lower than or equal to 10\n",
    "ords_prods_merge.loc[ords_prods_merge['average_days_since_prior_order'] <= 10, 'frequency_flag'] = 'Frequent Customer'"
   ]
  },
  {
   "cell_type": "markdown",
   "id": "3456d613",
   "metadata": {},
   "source": [
    "### Checking new frequency_flag column."
   ]
  },
  {
   "cell_type": "code",
   "execution_count": 31,
   "id": "85149e1b",
   "metadata": {},
   "outputs": [
    {
     "data": {
      "text/plain": [
       "frequency_flag\n",
       "Non-frequent Customer    24510171\n",
       "Regular Customer          6539751\n",
       "Frequent Customer         1385137\n",
       "NaN                            11\n",
       "Name: count, dtype: int64"
      ]
     },
     "execution_count": 31,
     "metadata": {},
     "output_type": "execute_result"
    }
   ],
   "source": [
    "#Checking the output of new spender flag column with value_counts\n",
    "ords_prods_merge['frequency_flag'].value_counts(dropna = False)"
   ]
  },
  {
   "cell_type": "code",
   "execution_count": 32,
   "id": "deb2c895",
   "metadata": {
    "scrolled": true
   },
   "outputs": [
    {
     "data": {
      "text/plain": [
       "(32435070,)"
      ]
     },
     "execution_count": 32,
     "metadata": {},
     "output_type": "execute_result"
    }
   ],
   "source": [
    "#Checking the output of new loyalty flag column with .shape\n",
    "ords_prods_merge['frequency_flag'].shape"
   ]
  },
  {
   "cell_type": "markdown",
   "id": "3a5c1e91",
   "metadata": {},
   "source": [
    "## 09. Addressing 11 NaN Values"
   ]
  },
  {
   "cell_type": "markdown",
   "id": "46b00a89",
   "metadata": {},
   "source": [
    "### In the .value_counts() checks of the new columns, 11 NaN values have shown up consistently."
   ]
  },
  {
   "cell_type": "code",
   "execution_count": 33,
   "id": "eb0ab52e",
   "metadata": {},
   "outputs": [
    {
     "data": {
      "text/plain": [
       "order_id                               11\n",
       "user_id                                11\n",
       "order_number                           11\n",
       "order_day_of_week                      11\n",
       "order_hour_of_day                      11\n",
       "days_since_prior_order            2078113\n",
       "product_id                              0\n",
       "add_to_cart_order                      11\n",
       "reordered                              11\n",
       "_merge                                 11\n",
       "product_name                        30200\n",
       "aisle_id                            30200\n",
       "department_id                       30200\n",
       "prices                              35327\n",
       "price_label                         30200\n",
       "busiest_day                             0\n",
       "busiest_days                            0\n",
       "busiest_period_of_day                  11\n",
       "max_order                              11\n",
       "loyalty_flag                           11\n",
       "average_price                          11\n",
       "spending_flag                          11\n",
       "average_days_since_prior_order         11\n",
       "frequency_flag                         11\n",
       "dtype: int64"
      ]
     },
     "execution_count": 33,
     "metadata": {},
     "output_type": "execute_result"
    }
   ],
   "source": [
    "#Checking NaN values on entire dataframe\n",
    "ords_prods_merge.isnull().sum()"
   ]
  },
  {
   "cell_type": "code",
   "execution_count": 36,
   "id": "34f08f50",
   "metadata": {},
   "outputs": [],
   "source": [
    "#Creating subset of NaN values using 'order_id'\n",
    "ords_prods_merge_nan = ords_prods_merge[ords_prods_merge['order_id'].isnull() == True]"
   ]
  },
  {
   "cell_type": "code",
   "execution_count": 37,
   "id": "bfdab103",
   "metadata": {
    "scrolled": true
   },
   "outputs": [
    {
     "data": {
      "text/html": [
       "<div>\n",
       "<style scoped>\n",
       "    .dataframe tbody tr th:only-of-type {\n",
       "        vertical-align: middle;\n",
       "    }\n",
       "\n",
       "    .dataframe tbody tr th {\n",
       "        vertical-align: top;\n",
       "    }\n",
       "\n",
       "    .dataframe thead th {\n",
       "        text-align: right;\n",
       "    }\n",
       "</style>\n",
       "<table border=\"1\" class=\"dataframe\">\n",
       "  <thead>\n",
       "    <tr style=\"text-align: right;\">\n",
       "      <th></th>\n",
       "      <th>order_id</th>\n",
       "      <th>user_id</th>\n",
       "      <th>order_number</th>\n",
       "      <th>order_day_of_week</th>\n",
       "      <th>order_hour_of_day</th>\n",
       "      <th>days_since_prior_order</th>\n",
       "      <th>product_id</th>\n",
       "      <th>add_to_cart_order</th>\n",
       "      <th>reordered</th>\n",
       "      <th>_merge</th>\n",
       "      <th>...</th>\n",
       "      <th>price_label</th>\n",
       "      <th>busiest_day</th>\n",
       "      <th>busiest_days</th>\n",
       "      <th>busiest_period_of_day</th>\n",
       "      <th>max_order</th>\n",
       "      <th>loyalty_flag</th>\n",
       "      <th>average_price</th>\n",
       "      <th>spending_flag</th>\n",
       "      <th>average_days_since_prior_order</th>\n",
       "      <th>frequency_flag</th>\n",
       "    </tr>\n",
       "  </thead>\n",
       "  <tbody>\n",
       "    <tr>\n",
       "      <th>32435059</th>\n",
       "      <td>NaN</td>\n",
       "      <td>NaN</td>\n",
       "      <td>NaN</td>\n",
       "      <td>NaN</td>\n",
       "      <td>NaN</td>\n",
       "      <td>NaN</td>\n",
       "      <td>3630</td>\n",
       "      <td>NaN</td>\n",
       "      <td>NaN</td>\n",
       "      <td>NaN</td>\n",
       "      <td>...</td>\n",
       "      <td>Low-range product</td>\n",
       "      <td>Regular Busy</td>\n",
       "      <td>Regular Days</td>\n",
       "      <td>NaN</td>\n",
       "      <td>NaN</td>\n",
       "      <td>NaN</td>\n",
       "      <td>NaN</td>\n",
       "      <td>NaN</td>\n",
       "      <td>NaN</td>\n",
       "      <td>NaN</td>\n",
       "    </tr>\n",
       "    <tr>\n",
       "      <th>32435060</th>\n",
       "      <td>NaN</td>\n",
       "      <td>NaN</td>\n",
       "      <td>NaN</td>\n",
       "      <td>NaN</td>\n",
       "      <td>NaN</td>\n",
       "      <td>NaN</td>\n",
       "      <td>3718</td>\n",
       "      <td>NaN</td>\n",
       "      <td>NaN</td>\n",
       "      <td>NaN</td>\n",
       "      <td>...</td>\n",
       "      <td>Mid-range product</td>\n",
       "      <td>Regular Busy</td>\n",
       "      <td>Regular Days</td>\n",
       "      <td>NaN</td>\n",
       "      <td>NaN</td>\n",
       "      <td>NaN</td>\n",
       "      <td>NaN</td>\n",
       "      <td>NaN</td>\n",
       "      <td>NaN</td>\n",
       "      <td>NaN</td>\n",
       "    </tr>\n",
       "    <tr>\n",
       "      <th>32435061</th>\n",
       "      <td>NaN</td>\n",
       "      <td>NaN</td>\n",
       "      <td>NaN</td>\n",
       "      <td>NaN</td>\n",
       "      <td>NaN</td>\n",
       "      <td>NaN</td>\n",
       "      <td>7045</td>\n",
       "      <td>NaN</td>\n",
       "      <td>NaN</td>\n",
       "      <td>NaN</td>\n",
       "      <td>...</td>\n",
       "      <td>Mid-range product</td>\n",
       "      <td>Regular Busy</td>\n",
       "      <td>Regular Days</td>\n",
       "      <td>NaN</td>\n",
       "      <td>NaN</td>\n",
       "      <td>NaN</td>\n",
       "      <td>NaN</td>\n",
       "      <td>NaN</td>\n",
       "      <td>NaN</td>\n",
       "      <td>NaN</td>\n",
       "    </tr>\n",
       "    <tr>\n",
       "      <th>32435062</th>\n",
       "      <td>NaN</td>\n",
       "      <td>NaN</td>\n",
       "      <td>NaN</td>\n",
       "      <td>NaN</td>\n",
       "      <td>NaN</td>\n",
       "      <td>NaN</td>\n",
       "      <td>25383</td>\n",
       "      <td>NaN</td>\n",
       "      <td>NaN</td>\n",
       "      <td>NaN</td>\n",
       "      <td>...</td>\n",
       "      <td>Low-range product</td>\n",
       "      <td>Regular Busy</td>\n",
       "      <td>Regular Days</td>\n",
       "      <td>NaN</td>\n",
       "      <td>NaN</td>\n",
       "      <td>NaN</td>\n",
       "      <td>NaN</td>\n",
       "      <td>NaN</td>\n",
       "      <td>NaN</td>\n",
       "      <td>NaN</td>\n",
       "    </tr>\n",
       "    <tr>\n",
       "      <th>32435063</th>\n",
       "      <td>NaN</td>\n",
       "      <td>NaN</td>\n",
       "      <td>NaN</td>\n",
       "      <td>NaN</td>\n",
       "      <td>NaN</td>\n",
       "      <td>NaN</td>\n",
       "      <td>27499</td>\n",
       "      <td>NaN</td>\n",
       "      <td>NaN</td>\n",
       "      <td>NaN</td>\n",
       "      <td>...</td>\n",
       "      <td>Mid-range product</td>\n",
       "      <td>Regular Busy</td>\n",
       "      <td>Regular Days</td>\n",
       "      <td>NaN</td>\n",
       "      <td>NaN</td>\n",
       "      <td>NaN</td>\n",
       "      <td>NaN</td>\n",
       "      <td>NaN</td>\n",
       "      <td>NaN</td>\n",
       "      <td>NaN</td>\n",
       "    </tr>\n",
       "    <tr>\n",
       "      <th>32435064</th>\n",
       "      <td>NaN</td>\n",
       "      <td>NaN</td>\n",
       "      <td>NaN</td>\n",
       "      <td>NaN</td>\n",
       "      <td>NaN</td>\n",
       "      <td>NaN</td>\n",
       "      <td>36233</td>\n",
       "      <td>NaN</td>\n",
       "      <td>NaN</td>\n",
       "      <td>NaN</td>\n",
       "      <td>...</td>\n",
       "      <td>Mid-range product</td>\n",
       "      <td>Regular Busy</td>\n",
       "      <td>Regular Days</td>\n",
       "      <td>NaN</td>\n",
       "      <td>NaN</td>\n",
       "      <td>NaN</td>\n",
       "      <td>NaN</td>\n",
       "      <td>NaN</td>\n",
       "      <td>NaN</td>\n",
       "      <td>NaN</td>\n",
       "    </tr>\n",
       "    <tr>\n",
       "      <th>32435065</th>\n",
       "      <td>NaN</td>\n",
       "      <td>NaN</td>\n",
       "      <td>NaN</td>\n",
       "      <td>NaN</td>\n",
       "      <td>NaN</td>\n",
       "      <td>NaN</td>\n",
       "      <td>37703</td>\n",
       "      <td>NaN</td>\n",
       "      <td>NaN</td>\n",
       "      <td>NaN</td>\n",
       "      <td>...</td>\n",
       "      <td>Mid-range product</td>\n",
       "      <td>Regular Busy</td>\n",
       "      <td>Regular Days</td>\n",
       "      <td>NaN</td>\n",
       "      <td>NaN</td>\n",
       "      <td>NaN</td>\n",
       "      <td>NaN</td>\n",
       "      <td>NaN</td>\n",
       "      <td>NaN</td>\n",
       "      <td>NaN</td>\n",
       "    </tr>\n",
       "    <tr>\n",
       "      <th>32435066</th>\n",
       "      <td>NaN</td>\n",
       "      <td>NaN</td>\n",
       "      <td>NaN</td>\n",
       "      <td>NaN</td>\n",
       "      <td>NaN</td>\n",
       "      <td>NaN</td>\n",
       "      <td>43725</td>\n",
       "      <td>NaN</td>\n",
       "      <td>NaN</td>\n",
       "      <td>NaN</td>\n",
       "      <td>...</td>\n",
       "      <td>Mid-range product</td>\n",
       "      <td>Regular Busy</td>\n",
       "      <td>Regular Days</td>\n",
       "      <td>NaN</td>\n",
       "      <td>NaN</td>\n",
       "      <td>NaN</td>\n",
       "      <td>NaN</td>\n",
       "      <td>NaN</td>\n",
       "      <td>NaN</td>\n",
       "      <td>NaN</td>\n",
       "    </tr>\n",
       "    <tr>\n",
       "      <th>32435067</th>\n",
       "      <td>NaN</td>\n",
       "      <td>NaN</td>\n",
       "      <td>NaN</td>\n",
       "      <td>NaN</td>\n",
       "      <td>NaN</td>\n",
       "      <td>NaN</td>\n",
       "      <td>45971</td>\n",
       "      <td>NaN</td>\n",
       "      <td>NaN</td>\n",
       "      <td>NaN</td>\n",
       "      <td>...</td>\n",
       "      <td>Mid-range product</td>\n",
       "      <td>Regular Busy</td>\n",
       "      <td>Regular Days</td>\n",
       "      <td>NaN</td>\n",
       "      <td>NaN</td>\n",
       "      <td>NaN</td>\n",
       "      <td>NaN</td>\n",
       "      <td>NaN</td>\n",
       "      <td>NaN</td>\n",
       "      <td>NaN</td>\n",
       "    </tr>\n",
       "    <tr>\n",
       "      <th>32435068</th>\n",
       "      <td>NaN</td>\n",
       "      <td>NaN</td>\n",
       "      <td>NaN</td>\n",
       "      <td>NaN</td>\n",
       "      <td>NaN</td>\n",
       "      <td>NaN</td>\n",
       "      <td>46625</td>\n",
       "      <td>NaN</td>\n",
       "      <td>NaN</td>\n",
       "      <td>NaN</td>\n",
       "      <td>...</td>\n",
       "      <td>Low-range product</td>\n",
       "      <td>Regular Busy</td>\n",
       "      <td>Regular Days</td>\n",
       "      <td>NaN</td>\n",
       "      <td>NaN</td>\n",
       "      <td>NaN</td>\n",
       "      <td>NaN</td>\n",
       "      <td>NaN</td>\n",
       "      <td>NaN</td>\n",
       "      <td>NaN</td>\n",
       "    </tr>\n",
       "    <tr>\n",
       "      <th>32435069</th>\n",
       "      <td>NaN</td>\n",
       "      <td>NaN</td>\n",
       "      <td>NaN</td>\n",
       "      <td>NaN</td>\n",
       "      <td>NaN</td>\n",
       "      <td>NaN</td>\n",
       "      <td>49540</td>\n",
       "      <td>NaN</td>\n",
       "      <td>NaN</td>\n",
       "      <td>NaN</td>\n",
       "      <td>...</td>\n",
       "      <td>Mid-range product</td>\n",
       "      <td>Regular Busy</td>\n",
       "      <td>Regular Days</td>\n",
       "      <td>NaN</td>\n",
       "      <td>NaN</td>\n",
       "      <td>NaN</td>\n",
       "      <td>NaN</td>\n",
       "      <td>NaN</td>\n",
       "      <td>NaN</td>\n",
       "      <td>NaN</td>\n",
       "    </tr>\n",
       "  </tbody>\n",
       "</table>\n",
       "<p>11 rows × 24 columns</p>\n",
       "</div>"
      ],
      "text/plain": [
       "         order_id user_id  order_number  order_day_of_week  order_hour_of_day  \\\n",
       "32435059      NaN     NaN           NaN                NaN                NaN   \n",
       "32435060      NaN     NaN           NaN                NaN                NaN   \n",
       "32435061      NaN     NaN           NaN                NaN                NaN   \n",
       "32435062      NaN     NaN           NaN                NaN                NaN   \n",
       "32435063      NaN     NaN           NaN                NaN                NaN   \n",
       "32435064      NaN     NaN           NaN                NaN                NaN   \n",
       "32435065      NaN     NaN           NaN                NaN                NaN   \n",
       "32435066      NaN     NaN           NaN                NaN                NaN   \n",
       "32435067      NaN     NaN           NaN                NaN                NaN   \n",
       "32435068      NaN     NaN           NaN                NaN                NaN   \n",
       "32435069      NaN     NaN           NaN                NaN                NaN   \n",
       "\n",
       "          days_since_prior_order product_id  add_to_cart_order  reordered  \\\n",
       "32435059                     NaN       3630                NaN        NaN   \n",
       "32435060                     NaN       3718                NaN        NaN   \n",
       "32435061                     NaN       7045                NaN        NaN   \n",
       "32435062                     NaN      25383                NaN        NaN   \n",
       "32435063                     NaN      27499                NaN        NaN   \n",
       "32435064                     NaN      36233                NaN        NaN   \n",
       "32435065                     NaN      37703                NaN        NaN   \n",
       "32435066                     NaN      43725                NaN        NaN   \n",
       "32435067                     NaN      45971                NaN        NaN   \n",
       "32435068                     NaN      46625                NaN        NaN   \n",
       "32435069                     NaN      49540                NaN        NaN   \n",
       "\n",
       "         _merge  ...        price_label   busiest_day  busiest_days  \\\n",
       "32435059    NaN  ...  Low-range product  Regular Busy  Regular Days   \n",
       "32435060    NaN  ...  Mid-range product  Regular Busy  Regular Days   \n",
       "32435061    NaN  ...  Mid-range product  Regular Busy  Regular Days   \n",
       "32435062    NaN  ...  Low-range product  Regular Busy  Regular Days   \n",
       "32435063    NaN  ...  Mid-range product  Regular Busy  Regular Days   \n",
       "32435064    NaN  ...  Mid-range product  Regular Busy  Regular Days   \n",
       "32435065    NaN  ...  Mid-range product  Regular Busy  Regular Days   \n",
       "32435066    NaN  ...  Mid-range product  Regular Busy  Regular Days   \n",
       "32435067    NaN  ...  Mid-range product  Regular Busy  Regular Days   \n",
       "32435068    NaN  ...  Low-range product  Regular Busy  Regular Days   \n",
       "32435069    NaN  ...  Mid-range product  Regular Busy  Regular Days   \n",
       "\n",
       "          busiest_period_of_day max_order loyalty_flag average_price  \\\n",
       "32435059                    NaN       NaN          NaN           NaN   \n",
       "32435060                    NaN       NaN          NaN           NaN   \n",
       "32435061                    NaN       NaN          NaN           NaN   \n",
       "32435062                    NaN       NaN          NaN           NaN   \n",
       "32435063                    NaN       NaN          NaN           NaN   \n",
       "32435064                    NaN       NaN          NaN           NaN   \n",
       "32435065                    NaN       NaN          NaN           NaN   \n",
       "32435066                    NaN       NaN          NaN           NaN   \n",
       "32435067                    NaN       NaN          NaN           NaN   \n",
       "32435068                    NaN       NaN          NaN           NaN   \n",
       "32435069                    NaN       NaN          NaN           NaN   \n",
       "\n",
       "         spending_flag  average_days_since_prior_order frequency_flag  \n",
       "32435059           NaN                             NaN            NaN  \n",
       "32435060           NaN                             NaN            NaN  \n",
       "32435061           NaN                             NaN            NaN  \n",
       "32435062           NaN                             NaN            NaN  \n",
       "32435063           NaN                             NaN            NaN  \n",
       "32435064           NaN                             NaN            NaN  \n",
       "32435065           NaN                             NaN            NaN  \n",
       "32435066           NaN                             NaN            NaN  \n",
       "32435067           NaN                             NaN            NaN  \n",
       "32435068           NaN                             NaN            NaN  \n",
       "32435069           NaN                             NaN            NaN  \n",
       "\n",
       "[11 rows x 24 columns]"
      ]
     },
     "execution_count": 37,
     "metadata": {},
     "output_type": "execute_result"
    }
   ],
   "source": [
    "ords_prods_merge_nan"
   ]
  },
  {
   "cell_type": "markdown",
   "id": "9bd57103",
   "metadata": {},
   "source": [
    "### Much of the data in these 11 rows are missing, and it is a small amount of rows compared to the rest of the data. I will remove them."
   ]
  },
  {
   "cell_type": "code",
   "execution_count": 38,
   "id": "d75f7f92",
   "metadata": {},
   "outputs": [],
   "source": [
    "#Creating new subset without NaN values\n",
    "ords_prods_merge_clean = ords_prods_merge[ords_prods_merge['order_id'].isnull() == False]"
   ]
  },
  {
   "cell_type": "code",
   "execution_count": 39,
   "id": "87ce2f02",
   "metadata": {},
   "outputs": [
    {
     "data": {
      "text/plain": [
       "(32435059, 24)"
      ]
     },
     "execution_count": 39,
     "metadata": {},
     "output_type": "execute_result"
    }
   ],
   "source": [
    "#Checking new subset with shape\n",
    "ords_prods_merge_clean.shape"
   ]
  },
  {
   "cell_type": "code",
   "execution_count": 40,
   "id": "404f0c20",
   "metadata": {},
   "outputs": [
    {
     "data": {
      "text/plain": [
       "order_id                                0\n",
       "user_id                                 0\n",
       "order_number                            0\n",
       "order_day_of_week                       0\n",
       "order_hour_of_day                       0\n",
       "days_since_prior_order            2078102\n",
       "product_id                              0\n",
       "add_to_cart_order                       0\n",
       "reordered                               0\n",
       "_merge                                  0\n",
       "product_name                        30200\n",
       "aisle_id                            30200\n",
       "department_id                       30200\n",
       "prices                              35327\n",
       "price_label                         30200\n",
       "busiest_day                             0\n",
       "busiest_days                            0\n",
       "busiest_period_of_day                   0\n",
       "max_order                               0\n",
       "loyalty_flag                            0\n",
       "average_price                           0\n",
       "spending_flag                           0\n",
       "average_days_since_prior_order          0\n",
       "frequency_flag                          0\n",
       "dtype: int64"
      ]
     },
     "execution_count": 40,
     "metadata": {},
     "output_type": "execute_result"
    }
   ],
   "source": [
    "#Running NaN check again on new subset\n",
    "ords_prods_merge_clean.isnull().sum()"
   ]
  },
  {
   "cell_type": "code",
   "execution_count": 41,
   "id": "40478289",
   "metadata": {},
   "outputs": [
    {
     "data": {
      "text/html": [
       "<div>\n",
       "<style scoped>\n",
       "    .dataframe tbody tr th:only-of-type {\n",
       "        vertical-align: middle;\n",
       "    }\n",
       "\n",
       "    .dataframe tbody tr th {\n",
       "        vertical-align: top;\n",
       "    }\n",
       "\n",
       "    .dataframe thead th {\n",
       "        text-align: right;\n",
       "    }\n",
       "</style>\n",
       "<table border=\"1\" class=\"dataframe\">\n",
       "  <thead>\n",
       "    <tr style=\"text-align: right;\">\n",
       "      <th></th>\n",
       "      <th>order_id</th>\n",
       "      <th>user_id</th>\n",
       "      <th>order_number</th>\n",
       "      <th>order_day_of_week</th>\n",
       "      <th>order_hour_of_day</th>\n",
       "      <th>days_since_prior_order</th>\n",
       "      <th>product_id</th>\n",
       "      <th>add_to_cart_order</th>\n",
       "      <th>reordered</th>\n",
       "      <th>_merge</th>\n",
       "      <th>...</th>\n",
       "      <th>price_label</th>\n",
       "      <th>busiest_day</th>\n",
       "      <th>busiest_days</th>\n",
       "      <th>busiest_period_of_day</th>\n",
       "      <th>max_order</th>\n",
       "      <th>loyalty_flag</th>\n",
       "      <th>average_price</th>\n",
       "      <th>spending_flag</th>\n",
       "      <th>average_days_since_prior_order</th>\n",
       "      <th>frequency_flag</th>\n",
       "    </tr>\n",
       "  </thead>\n",
       "  <tbody>\n",
       "    <tr>\n",
       "      <th>0</th>\n",
       "      <td>2539329</td>\n",
       "      <td>1</td>\n",
       "      <td>1.0</td>\n",
       "      <td>2.0</td>\n",
       "      <td>8.0</td>\n",
       "      <td>NaN</td>\n",
       "      <td>196</td>\n",
       "      <td>1.0</td>\n",
       "      <td>0.0</td>\n",
       "      <td>both</td>\n",
       "      <td>...</td>\n",
       "      <td>Mid-range product</td>\n",
       "      <td>Regular Busy</td>\n",
       "      <td>Regular Days</td>\n",
       "      <td>Average Orders</td>\n",
       "      <td>10.0</td>\n",
       "      <td>New Customer</td>\n",
       "      <td>14.0</td>\n",
       "      <td>High Spender</td>\n",
       "      <td>30.0</td>\n",
       "      <td>Non-frequent Customer</td>\n",
       "    </tr>\n",
       "    <tr>\n",
       "      <th>1</th>\n",
       "      <td>2398795</td>\n",
       "      <td>1</td>\n",
       "      <td>2.0</td>\n",
       "      <td>3.0</td>\n",
       "      <td>7.0</td>\n",
       "      <td>15.0</td>\n",
       "      <td>196</td>\n",
       "      <td>1.0</td>\n",
       "      <td>1.0</td>\n",
       "      <td>both</td>\n",
       "      <td>...</td>\n",
       "      <td>Mid-range product</td>\n",
       "      <td>Regular Busy</td>\n",
       "      <td>Slowest Days</td>\n",
       "      <td>Average Orders</td>\n",
       "      <td>10.0</td>\n",
       "      <td>New Customer</td>\n",
       "      <td>14.0</td>\n",
       "      <td>High Spender</td>\n",
       "      <td>30.0</td>\n",
       "      <td>Non-frequent Customer</td>\n",
       "    </tr>\n",
       "    <tr>\n",
       "      <th>2</th>\n",
       "      <td>473747</td>\n",
       "      <td>1</td>\n",
       "      <td>3.0</td>\n",
       "      <td>3.0</td>\n",
       "      <td>12.0</td>\n",
       "      <td>21.0</td>\n",
       "      <td>196</td>\n",
       "      <td>1.0</td>\n",
       "      <td>1.0</td>\n",
       "      <td>both</td>\n",
       "      <td>...</td>\n",
       "      <td>Mid-range product</td>\n",
       "      <td>Regular Busy</td>\n",
       "      <td>Slowest Days</td>\n",
       "      <td>Most Orders</td>\n",
       "      <td>10.0</td>\n",
       "      <td>New Customer</td>\n",
       "      <td>14.0</td>\n",
       "      <td>High Spender</td>\n",
       "      <td>30.0</td>\n",
       "      <td>Non-frequent Customer</td>\n",
       "    </tr>\n",
       "    <tr>\n",
       "      <th>3</th>\n",
       "      <td>2254736</td>\n",
       "      <td>1</td>\n",
       "      <td>4.0</td>\n",
       "      <td>4.0</td>\n",
       "      <td>7.0</td>\n",
       "      <td>29.0</td>\n",
       "      <td>196</td>\n",
       "      <td>1.0</td>\n",
       "      <td>1.0</td>\n",
       "      <td>both</td>\n",
       "      <td>...</td>\n",
       "      <td>Mid-range product</td>\n",
       "      <td>Least Busy</td>\n",
       "      <td>Slowest Days</td>\n",
       "      <td>Average Orders</td>\n",
       "      <td>10.0</td>\n",
       "      <td>New Customer</td>\n",
       "      <td>14.0</td>\n",
       "      <td>High Spender</td>\n",
       "      <td>30.0</td>\n",
       "      <td>Non-frequent Customer</td>\n",
       "    </tr>\n",
       "    <tr>\n",
       "      <th>4</th>\n",
       "      <td>431534</td>\n",
       "      <td>1</td>\n",
       "      <td>5.0</td>\n",
       "      <td>4.0</td>\n",
       "      <td>15.0</td>\n",
       "      <td>28.0</td>\n",
       "      <td>196</td>\n",
       "      <td>1.0</td>\n",
       "      <td>1.0</td>\n",
       "      <td>both</td>\n",
       "      <td>...</td>\n",
       "      <td>Mid-range product</td>\n",
       "      <td>Least Busy</td>\n",
       "      <td>Slowest Days</td>\n",
       "      <td>Most Orders</td>\n",
       "      <td>10.0</td>\n",
       "      <td>New Customer</td>\n",
       "      <td>14.0</td>\n",
       "      <td>High Spender</td>\n",
       "      <td>30.0</td>\n",
       "      <td>Non-frequent Customer</td>\n",
       "    </tr>\n",
       "  </tbody>\n",
       "</table>\n",
       "<p>5 rows × 24 columns</p>\n",
       "</div>"
      ],
      "text/plain": [
       "  order_id user_id  order_number  order_day_of_week  order_hour_of_day  \\\n",
       "0  2539329       1           1.0                2.0                8.0   \n",
       "1  2398795       1           2.0                3.0                7.0   \n",
       "2   473747       1           3.0                3.0               12.0   \n",
       "3  2254736       1           4.0                4.0                7.0   \n",
       "4   431534       1           5.0                4.0               15.0   \n",
       "\n",
       "   days_since_prior_order product_id  add_to_cart_order  reordered _merge  \\\n",
       "0                     NaN        196                1.0        0.0   both   \n",
       "1                    15.0        196                1.0        1.0   both   \n",
       "2                    21.0        196                1.0        1.0   both   \n",
       "3                    29.0        196                1.0        1.0   both   \n",
       "4                    28.0        196                1.0        1.0   both   \n",
       "\n",
       "   ...        price_label   busiest_day  busiest_days  busiest_period_of_day  \\\n",
       "0  ...  Mid-range product  Regular Busy  Regular Days         Average Orders   \n",
       "1  ...  Mid-range product  Regular Busy  Slowest Days         Average Orders   \n",
       "2  ...  Mid-range product  Regular Busy  Slowest Days            Most Orders   \n",
       "3  ...  Mid-range product    Least Busy  Slowest Days         Average Orders   \n",
       "4  ...  Mid-range product    Least Busy  Slowest Days            Most Orders   \n",
       "\n",
       "  max_order  loyalty_flag average_price spending_flag  \\\n",
       "0      10.0  New Customer          14.0  High Spender   \n",
       "1      10.0  New Customer          14.0  High Spender   \n",
       "2      10.0  New Customer          14.0  High Spender   \n",
       "3      10.0  New Customer          14.0  High Spender   \n",
       "4      10.0  New Customer          14.0  High Spender   \n",
       "\n",
       "   average_days_since_prior_order         frequency_flag  \n",
       "0                            30.0  Non-frequent Customer  \n",
       "1                            30.0  Non-frequent Customer  \n",
       "2                            30.0  Non-frequent Customer  \n",
       "3                            30.0  Non-frequent Customer  \n",
       "4                            30.0  Non-frequent Customer  \n",
       "\n",
       "[5 rows x 24 columns]"
      ]
     },
     "execution_count": 41,
     "metadata": {},
     "output_type": "execute_result"
    }
   ],
   "source": [
    "#Checking new subset with head\n",
    "ords_prods_merge_clean.head()"
   ]
  },
  {
   "cell_type": "markdown",
   "id": "bc349a10",
   "metadata": {},
   "source": [
    "## 10. Export Data"
   ]
  },
  {
   "cell_type": "code",
   "execution_count": 42,
   "id": "e1ccdbcb",
   "metadata": {},
   "outputs": [],
   "source": [
    "#Exporting new dataframe as ords_prods_merge_loyalty.pkl\n",
    "ords_prods_merge_clean.to_pickle(os.path.join(path, '02_Data', 'Prepared_Data', 'ords_prods_merge_loyalty.pkl'))"
   ]
  }
 ],
 "metadata": {
  "kernelspec": {
   "display_name": "Python 3 (ipykernel)",
   "language": "python",
   "name": "python3"
  },
  "language_info": {
   "codemirror_mode": {
    "name": "ipython",
    "version": 3
   },
   "file_extension": ".py",
   "mimetype": "text/x-python",
   "name": "python",
   "nbconvert_exporter": "python",
   "pygments_lexer": "ipython3",
   "version": "3.11.5"
  }
 },
 "nbformat": 4,
 "nbformat_minor": 5
}
