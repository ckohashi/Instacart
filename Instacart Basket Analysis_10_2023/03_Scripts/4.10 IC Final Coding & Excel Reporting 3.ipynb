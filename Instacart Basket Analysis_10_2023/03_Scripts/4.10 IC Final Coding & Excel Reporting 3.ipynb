{
 "cells": [
  {
   "cell_type": "markdown",
   "id": "79f11c4a",
   "metadata": {},
   "source": [
    "# IC Coding Etiquette and Excel Reporting Part 3"
   ]
  },
  {
   "cell_type": "markdown",
   "id": "53b50ce0",
   "metadata": {},
   "source": [
    "## List of Contents:\n",
    "## 01. Importing Libraries\n",
    "## 02. Importing Data\n",
    "## 03. Merging Orders_Products_All with Departments\n",
    "## 04. Analyzing Departments\n",
    "## 05. Customer Profile on Day of Week and Hour of Day\n",
    "## 06. Customer Profile Aggregates of Usage Frequency and Expenditure\n",
    "## 07. Customer Profile and Income\n",
    "## 08. Customer Profile With Regions and Departments\n",
    "## 09. Remaining Visuals\n",
    "## 10. Export Charts and Data\n",
    "\n",
    "## --"
   ]
  },
  {
   "cell_type": "markdown",
   "id": "d1e7d307",
   "metadata": {},
   "source": [
    "## 01. Importing Libraries"
   ]
  },
  {
   "cell_type": "code",
   "execution_count": 1,
   "id": "a92d7814",
   "metadata": {},
   "outputs": [],
   "source": [
    "#Importing libraries\n",
    "import pandas as pd\n",
    "import numpy as np\n",
    "import os\n",
    "import matplotlib.pyplot as plt\n",
    "import seaborn as sns\n",
    "import scipy"
   ]
  },
  {
   "cell_type": "markdown",
   "id": "84cc36c2",
   "metadata": {},
   "source": [
    "## 02. Importing Data"
   ]
  },
  {
   "cell_type": "code",
   "execution_count": 2,
   "id": "33889f7f",
   "metadata": {},
   "outputs": [],
   "source": [
    "#Assigning path for import\n",
    "path = r'C:\\Users\\Mosspants\\Desktop\\CareerFoundry\\A4_Python_Fundamentals_for_Data_Analysts\\Instacart Basket Analysis_10_2023'"
   ]
  },
  {
   "cell_type": "code",
   "execution_count": 3,
   "id": "dcfcb86a",
   "metadata": {},
   "outputs": [],
   "source": [
    "#Importing orders_products_all\n",
    "ords_prods = pd.read_pickle(os.path.join(path, '02_Data', 'Prepared_Data', 'orders_products_all_profile.pkl'))"
   ]
  },
  {
   "cell_type": "code",
   "execution_count": 4,
   "id": "cba653ed",
   "metadata": {},
   "outputs": [
    {
     "data": {
      "text/html": [
       "<div>\n",
       "<style scoped>\n",
       "    .dataframe tbody tr th:only-of-type {\n",
       "        vertical-align: middle;\n",
       "    }\n",
       "\n",
       "    .dataframe tbody tr th {\n",
       "        vertical-align: top;\n",
       "    }\n",
       "\n",
       "    .dataframe thead th {\n",
       "        text-align: right;\n",
       "    }\n",
       "</style>\n",
       "<table border=\"1\" class=\"dataframe\">\n",
       "  <thead>\n",
       "    <tr style=\"text-align: right;\">\n",
       "      <th></th>\n",
       "      <th>user_id</th>\n",
       "      <th>state</th>\n",
       "      <th>age</th>\n",
       "      <th>date_joined</th>\n",
       "      <th>number_of_dependants</th>\n",
       "      <th>family_status</th>\n",
       "      <th>income</th>\n",
       "      <th>order_id</th>\n",
       "      <th>order_number</th>\n",
       "      <th>order_day_of_week</th>\n",
       "      <th>...</th>\n",
       "      <th>loyalty_flag</th>\n",
       "      <th>average_price</th>\n",
       "      <th>spending_flag</th>\n",
       "      <th>average_days_since_prior_order</th>\n",
       "      <th>frequency_flag</th>\n",
       "      <th>region</th>\n",
       "      <th>exclusion_flag</th>\n",
       "      <th>age_group</th>\n",
       "      <th>income_group</th>\n",
       "      <th>customer_profile</th>\n",
       "    </tr>\n",
       "  </thead>\n",
       "  <tbody>\n",
       "    <tr>\n",
       "      <th>0</th>\n",
       "      <td>26711</td>\n",
       "      <td>Missouri</td>\n",
       "      <td>48</td>\n",
       "      <td>1/1/2017</td>\n",
       "      <td>3</td>\n",
       "      <td>married</td>\n",
       "      <td>165665</td>\n",
       "      <td>2543867</td>\n",
       "      <td>5.0</td>\n",
       "      <td>1.0</td>\n",
       "      <td>...</td>\n",
       "      <td>New Customer</td>\n",
       "      <td>12.6</td>\n",
       "      <td>High Spender</td>\n",
       "      <td>30.0</td>\n",
       "      <td>Non-frequent Customer</td>\n",
       "      <td>Midwest</td>\n",
       "      <td>Regular-activity</td>\n",
       "      <td>Age 33-48</td>\n",
       "      <td>High income</td>\n",
       "      <td>middle married dependants</td>\n",
       "    </tr>\n",
       "    <tr>\n",
       "      <th>1</th>\n",
       "      <td>26711</td>\n",
       "      <td>Missouri</td>\n",
       "      <td>48</td>\n",
       "      <td>1/1/2017</td>\n",
       "      <td>3</td>\n",
       "      <td>married</td>\n",
       "      <td>165665</td>\n",
       "      <td>1285508</td>\n",
       "      <td>7.0</td>\n",
       "      <td>5.0</td>\n",
       "      <td>...</td>\n",
       "      <td>New Customer</td>\n",
       "      <td>12.6</td>\n",
       "      <td>High Spender</td>\n",
       "      <td>30.0</td>\n",
       "      <td>Non-frequent Customer</td>\n",
       "      <td>Midwest</td>\n",
       "      <td>Regular-activity</td>\n",
       "      <td>Age 33-48</td>\n",
       "      <td>High income</td>\n",
       "      <td>middle married dependants</td>\n",
       "    </tr>\n",
       "    <tr>\n",
       "      <th>2</th>\n",
       "      <td>26711</td>\n",
       "      <td>Missouri</td>\n",
       "      <td>48</td>\n",
       "      <td>1/1/2017</td>\n",
       "      <td>3</td>\n",
       "      <td>married</td>\n",
       "      <td>165665</td>\n",
       "      <td>2578584</td>\n",
       "      <td>8.0</td>\n",
       "      <td>1.0</td>\n",
       "      <td>...</td>\n",
       "      <td>New Customer</td>\n",
       "      <td>12.6</td>\n",
       "      <td>High Spender</td>\n",
       "      <td>30.0</td>\n",
       "      <td>Non-frequent Customer</td>\n",
       "      <td>Midwest</td>\n",
       "      <td>Regular-activity</td>\n",
       "      <td>Age 33-48</td>\n",
       "      <td>High income</td>\n",
       "      <td>middle married dependants</td>\n",
       "    </tr>\n",
       "    <tr>\n",
       "      <th>3</th>\n",
       "      <td>26711</td>\n",
       "      <td>Missouri</td>\n",
       "      <td>48</td>\n",
       "      <td>1/1/2017</td>\n",
       "      <td>3</td>\n",
       "      <td>married</td>\n",
       "      <td>165665</td>\n",
       "      <td>423547</td>\n",
       "      <td>2.0</td>\n",
       "      <td>2.0</td>\n",
       "      <td>...</td>\n",
       "      <td>New Customer</td>\n",
       "      <td>12.6</td>\n",
       "      <td>High Spender</td>\n",
       "      <td>30.0</td>\n",
       "      <td>Non-frequent Customer</td>\n",
       "      <td>Midwest</td>\n",
       "      <td>Regular-activity</td>\n",
       "      <td>Age 33-48</td>\n",
       "      <td>High income</td>\n",
       "      <td>middle married dependants</td>\n",
       "    </tr>\n",
       "    <tr>\n",
       "      <th>4</th>\n",
       "      <td>26711</td>\n",
       "      <td>Missouri</td>\n",
       "      <td>48</td>\n",
       "      <td>1/1/2017</td>\n",
       "      <td>3</td>\n",
       "      <td>married</td>\n",
       "      <td>165665</td>\n",
       "      <td>2524893</td>\n",
       "      <td>3.0</td>\n",
       "      <td>3.0</td>\n",
       "      <td>...</td>\n",
       "      <td>New Customer</td>\n",
       "      <td>12.6</td>\n",
       "      <td>High Spender</td>\n",
       "      <td>30.0</td>\n",
       "      <td>Non-frequent Customer</td>\n",
       "      <td>Midwest</td>\n",
       "      <td>Regular-activity</td>\n",
       "      <td>Age 33-48</td>\n",
       "      <td>High income</td>\n",
       "      <td>middle married dependants</td>\n",
       "    </tr>\n",
       "  </tbody>\n",
       "</table>\n",
       "<p>5 rows × 34 columns</p>\n",
       "</div>"
      ],
      "text/plain": [
       "  user_id     state  age date_joined  number_of_dependants family_status  \\\n",
       "0   26711  Missouri   48    1/1/2017                     3       married   \n",
       "1   26711  Missouri   48    1/1/2017                     3       married   \n",
       "2   26711  Missouri   48    1/1/2017                     3       married   \n",
       "3   26711  Missouri   48    1/1/2017                     3       married   \n",
       "4   26711  Missouri   48    1/1/2017                     3       married   \n",
       "\n",
       "   income order_id  order_number  order_day_of_week  ...  loyalty_flag  \\\n",
       "0  165665  2543867           5.0                1.0  ...  New Customer   \n",
       "1  165665  1285508           7.0                5.0  ...  New Customer   \n",
       "2  165665  2578584           8.0                1.0  ...  New Customer   \n",
       "3  165665   423547           2.0                2.0  ...  New Customer   \n",
       "4  165665  2524893           3.0                3.0  ...  New Customer   \n",
       "\n",
       "   average_price spending_flag  average_days_since_prior_order  \\\n",
       "0           12.6  High Spender                            30.0   \n",
       "1           12.6  High Spender                            30.0   \n",
       "2           12.6  High Spender                            30.0   \n",
       "3           12.6  High Spender                            30.0   \n",
       "4           12.6  High Spender                            30.0   \n",
       "\n",
       "          frequency_flag   region    exclusion_flag  age_group  income_group  \\\n",
       "0  Non-frequent Customer  Midwest  Regular-activity  Age 33-48   High income   \n",
       "1  Non-frequent Customer  Midwest  Regular-activity  Age 33-48   High income   \n",
       "2  Non-frequent Customer  Midwest  Regular-activity  Age 33-48   High income   \n",
       "3  Non-frequent Customer  Midwest  Regular-activity  Age 33-48   High income   \n",
       "4  Non-frequent Customer  Midwest  Regular-activity  Age 33-48   High income   \n",
       "\n",
       "            customer_profile  \n",
       "0  middle married dependants  \n",
       "1  middle married dependants  \n",
       "2  middle married dependants  \n",
       "3  middle married dependants  \n",
       "4  middle married dependants  \n",
       "\n",
       "[5 rows x 34 columns]"
      ]
     },
     "execution_count": 4,
     "metadata": {},
     "output_type": "execute_result"
    }
   ],
   "source": [
    "#Checking import with head()\n",
    "ords_prods.head()"
   ]
  },
  {
   "cell_type": "code",
   "execution_count": 5,
   "id": "16dba53d",
   "metadata": {},
   "outputs": [
    {
     "data": {
      "text/plain": [
       "(30993489, 34)"
      ]
     },
     "execution_count": 5,
     "metadata": {},
     "output_type": "execute_result"
    }
   ],
   "source": [
    "#Checking import with shape\n",
    "ords_prods.shape"
   ]
  },
  {
   "cell_type": "code",
   "execution_count": 6,
   "id": "00f2c37d",
   "metadata": {},
   "outputs": [
    {
     "data": {
      "text/plain": [
       "Index(['user_id', 'state', 'age', 'date_joined', 'number_of_dependants',\n",
       "       'family_status', 'income', 'order_id', 'order_number',\n",
       "       'order_day_of_week', 'order_hour_of_day', 'days_since_prior_order',\n",
       "       'product_id', 'add_to_cart_order', 'reordered', '_merge',\n",
       "       'product_name', 'aisle_id', 'department_id', 'prices', 'price_label',\n",
       "       'busiest_days', 'busiest_period_of_day', 'max_order', 'loyalty_flag',\n",
       "       'average_price', 'spending_flag', 'average_days_since_prior_order',\n",
       "       'frequency_flag', 'region', 'exclusion_flag', 'age_group',\n",
       "       'income_group', 'customer_profile'],\n",
       "      dtype='object')"
      ]
     },
     "execution_count": 6,
     "metadata": {},
     "output_type": "execute_result"
    }
   ],
   "source": [
    "#Getting all column names from orders_products_all_profile\n",
    "ords_prods.columns"
   ]
  },
  {
   "cell_type": "code",
   "execution_count": 7,
   "id": "e3ea9440",
   "metadata": {},
   "outputs": [
    {
     "data": {
      "text/plain": [
       "dtype('float64')"
      ]
     },
     "execution_count": 7,
     "metadata": {},
     "output_type": "execute_result"
    }
   ],
   "source": [
    "#Checking dtype of department_id\n",
    "ords_prods['department_id'].dtype"
   ]
  },
  {
   "cell_type": "markdown",
   "id": "2a8c0e33",
   "metadata": {},
   "source": [
    "## 03. Merging Orders_Products_All with Departments"
   ]
  },
  {
   "cell_type": "markdown",
   "id": "f9117fa8",
   "metadata": {},
   "source": [
    "### Importing departments data."
   ]
  },
  {
   "cell_type": "code",
   "execution_count": 8,
   "id": "4b0601f7",
   "metadata": {},
   "outputs": [],
   "source": [
    "#Importing departments_wrangled\n",
    "deps = pd.read_csv(os.path.join(path, '02_Data', 'Prepared_Data', 'departments_wrangled.csv'), index_col = False)"
   ]
  },
  {
   "cell_type": "code",
   "execution_count": 9,
   "id": "26f362a1",
   "metadata": {},
   "outputs": [
    {
     "data": {
      "text/html": [
       "<div>\n",
       "<style scoped>\n",
       "    .dataframe tbody tr th:only-of-type {\n",
       "        vertical-align: middle;\n",
       "    }\n",
       "\n",
       "    .dataframe tbody tr th {\n",
       "        vertical-align: top;\n",
       "    }\n",
       "\n",
       "    .dataframe thead th {\n",
       "        text-align: right;\n",
       "    }\n",
       "</style>\n",
       "<table border=\"1\" class=\"dataframe\">\n",
       "  <thead>\n",
       "    <tr style=\"text-align: right;\">\n",
       "      <th></th>\n",
       "      <th>Unnamed: 0</th>\n",
       "      <th>department</th>\n",
       "    </tr>\n",
       "  </thead>\n",
       "  <tbody>\n",
       "    <tr>\n",
       "      <th>0</th>\n",
       "      <td>1</td>\n",
       "      <td>frozen</td>\n",
       "    </tr>\n",
       "    <tr>\n",
       "      <th>1</th>\n",
       "      <td>2</td>\n",
       "      <td>other</td>\n",
       "    </tr>\n",
       "    <tr>\n",
       "      <th>2</th>\n",
       "      <td>3</td>\n",
       "      <td>bakery</td>\n",
       "    </tr>\n",
       "    <tr>\n",
       "      <th>3</th>\n",
       "      <td>4</td>\n",
       "      <td>produce</td>\n",
       "    </tr>\n",
       "    <tr>\n",
       "      <th>4</th>\n",
       "      <td>5</td>\n",
       "      <td>alcohol</td>\n",
       "    </tr>\n",
       "  </tbody>\n",
       "</table>\n",
       "</div>"
      ],
      "text/plain": [
       "   Unnamed: 0 department\n",
       "0           1     frozen\n",
       "1           2      other\n",
       "2           3     bakery\n",
       "3           4    produce\n",
       "4           5    alcohol"
      ]
     },
     "execution_count": 9,
     "metadata": {},
     "output_type": "execute_result"
    }
   ],
   "source": [
    "#Checking import with head()\n",
    "deps.head()"
   ]
  },
  {
   "cell_type": "code",
   "execution_count": 10,
   "id": "7ec0cddf",
   "metadata": {},
   "outputs": [
    {
     "data": {
      "text/plain": [
       "(21, 2)"
      ]
     },
     "execution_count": 10,
     "metadata": {},
     "output_type": "execute_result"
    }
   ],
   "source": [
    "#Checking import with shape\n",
    "deps.shape"
   ]
  },
  {
   "cell_type": "markdown",
   "id": "f13f0ea1",
   "metadata": {},
   "source": [
    "### Preparing departments_wrangled for merge."
   ]
  },
  {
   "cell_type": "code",
   "execution_count": 11,
   "id": "e8af15f9",
   "metadata": {},
   "outputs": [],
   "source": [
    "#Renaming Unnamed:0 in departments_wranged to department_id\n",
    "deps.rename(columns = {'Unnamed: 0' : 'department_id'}, inplace=True)"
   ]
  },
  {
   "cell_type": "code",
   "execution_count": 12,
   "id": "677dede5",
   "metadata": {},
   "outputs": [
    {
     "data": {
      "text/plain": [
       "Index(['department_id', 'department'], dtype='object')"
      ]
     },
     "execution_count": 12,
     "metadata": {},
     "output_type": "execute_result"
    }
   ],
   "source": [
    "#Checking rename\n",
    "deps.columns"
   ]
  },
  {
   "cell_type": "code",
   "execution_count": 13,
   "id": "c5b1a306",
   "metadata": {},
   "outputs": [],
   "source": [
    "#Changing dtype\n",
    "deps['department_id'] = deps['department_id'].astype('float64')"
   ]
  },
  {
   "cell_type": "code",
   "execution_count": 14,
   "id": "0521deed",
   "metadata": {
    "scrolled": true
   },
   "outputs": [
    {
     "data": {
      "text/plain": [
       "dtype('float64')"
      ]
     },
     "execution_count": 14,
     "metadata": {},
     "output_type": "execute_result"
    }
   ],
   "source": [
    "#Checking output\n",
    "deps['department_id'].dtype"
   ]
  },
  {
   "cell_type": "markdown",
   "id": "10536ee0",
   "metadata": {},
   "source": [
    "### Executing merge."
   ]
  },
  {
   "cell_type": "code",
   "execution_count": 15,
   "id": "60edbf16",
   "metadata": {},
   "outputs": [],
   "source": [
    "#Merging\n",
    "ords_prods_deps = ords_prods.merge(deps, on = 'department_id', how = 'outer', indicator = 'Tru')"
   ]
  },
  {
   "cell_type": "code",
   "execution_count": 16,
   "id": "a02a2dc9",
   "metadata": {},
   "outputs": [
    {
     "data": {
      "text/plain": [
       "Tru\n",
       "both          30964570\n",
       "left_only        28919\n",
       "right_only           0\n",
       "Name: count, dtype: int64"
      ]
     },
     "execution_count": 16,
     "metadata": {},
     "output_type": "execute_result"
    }
   ],
   "source": [
    "#Checking merge\n",
    "ords_prods_deps['Tru'].value_counts()"
   ]
  },
  {
   "cell_type": "markdown",
   "id": "a6bd4f6a",
   "metadata": {},
   "source": [
    "## 04. Analyzing Departments"
   ]
  },
  {
   "cell_type": "markdown",
   "id": "01333b2b",
   "metadata": {},
   "source": [
    "### Departments with most product orders."
   ]
  },
  {
   "cell_type": "code",
   "execution_count": 17,
   "id": "e2f3cbb0",
   "metadata": {},
   "outputs": [
    {
     "data": {
      "text/plain": [
       "department\n",
       "produce            9079276\n",
       "dairy eggs         5177183\n",
       "snacks             2766406\n",
       "beverages          2571901\n",
       "frozen             2121732\n",
       "pantry             1782705\n",
       "bakery             1120828\n",
       "canned goods       1012074\n",
       "deli               1003834\n",
       "dry goods pasta     822136\n",
       "household           699858\n",
       "meat seafood        674781\n",
       "breakfast           670850\n",
       "personal care       424306\n",
       "babies              410392\n",
       "international       255991\n",
       "alcohol             144627\n",
       "pets                 93060\n",
       "missing              64768\n",
       "other                34411\n",
       "bulk                 33451\n",
       "Name: count, dtype: int64"
      ]
     },
     "execution_count": 17,
     "metadata": {},
     "output_type": "execute_result"
    }
   ],
   "source": [
    "#Frequency check on department\n",
    "ords_prods_deps['department'].value_counts()"
   ]
  },
  {
   "cell_type": "code",
   "execution_count": 32,
   "id": "e586d52b",
   "metadata": {
    "scrolled": true
   },
   "outputs": [
    {
     "data": {
      "text/plain": [
       "(30993489,)"
      ]
     },
     "execution_count": 32,
     "metadata": {},
     "output_type": "execute_result"
    }
   ],
   "source": [
    "#Check of shape on department\n",
    "ords_prods_deps['department'].shape"
   ]
  },
  {
   "cell_type": "code",
   "execution_count": 46,
   "id": "b419b9f0",
   "metadata": {
    "scrolled": true
   },
   "outputs": [
    {
     "data": {
      "image/png": "[encoded data removed]",
      "text/plain": [
       "<Figure size 640x480 with 1 Axes>"
      ]
     },
     "metadata": {},
     "output_type": "display_data"
    }
   ],
   "source": [
    "#Bar Graph of department frequency\n",
    "department_bar = ords_prods_deps['department'].value_counts().plot.barh()\n",
    "plt.title('Number of Orders by Department')\n",
    "plt.ylabel('Department')\n",
    "plt.xlabel('Number of Orders (In millions)')\n",
    "plt.gca().invert_yaxis()"
   ]
  },
  {
   "cell_type": "markdown",
   "id": "4339cc9a",
   "metadata": {},
   "source": [
    "### Our top 5 departments are produce, dairy and eggs, snacks, beverages, and frozen."
   ]
  },
  {
   "cell_type": "markdown",
   "id": "1108265d",
   "metadata": {},
   "source": [
    "## 05. Customer Profile on Day of Week and Hour of Day"
   ]
  },
  {
   "cell_type": "markdown",
   "id": "2690826f",
   "metadata": {},
   "source": [
    "### When customers under profile place an order during the week."
   ]
  },
  {
   "cell_type": "code",
   "execution_count": 92,
   "id": "2bc39fae",
   "metadata": {},
   "outputs": [],
   "source": [
    "#Creating crosstab of customer profile and day of week\n",
    "profile_day_cross = pd.crosstab(ords_prods_deps['order_day_of_week'], ords_prods_deps['customer_profile'], dropna = False)"
   ]
  },
  {
   "cell_type": "code",
   "execution_count": 93,
   "id": "6b3f38d3",
   "metadata": {},
   "outputs": [
    {
     "data": {
      "text/html": [
       "<div>\n",
       "<style scoped>\n",
       "    .dataframe tbody tr th:only-of-type {\n",
       "        vertical-align: middle;\n",
       "    }\n",
       "\n",
       "    .dataframe tbody tr th {\n",
       "        vertical-align: top;\n",
       "    }\n",
       "\n",
       "    .dataframe thead th {\n",
       "        text-align: right;\n",
       "    }\n",
       "</style>\n",
       "<table border=\"1\" class=\"dataframe\">\n",
       "  <thead>\n",
       "    <tr style=\"text-align: right;\">\n",
       "      <th>customer_profile</th>\n",
       "      <th>middle married dependants</th>\n",
       "      <th>middle single no dependants</th>\n",
       "      <th>older married dependants</th>\n",
       "      <th>older single no dependants</th>\n",
       "      <th>younger married dependants</th>\n",
       "      <th>younger single dependants</th>\n",
       "      <th>younger single no dependants</th>\n",
       "    </tr>\n",
       "    <tr>\n",
       "      <th>order_day_of_week</th>\n",
       "      <th></th>\n",
       "      <th></th>\n",
       "      <th></th>\n",
       "      <th></th>\n",
       "      <th></th>\n",
       "      <th></th>\n",
       "      <th></th>\n",
       "    </tr>\n",
       "  </thead>\n",
       "  <tbody>\n",
       "    <tr>\n",
       "      <th>0.0</th>\n",
       "      <td>2203205</td>\n",
       "      <td>747376</td>\n",
       "      <td>1181320</td>\n",
       "      <td>386354</td>\n",
       "      <td>769902</td>\n",
       "      <td>281111</td>\n",
       "      <td>344720</td>\n",
       "    </tr>\n",
       "    <tr>\n",
       "      <th>1.0</th>\n",
       "      <td>2024958</td>\n",
       "      <td>683584</td>\n",
       "      <td>1070144</td>\n",
       "      <td>348701</td>\n",
       "      <td>698564</td>\n",
       "      <td>259748</td>\n",
       "      <td>331455</td>\n",
       "    </tr>\n",
       "    <tr>\n",
       "      <th>2.0</th>\n",
       "      <td>1512924</td>\n",
       "      <td>507204</td>\n",
       "      <td>803672</td>\n",
       "      <td>262477</td>\n",
       "      <td>515804</td>\n",
       "      <td>192581</td>\n",
       "      <td>233899</td>\n",
       "    </tr>\n",
       "    <tr>\n",
       "      <th>3.0</th>\n",
       "      <td>1374062</td>\n",
       "      <td>460684</td>\n",
       "      <td>735658</td>\n",
       "      <td>243537</td>\n",
       "      <td>470758</td>\n",
       "      <td>174613</td>\n",
       "      <td>213694</td>\n",
       "    </tr>\n",
       "    <tr>\n",
       "      <th>4.0</th>\n",
       "      <td>1361797</td>\n",
       "      <td>455310</td>\n",
       "      <td>721829</td>\n",
       "      <td>235174</td>\n",
       "      <td>465143</td>\n",
       "      <td>173406</td>\n",
       "      <td>215667</td>\n",
       "    </tr>\n",
       "    <tr>\n",
       "      <th>5.0</th>\n",
       "      <td>1502005</td>\n",
       "      <td>519663</td>\n",
       "      <td>803791</td>\n",
       "      <td>263267</td>\n",
       "      <td>520778</td>\n",
       "      <td>195649</td>\n",
       "      <td>232258</td>\n",
       "    </tr>\n",
       "    <tr>\n",
       "      <th>6.0</th>\n",
       "      <td>1615011</td>\n",
       "      <td>530809</td>\n",
       "      <td>862542</td>\n",
       "      <td>284450</td>\n",
       "      <td>549718</td>\n",
       "      <td>205613</td>\n",
       "      <td>246900</td>\n",
       "    </tr>\n",
       "  </tbody>\n",
       "</table>\n",
       "</div>"
      ],
      "text/plain": [
       "customer_profile   middle married dependants  middle single no dependants  \\\n",
       "order_day_of_week                                                           \n",
       "0.0                                  2203205                       747376   \n",
       "1.0                                  2024958                       683584   \n",
       "2.0                                  1512924                       507204   \n",
       "3.0                                  1374062                       460684   \n",
       "4.0                                  1361797                       455310   \n",
       "5.0                                  1502005                       519663   \n",
       "6.0                                  1615011                       530809   \n",
       "\n",
       "customer_profile   older married dependants  older single no dependants  \\\n",
       "order_day_of_week                                                         \n",
       "0.0                                 1181320                      386354   \n",
       "1.0                                 1070144                      348701   \n",
       "2.0                                  803672                      262477   \n",
       "3.0                                  735658                      243537   \n",
       "4.0                                  721829                      235174   \n",
       "5.0                                  803791                      263267   \n",
       "6.0                                  862542                      284450   \n",
       "\n",
       "customer_profile   younger married dependants  younger single dependants  \\\n",
       "order_day_of_week                                                          \n",
       "0.0                                    769902                     281111   \n",
       "1.0                                    698564                     259748   \n",
       "2.0                                    515804                     192581   \n",
       "3.0                                    470758                     174613   \n",
       "4.0                                    465143                     173406   \n",
       "5.0                                    520778                     195649   \n",
       "6.0                                    549718                     205613   \n",
       "\n",
       "customer_profile   younger single no dependants  \n",
       "order_day_of_week                                \n",
       "0.0                                      344720  \n",
       "1.0                                      331455  \n",
       "2.0                                      233899  \n",
       "3.0                                      213694  \n",
       "4.0                                      215667  \n",
       "5.0                                      232258  \n",
       "6.0                                      246900  "
      ]
     },
     "execution_count": 93,
     "metadata": {},
     "output_type": "execute_result"
    }
   ],
   "source": [
    "profile_day_cross"
   ]
  },
  {
   "cell_type": "code",
   "execution_count": 98,
   "id": "2c9de20c",
   "metadata": {},
   "outputs": [
    {
     "data": {
      "text/plain": [
       "<matplotlib.legend.Legend at 0x1cd7288add0>"
      ]
     },
     "execution_count": 98,
     "metadata": {},
     "output_type": "execute_result"
    },
    {
     "data": {
      "image/png": "[encoded data removed]",
      "text/plain": [
       "<Figure size 640x480 with 1 Axes>"
      ]
     },
     "metadata": {},
     "output_type": "display_data"
    }
   ],
   "source": [
    "#Graph of crosstab\n",
    "profile_day_bar = profile_day_cross.plot.bar(color=['#3a0ca3', '#7209b7', '#4361ee', '#7a7fe1', '#4cc9f0', '#e3a9ef', '#ffafcc'])\n",
    "plt.title('Customer Profile Number of Orders on Day of Week')\n",
    "plt.ylabel('Number of Orders (In Millions)')\n",
    "plt.xlabel('Day of Week')\n",
    "plt.legend(bbox_to_anchor=(1.0, 1.0))"
   ]
  },
  {
   "cell_type": "markdown",
   "id": "ffb1f802",
   "metadata": {},
   "source": [
    "### When customers under profile place an order during the day."
   ]
  },
  {
   "cell_type": "code",
   "execution_count": 100,
   "id": "058b808e",
   "metadata": {},
   "outputs": [],
   "source": [
    "#Creating crosstab of customer profile and hour of day\n",
    "profile_hour_cross = pd.crosstab(ords_prods_deps['order_hour_of_day'], ords_prods_deps['customer_profile'], dropna = False)"
   ]
  },
  {
   "cell_type": "code",
   "execution_count": 101,
   "id": "36dabf61",
   "metadata": {},
   "outputs": [
    {
     "data": {
      "text/html": [
       "<div>\n",
       "<style scoped>\n",
       "    .dataframe tbody tr th:only-of-type {\n",
       "        vertical-align: middle;\n",
       "    }\n",
       "\n",
       "    .dataframe tbody tr th {\n",
       "        vertical-align: top;\n",
       "    }\n",
       "\n",
       "    .dataframe thead th {\n",
       "        text-align: right;\n",
       "    }\n",
       "</style>\n",
       "<table border=\"1\" class=\"dataframe\">\n",
       "  <thead>\n",
       "    <tr style=\"text-align: right;\">\n",
       "      <th>customer_profile</th>\n",
       "      <th>middle married dependants</th>\n",
       "      <th>middle single no dependants</th>\n",
       "      <th>older married dependants</th>\n",
       "      <th>older single no dependants</th>\n",
       "      <th>younger married dependants</th>\n",
       "      <th>younger single dependants</th>\n",
       "      <th>younger single no dependants</th>\n",
       "    </tr>\n",
       "    <tr>\n",
       "      <th>order_hour_of_day</th>\n",
       "      <th></th>\n",
       "      <th></th>\n",
       "      <th></th>\n",
       "      <th></th>\n",
       "      <th></th>\n",
       "      <th></th>\n",
       "      <th></th>\n",
       "    </tr>\n",
       "  </thead>\n",
       "  <tbody>\n",
       "    <tr>\n",
       "      <th>0.0</th>\n",
       "      <td>77545</td>\n",
       "      <td>26962</td>\n",
       "      <td>41047</td>\n",
       "      <td>12388</td>\n",
       "      <td>27479</td>\n",
       "      <td>10668</td>\n",
       "      <td>12128</td>\n",
       "    </tr>\n",
       "    <tr>\n",
       "      <th>1.0</th>\n",
       "      <td>40686</td>\n",
       "      <td>14024</td>\n",
       "      <td>22199</td>\n",
       "      <td>6506</td>\n",
       "      <td>14510</td>\n",
       "      <td>5561</td>\n",
       "      <td>6220</td>\n",
       "    </tr>\n",
       "    <tr>\n",
       "      <th>2.0</th>\n",
       "      <td>23765</td>\n",
       "      <td>8163</td>\n",
       "      <td>12629</td>\n",
       "      <td>4840</td>\n",
       "      <td>9113</td>\n",
       "      <td>3491</td>\n",
       "      <td>3743</td>\n",
       "    </tr>\n",
       "    <tr>\n",
       "      <th>3.0</th>\n",
       "      <td>17575</td>\n",
       "      <td>6017</td>\n",
       "      <td>9788</td>\n",
       "      <td>3616</td>\n",
       "      <td>6549</td>\n",
       "      <td>2538</td>\n",
       "      <td>2752</td>\n",
       "    </tr>\n",
       "    <tr>\n",
       "      <th>4.0</th>\n",
       "      <td>18640</td>\n",
       "      <td>6329</td>\n",
       "      <td>10667</td>\n",
       "      <td>3020</td>\n",
       "      <td>6487</td>\n",
       "      <td>2798</td>\n",
       "      <td>2862</td>\n",
       "    </tr>\n",
       "    <tr>\n",
       "      <th>5.0</th>\n",
       "      <td>30856</td>\n",
       "      <td>10369</td>\n",
       "      <td>17298</td>\n",
       "      <td>6005</td>\n",
       "      <td>10704</td>\n",
       "      <td>4345</td>\n",
       "      <td>4938</td>\n",
       "    </tr>\n",
       "    <tr>\n",
       "      <th>6.0</th>\n",
       "      <td>102989</td>\n",
       "      <td>34567</td>\n",
       "      <td>56620</td>\n",
       "      <td>18679</td>\n",
       "      <td>35867</td>\n",
       "      <td>14883</td>\n",
       "      <td>17703</td>\n",
       "    </tr>\n",
       "    <tr>\n",
       "      <th>7.0</th>\n",
       "      <td>318311</td>\n",
       "      <td>110177</td>\n",
       "      <td>174160</td>\n",
       "      <td>59138</td>\n",
       "      <td>109004</td>\n",
       "      <td>42282</td>\n",
       "      <td>51011</td>\n",
       "    </tr>\n",
       "    <tr>\n",
       "      <th>8.0</th>\n",
       "      <td>618336</td>\n",
       "      <td>213140</td>\n",
       "      <td>333908</td>\n",
       "      <td>108026</td>\n",
       "      <td>216350</td>\n",
       "      <td>75915</td>\n",
       "      <td>95234</td>\n",
       "    </tr>\n",
       "    <tr>\n",
       "      <th>9.0</th>\n",
       "      <td>883813</td>\n",
       "      <td>297102</td>\n",
       "      <td>474729</td>\n",
       "      <td>152995</td>\n",
       "      <td>306421</td>\n",
       "      <td>110713</td>\n",
       "      <td>140301</td>\n",
       "    </tr>\n",
       "    <tr>\n",
       "      <th>10.0</th>\n",
       "      <td>993163</td>\n",
       "      <td>330314</td>\n",
       "      <td>529605</td>\n",
       "      <td>171056</td>\n",
       "      <td>346252</td>\n",
       "      <td>126776</td>\n",
       "      <td>155201</td>\n",
       "    </tr>\n",
       "    <tr>\n",
       "      <th>11.0</th>\n",
       "      <td>980607</td>\n",
       "      <td>327441</td>\n",
       "      <td>517979</td>\n",
       "      <td>170367</td>\n",
       "      <td>341079</td>\n",
       "      <td>125408</td>\n",
       "      <td>154407</td>\n",
       "    </tr>\n",
       "    <tr>\n",
       "      <th>12.0</th>\n",
       "      <td>938209</td>\n",
       "      <td>312538</td>\n",
       "      <td>497169</td>\n",
       "      <td>162914</td>\n",
       "      <td>322815</td>\n",
       "      <td>119208</td>\n",
       "      <td>145190</td>\n",
       "    </tr>\n",
       "    <tr>\n",
       "      <th>13.0</th>\n",
       "      <td>955101</td>\n",
       "      <td>320742</td>\n",
       "      <td>503341</td>\n",
       "      <td>165714</td>\n",
       "      <td>328518</td>\n",
       "      <td>122863</td>\n",
       "      <td>145298</td>\n",
       "    </tr>\n",
       "    <tr>\n",
       "      <th>14.0</th>\n",
       "      <td>961159</td>\n",
       "      <td>321842</td>\n",
       "      <td>513786</td>\n",
       "      <td>167861</td>\n",
       "      <td>332029</td>\n",
       "      <td>122822</td>\n",
       "      <td>150759</td>\n",
       "    </tr>\n",
       "    <tr>\n",
       "      <th>15.0</th>\n",
       "      <td>954693</td>\n",
       "      <td>319959</td>\n",
       "      <td>497224</td>\n",
       "      <td>166256</td>\n",
       "      <td>327576</td>\n",
       "      <td>121380</td>\n",
       "      <td>151211</td>\n",
       "    </tr>\n",
       "    <tr>\n",
       "      <th>16.0</th>\n",
       "      <td>899721</td>\n",
       "      <td>308823</td>\n",
       "      <td>478546</td>\n",
       "      <td>158539</td>\n",
       "      <td>310668</td>\n",
       "      <td>115899</td>\n",
       "      <td>143683</td>\n",
       "    </tr>\n",
       "    <tr>\n",
       "      <th>17.0</th>\n",
       "      <td>744653</td>\n",
       "      <td>250233</td>\n",
       "      <td>396681</td>\n",
       "      <td>128781</td>\n",
       "      <td>250119</td>\n",
       "      <td>95887</td>\n",
       "      <td>117757</td>\n",
       "    </tr>\n",
       "    <tr>\n",
       "      <th>18.0</th>\n",
       "      <td>586396</td>\n",
       "      <td>193840</td>\n",
       "      <td>315216</td>\n",
       "      <td>100132</td>\n",
       "      <td>193990</td>\n",
       "      <td>74506</td>\n",
       "      <td>88488</td>\n",
       "    </tr>\n",
       "    <tr>\n",
       "      <th>19.0</th>\n",
       "      <td>446646</td>\n",
       "      <td>148848</td>\n",
       "      <td>239665</td>\n",
       "      <td>79567</td>\n",
       "      <td>151288</td>\n",
       "      <td>57707</td>\n",
       "      <td>71210</td>\n",
       "    </tr>\n",
       "    <tr>\n",
       "      <th>20.0</th>\n",
       "      <td>348010</td>\n",
       "      <td>117693</td>\n",
       "      <td>184347</td>\n",
       "      <td>62218</td>\n",
       "      <td>120911</td>\n",
       "      <td>43712</td>\n",
       "      <td>54866</td>\n",
       "    </tr>\n",
       "    <tr>\n",
       "      <th>21.0</th>\n",
       "      <td>284939</td>\n",
       "      <td>95951</td>\n",
       "      <td>154302</td>\n",
       "      <td>50469</td>\n",
       "      <td>97838</td>\n",
       "      <td>35599</td>\n",
       "      <td>44723</td>\n",
       "    </tr>\n",
       "    <tr>\n",
       "      <th>22.0</th>\n",
       "      <td>224971</td>\n",
       "      <td>78655</td>\n",
       "      <td>120889</td>\n",
       "      <td>39891</td>\n",
       "      <td>78226</td>\n",
       "      <td>29019</td>\n",
       "      <td>35906</td>\n",
       "    </tr>\n",
       "    <tr>\n",
       "      <th>23.0</th>\n",
       "      <td>143178</td>\n",
       "      <td>50901</td>\n",
       "      <td>77161</td>\n",
       "      <td>24982</td>\n",
       "      <td>46874</td>\n",
       "      <td>18741</td>\n",
       "      <td>23002</td>\n",
       "    </tr>\n",
       "  </tbody>\n",
       "</table>\n",
       "</div>"
      ],
      "text/plain": [
       "customer_profile   middle married dependants  middle single no dependants  \\\n",
       "order_hour_of_day                                                           \n",
       "0.0                                    77545                        26962   \n",
       "1.0                                    40686                        14024   \n",
       "2.0                                    23765                         8163   \n",
       "3.0                                    17575                         6017   \n",
       "4.0                                    18640                         6329   \n",
       "5.0                                    30856                        10369   \n",
       "6.0                                   102989                        34567   \n",
       "7.0                                   318311                       110177   \n",
       "8.0                                   618336                       213140   \n",
       "9.0                                   883813                       297102   \n",
       "10.0                                  993163                       330314   \n",
       "11.0                                  980607                       327441   \n",
       "12.0                                  938209                       312538   \n",
       "13.0                                  955101                       320742   \n",
       "14.0                                  961159                       321842   \n",
       "15.0                                  954693                       319959   \n",
       "16.0                                  899721                       308823   \n",
       "17.0                                  744653                       250233   \n",
       "18.0                                  586396                       193840   \n",
       "19.0                                  446646                       148848   \n",
       "20.0                                  348010                       117693   \n",
       "21.0                                  284939                        95951   \n",
       "22.0                                  224971                        78655   \n",
       "23.0                                  143178                        50901   \n",
       "\n",
       "customer_profile   older married dependants  older single no dependants  \\\n",
       "order_hour_of_day                                                         \n",
       "0.0                                   41047                       12388   \n",
       "1.0                                   22199                        6506   \n",
       "2.0                                   12629                        4840   \n",
       "3.0                                    9788                        3616   \n",
       "4.0                                   10667                        3020   \n",
       "5.0                                   17298                        6005   \n",
       "6.0                                   56620                       18679   \n",
       "7.0                                  174160                       59138   \n",
       "8.0                                  333908                      108026   \n",
       "9.0                                  474729                      152995   \n",
       "10.0                                 529605                      171056   \n",
       "11.0                                 517979                      170367   \n",
       "12.0                                 497169                      162914   \n",
       "13.0                                 503341                      165714   \n",
       "14.0                                 513786                      167861   \n",
       "15.0                                 497224                      166256   \n",
       "16.0                                 478546                      158539   \n",
       "17.0                                 396681                      128781   \n",
       "18.0                                 315216                      100132   \n",
       "19.0                                 239665                       79567   \n",
       "20.0                                 184347                       62218   \n",
       "21.0                                 154302                       50469   \n",
       "22.0                                 120889                       39891   \n",
       "23.0                                  77161                       24982   \n",
       "\n",
       "customer_profile   younger married dependants  younger single dependants  \\\n",
       "order_hour_of_day                                                          \n",
       "0.0                                     27479                      10668   \n",
       "1.0                                     14510                       5561   \n",
       "2.0                                      9113                       3491   \n",
       "3.0                                      6549                       2538   \n",
       "4.0                                      6487                       2798   \n",
       "5.0                                     10704                       4345   \n",
       "6.0                                     35867                      14883   \n",
       "7.0                                    109004                      42282   \n",
       "8.0                                    216350                      75915   \n",
       "9.0                                    306421                     110713   \n",
       "10.0                                   346252                     126776   \n",
       "11.0                                   341079                     125408   \n",
       "12.0                                   322815                     119208   \n",
       "13.0                                   328518                     122863   \n",
       "14.0                                   332029                     122822   \n",
       "15.0                                   327576                     121380   \n",
       "16.0                                   310668                     115899   \n",
       "17.0                                   250119                      95887   \n",
       "18.0                                   193990                      74506   \n",
       "19.0                                   151288                      57707   \n",
       "20.0                                   120911                      43712   \n",
       "21.0                                    97838                      35599   \n",
       "22.0                                    78226                      29019   \n",
       "23.0                                    46874                      18741   \n",
       "\n",
       "customer_profile   younger single no dependants  \n",
       "order_hour_of_day                                \n",
       "0.0                                       12128  \n",
       "1.0                                        6220  \n",
       "2.0                                        3743  \n",
       "3.0                                        2752  \n",
       "4.0                                        2862  \n",
       "5.0                                        4938  \n",
       "6.0                                       17703  \n",
       "7.0                                       51011  \n",
       "8.0                                       95234  \n",
       "9.0                                      140301  \n",
       "10.0                                     155201  \n",
       "11.0                                     154407  \n",
       "12.0                                     145190  \n",
       "13.0                                     145298  \n",
       "14.0                                     150759  \n",
       "15.0                                     151211  \n",
       "16.0                                     143683  \n",
       "17.0                                     117757  \n",
       "18.0                                      88488  \n",
       "19.0                                      71210  \n",
       "20.0                                      54866  \n",
       "21.0                                      44723  \n",
       "22.0                                      35906  \n",
       "23.0                                      23002  "
      ]
     },
     "execution_count": 101,
     "metadata": {},
     "output_type": "execute_result"
    }
   ],
   "source": [
    "profile_hour_cross"
   ]
  },
  {
   "cell_type": "code",
   "execution_count": 104,
   "id": "40098110",
   "metadata": {},
   "outputs": [
    {
     "data": {
      "text/plain": [
       "<matplotlib.legend.Legend at 0x1cd732d5450>"
      ]
     },
     "execution_count": 104,
     "metadata": {},
     "output_type": "execute_result"
    },
    {
     "data": {
      "image/png": "[encoded data removed]",
      "text/plain": [
       "<Figure size 640x480 with 1 Axes>"
      ]
     },
     "metadata": {},
     "output_type": "display_data"
    }
   ],
   "source": [
    "#Graph of crosstab\n",
    "profile_hour_bar = profile_hour_cross.plot.bar(color=['#3a0ca3', '#7209b7', '#4361ee', '#7a7fe1', '#4cc9f0', '#e3a9ef', '#ffafcc'], stacked = True)\n",
    "plt.title('Customer Profile Number of Orders During Day')\n",
    "plt.ylabel('Number of Orders (In Millions)')\n",
    "plt.xlabel('Hour of Day')\n",
    "plt.legend(bbox_to_anchor=(1.0, 1.0))"
   ]
  },
  {
   "cell_type": "markdown",
   "id": "815e9bd9",
   "metadata": {},
   "source": [
    "## 06. Customer Profile Aggregates of Usage Frequency and Expenditure"
   ]
  },
  {
   "cell_type": "code",
   "execution_count": 110,
   "id": "0aea38f7",
   "metadata": {},
   "outputs": [
    {
     "data": {
      "text/html": [
       "<div>\n",
       "<style scoped>\n",
       "    .dataframe tbody tr th:only-of-type {\n",
       "        vertical-align: middle;\n",
       "    }\n",
       "\n",
       "    .dataframe tbody tr th {\n",
       "        vertical-align: top;\n",
       "    }\n",
       "\n",
       "    .dataframe thead tr th {\n",
       "        text-align: left;\n",
       "    }\n",
       "\n",
       "    .dataframe thead tr:last-of-type th {\n",
       "        text-align: right;\n",
       "    }\n",
       "</style>\n",
       "<table border=\"1\" class=\"dataframe\">\n",
       "  <thead>\n",
       "    <tr>\n",
       "      <th></th>\n",
       "      <th colspan=\"3\" halign=\"left\">order_number</th>\n",
       "    </tr>\n",
       "    <tr>\n",
       "      <th></th>\n",
       "      <th>mean</th>\n",
       "      <th>min</th>\n",
       "      <th>max</th>\n",
       "    </tr>\n",
       "    <tr>\n",
       "      <th>customer_profile</th>\n",
       "      <th></th>\n",
       "      <th></th>\n",
       "      <th></th>\n",
       "    </tr>\n",
       "  </thead>\n",
       "  <tbody>\n",
       "    <tr>\n",
       "      <th>middle married dependants</th>\n",
       "      <td>17.822905</td>\n",
       "      <td>1.0</td>\n",
       "      <td>99.0</td>\n",
       "    </tr>\n",
       "    <tr>\n",
       "      <th>middle single no dependants</th>\n",
       "      <td>18.152495</td>\n",
       "      <td>1.0</td>\n",
       "      <td>99.0</td>\n",
       "    </tr>\n",
       "    <tr>\n",
       "      <th>older married dependants</th>\n",
       "      <td>17.767168</td>\n",
       "      <td>1.0</td>\n",
       "      <td>99.0</td>\n",
       "    </tr>\n",
       "    <tr>\n",
       "      <th>older single no dependants</th>\n",
       "      <td>17.835287</td>\n",
       "      <td>1.0</td>\n",
       "      <td>99.0</td>\n",
       "    </tr>\n",
       "    <tr>\n",
       "      <th>younger married dependants</th>\n",
       "      <td>17.665013</td>\n",
       "      <td>1.0</td>\n",
       "      <td>99.0</td>\n",
       "    </tr>\n",
       "    <tr>\n",
       "      <th>younger single dependants</th>\n",
       "      <td>18.000231</td>\n",
       "      <td>1.0</td>\n",
       "      <td>99.0</td>\n",
       "    </tr>\n",
       "    <tr>\n",
       "      <th>younger single no dependants</th>\n",
       "      <td>17.677283</td>\n",
       "      <td>1.0</td>\n",
       "      <td>99.0</td>\n",
       "    </tr>\n",
       "  </tbody>\n",
       "</table>\n",
       "</div>"
      ],
      "text/plain": [
       "                             order_number           \n",
       "                                     mean  min   max\n",
       "customer_profile                                    \n",
       "middle married dependants       17.822905  1.0  99.0\n",
       "middle single no dependants     18.152495  1.0  99.0\n",
       "older married dependants        17.767168  1.0  99.0\n",
       "older single no dependants      17.835287  1.0  99.0\n",
       "younger married dependants      17.665013  1.0  99.0\n",
       "younger single dependants       18.000231  1.0  99.0\n",
       "younger single no dependants    17.677283  1.0  99.0"
      ]
     },
     "execution_count": 110,
     "metadata": {},
     "output_type": "execute_result"
    }
   ],
   "source": [
    "#Average, Min, and Max number of orders by customer_profile\n",
    "ords_prods_deps.groupby('customer_profile').agg({'order_number' : ['mean', 'min', 'max']})"
   ]
  },
  {
   "cell_type": "code",
   "execution_count": 111,
   "id": "459c2216",
   "metadata": {},
   "outputs": [
    {
     "data": {
      "text/html": [
       "<div>\n",
       "<style scoped>\n",
       "    .dataframe tbody tr th:only-of-type {\n",
       "        vertical-align: middle;\n",
       "    }\n",
       "\n",
       "    .dataframe tbody tr th {\n",
       "        vertical-align: top;\n",
       "    }\n",
       "\n",
       "    .dataframe thead tr th {\n",
       "        text-align: left;\n",
       "    }\n",
       "\n",
       "    .dataframe thead tr:last-of-type th {\n",
       "        text-align: right;\n",
       "    }\n",
       "</style>\n",
       "<table border=\"1\" class=\"dataframe\">\n",
       "  <thead>\n",
       "    <tr>\n",
       "      <th></th>\n",
       "      <th colspan=\"3\" halign=\"left\">prices</th>\n",
       "    </tr>\n",
       "    <tr>\n",
       "      <th></th>\n",
       "      <th>mean</th>\n",
       "      <th>min</th>\n",
       "      <th>max</th>\n",
       "    </tr>\n",
       "    <tr>\n",
       "      <th>customer_profile</th>\n",
       "      <th></th>\n",
       "      <th></th>\n",
       "      <th></th>\n",
       "    </tr>\n",
       "  </thead>\n",
       "  <tbody>\n",
       "    <tr>\n",
       "      <th>middle married dependants</th>\n",
       "      <td>7.790622</td>\n",
       "      <td>1.0</td>\n",
       "      <td>25.0</td>\n",
       "    </tr>\n",
       "    <tr>\n",
       "      <th>middle single no dependants</th>\n",
       "      <td>7.790212</td>\n",
       "      <td>1.0</td>\n",
       "      <td>25.0</td>\n",
       "    </tr>\n",
       "    <tr>\n",
       "      <th>older married dependants</th>\n",
       "      <td>7.794990</td>\n",
       "      <td>1.0</td>\n",
       "      <td>25.0</td>\n",
       "    </tr>\n",
       "    <tr>\n",
       "      <th>older single no dependants</th>\n",
       "      <td>7.801982</td>\n",
       "      <td>1.0</td>\n",
       "      <td>25.0</td>\n",
       "    </tr>\n",
       "    <tr>\n",
       "      <th>younger married dependants</th>\n",
       "      <td>7.781983</td>\n",
       "      <td>1.0</td>\n",
       "      <td>25.0</td>\n",
       "    </tr>\n",
       "    <tr>\n",
       "      <th>younger single dependants</th>\n",
       "      <td>7.800604</td>\n",
       "      <td>1.0</td>\n",
       "      <td>25.0</td>\n",
       "    </tr>\n",
       "    <tr>\n",
       "      <th>younger single no dependants</th>\n",
       "      <td>7.774294</td>\n",
       "      <td>1.0</td>\n",
       "      <td>25.0</td>\n",
       "    </tr>\n",
       "  </tbody>\n",
       "</table>\n",
       "</div>"
      ],
      "text/plain": [
       "                                prices           \n",
       "                                  mean  min   max\n",
       "customer_profile                                 \n",
       "middle married dependants     7.790622  1.0  25.0\n",
       "middle single no dependants   7.790212  1.0  25.0\n",
       "older married dependants      7.794990  1.0  25.0\n",
       "older single no dependants    7.801982  1.0  25.0\n",
       "younger married dependants    7.781983  1.0  25.0\n",
       "younger single dependants     7.800604  1.0  25.0\n",
       "younger single no dependants  7.774294  1.0  25.0"
      ]
     },
     "execution_count": 111,
     "metadata": {},
     "output_type": "execute_result"
    }
   ],
   "source": [
    "#Average, Min, and Max revenue by customer_profile\n",
    "ords_prods_deps.groupby('customer_profile').agg({'prices' : ['mean', 'min', 'max']})"
   ]
  },
  {
   "cell_type": "markdown",
   "id": "0b707f39",
   "metadata": {},
   "source": [
    "## 07. Customer Profile and Income"
   ]
  },
  {
   "cell_type": "code",
   "execution_count": 117,
   "id": "e05ab88d",
   "metadata": {},
   "outputs": [],
   "source": [
    "#Creating crosstab of customer profile and income\n",
    "profile_income_cross = pd.crosstab(ords_prods_deps['customer_profile'], ords_prods_deps['income_group'], dropna = False)"
   ]
  },
  {
   "cell_type": "code",
   "execution_count": 118,
   "id": "5594e08d",
   "metadata": {},
   "outputs": [
    {
     "data": {
      "text/html": [
       "<div>\n",
       "<style scoped>\n",
       "    .dataframe tbody tr th:only-of-type {\n",
       "        vertical-align: middle;\n",
       "    }\n",
       "\n",
       "    .dataframe tbody tr th {\n",
       "        vertical-align: top;\n",
       "    }\n",
       "\n",
       "    .dataframe thead th {\n",
       "        text-align: right;\n",
       "    }\n",
       "</style>\n",
       "<table border=\"1\" class=\"dataframe\">\n",
       "  <thead>\n",
       "    <tr style=\"text-align: right;\">\n",
       "      <th>income_group</th>\n",
       "      <th>High income</th>\n",
       "      <th>Low income</th>\n",
       "      <th>Medium-high income</th>\n",
       "      <th>Medium-low income</th>\n",
       "    </tr>\n",
       "    <tr>\n",
       "      <th>customer_profile</th>\n",
       "      <th></th>\n",
       "      <th></th>\n",
       "      <th></th>\n",
       "      <th></th>\n",
       "    </tr>\n",
       "  </thead>\n",
       "  <tbody>\n",
       "    <tr>\n",
       "      <th>middle married dependants</th>\n",
       "      <td>3369925</td>\n",
       "      <td>2480879</td>\n",
       "      <td>3277105</td>\n",
       "      <td>2466053</td>\n",
       "    </tr>\n",
       "    <tr>\n",
       "      <th>middle single no dependants</th>\n",
       "      <td>1155831</td>\n",
       "      <td>831279</td>\n",
       "      <td>1098473</td>\n",
       "      <td>819047</td>\n",
       "    </tr>\n",
       "    <tr>\n",
       "      <th>older married dependants</th>\n",
       "      <td>2369027</td>\n",
       "      <td>804050</td>\n",
       "      <td>2169663</td>\n",
       "      <td>836216</td>\n",
       "    </tr>\n",
       "    <tr>\n",
       "      <th>older single no dependants</th>\n",
       "      <td>771359</td>\n",
       "      <td>251136</td>\n",
       "      <td>726954</td>\n",
       "      <td>274511</td>\n",
       "    </tr>\n",
       "    <tr>\n",
       "      <th>younger married dependants</th>\n",
       "      <td>45230</td>\n",
       "      <td>1866972</td>\n",
       "      <td>257884</td>\n",
       "      <td>1820581</td>\n",
       "    </tr>\n",
       "    <tr>\n",
       "      <th>younger single dependants</th>\n",
       "      <td>17785</td>\n",
       "      <td>664686</td>\n",
       "      <td>94661</td>\n",
       "      <td>705589</td>\n",
       "    </tr>\n",
       "    <tr>\n",
       "      <th>younger single no dependants</th>\n",
       "      <td>19085</td>\n",
       "      <td>849454</td>\n",
       "      <td>122601</td>\n",
       "      <td>827453</td>\n",
       "    </tr>\n",
       "  </tbody>\n",
       "</table>\n",
       "</div>"
      ],
      "text/plain": [
       "income_group                  High income  Low income  Medium-high income  \\\n",
       "customer_profile                                                            \n",
       "middle married dependants         3369925     2480879             3277105   \n",
       "middle single no dependants       1155831      831279             1098473   \n",
       "older married dependants          2369027      804050             2169663   \n",
       "older single no dependants         771359      251136              726954   \n",
       "younger married dependants          45230     1866972              257884   \n",
       "younger single dependants           17785      664686               94661   \n",
       "younger single no dependants        19085      849454              122601   \n",
       "\n",
       "income_group                  Medium-low income  \n",
       "customer_profile                                 \n",
       "middle married dependants               2466053  \n",
       "middle single no dependants              819047  \n",
       "older married dependants                 836216  \n",
       "older single no dependants               274511  \n",
       "younger married dependants              1820581  \n",
       "younger single dependants                705589  \n",
       "younger single no dependants             827453  "
      ]
     },
     "execution_count": 118,
     "metadata": {},
     "output_type": "execute_result"
    }
   ],
   "source": [
    "profile_income_cross"
   ]
  },
  {
   "cell_type": "code",
   "execution_count": 123,
   "id": "26f83f76",
   "metadata": {},
   "outputs": [
    {
     "data": {
      "text/plain": [
       "<matplotlib.legend.Legend at 0x1cd8a8ea650>"
      ]
     },
     "execution_count": 123,
     "metadata": {},
     "output_type": "execute_result"
    },
    {
     "data": {
      "image/png": "[encoded data removed]",
      "text/plain": [
       "<Figure size 640x480 with 1 Axes>"
      ]
     },
     "metadata": {},
     "output_type": "display_data"
    }
   ],
   "source": [
    "#Creating graph of crosstab\n",
    "profile_income_bar = profile_income_cross.plot.bar(color=['#3a0ca3', '#7209b7', '#4361ee', '#7a7fe1', '#4cc9f0', '#e3a9ef', '#ffafcc'], stacked = True)\n",
    "plt.title('Income by Customer Profile')\n",
    "plt.ylabel('Income (In Ten Millions)')\n",
    "plt.xlabel('Customer Profile')\n",
    "plt.legend(bbox_to_anchor=(1.0, 1.0))"
   ]
  },
  {
   "cell_type": "markdown",
   "id": "fc850a4a",
   "metadata": {},
   "source": [
    "## 08. Customer Profile With Regions and Departments"
   ]
  },
  {
   "cell_type": "code",
   "execution_count": 129,
   "id": "53e08a36",
   "metadata": {},
   "outputs": [],
   "source": [
    "#Creating crosstab of customer profile and regions\n",
    "profile_region_cross = pd.crosstab(ords_prods_deps['region'], ords_prods_deps['customer_profile'], dropna = False)"
   ]
  },
  {
   "cell_type": "code",
   "execution_count": 130,
   "id": "9d96d5fe",
   "metadata": {},
   "outputs": [
    {
     "data": {
      "text/html": [
       "<div>\n",
       "<style scoped>\n",
       "    .dataframe tbody tr th:only-of-type {\n",
       "        vertical-align: middle;\n",
       "    }\n",
       "\n",
       "    .dataframe tbody tr th {\n",
       "        vertical-align: top;\n",
       "    }\n",
       "\n",
       "    .dataframe thead th {\n",
       "        text-align: right;\n",
       "    }\n",
       "</style>\n",
       "<table border=\"1\" class=\"dataframe\">\n",
       "  <thead>\n",
       "    <tr style=\"text-align: right;\">\n",
       "      <th>customer_profile</th>\n",
       "      <th>middle married dependants</th>\n",
       "      <th>middle single no dependants</th>\n",
       "      <th>older married dependants</th>\n",
       "      <th>older single no dependants</th>\n",
       "      <th>younger married dependants</th>\n",
       "      <th>younger single dependants</th>\n",
       "      <th>younger single no dependants</th>\n",
       "    </tr>\n",
       "    <tr>\n",
       "      <th>region</th>\n",
       "      <th></th>\n",
       "      <th></th>\n",
       "      <th></th>\n",
       "      <th></th>\n",
       "      <th></th>\n",
       "      <th></th>\n",
       "      <th></th>\n",
       "    </tr>\n",
       "  </thead>\n",
       "  <tbody>\n",
       "    <tr>\n",
       "      <th>Midwest</th>\n",
       "      <td>2729531</td>\n",
       "      <td>945440</td>\n",
       "      <td>1435015</td>\n",
       "      <td>470487</td>\n",
       "      <td>927126</td>\n",
       "      <td>351719</td>\n",
       "      <td>408584</td>\n",
       "    </tr>\n",
       "    <tr>\n",
       "      <th>Northeast</th>\n",
       "      <td>2051117</td>\n",
       "      <td>641233</td>\n",
       "      <td>1107039</td>\n",
       "      <td>379235</td>\n",
       "      <td>699375</td>\n",
       "      <td>256791</td>\n",
       "      <td>335374</td>\n",
       "    </tr>\n",
       "    <tr>\n",
       "      <th>South</th>\n",
       "      <td>3854528</td>\n",
       "      <td>1303718</td>\n",
       "      <td>2052581</td>\n",
       "      <td>658321</td>\n",
       "      <td>1323290</td>\n",
       "      <td>505953</td>\n",
       "      <td>622440</td>\n",
       "    </tr>\n",
       "    <tr>\n",
       "      <th>West</th>\n",
       "      <td>2958786</td>\n",
       "      <td>1014239</td>\n",
       "      <td>1584321</td>\n",
       "      <td>515917</td>\n",
       "      <td>1040876</td>\n",
       "      <td>368258</td>\n",
       "      <td>452195</td>\n",
       "    </tr>\n",
       "  </tbody>\n",
       "</table>\n",
       "</div>"
      ],
      "text/plain": [
       "customer_profile  middle married dependants  middle single no dependants  \\\n",
       "region                                                                     \n",
       "Midwest                             2729531                       945440   \n",
       "Northeast                           2051117                       641233   \n",
       "South                               3854528                      1303718   \n",
       "West                                2958786                      1014239   \n",
       "\n",
       "customer_profile  older married dependants  older single no dependants  \\\n",
       "region                                                                   \n",
       "Midwest                            1435015                      470487   \n",
       "Northeast                          1107039                      379235   \n",
       "South                              2052581                      658321   \n",
       "West                               1584321                      515917   \n",
       "\n",
       "customer_profile  younger married dependants  younger single dependants  \\\n",
       "region                                                                    \n",
       "Midwest                               927126                     351719   \n",
       "Northeast                             699375                     256791   \n",
       "South                                1323290                     505953   \n",
       "West                                 1040876                     368258   \n",
       "\n",
       "customer_profile  younger single no dependants  \n",
       "region                                          \n",
       "Midwest                                 408584  \n",
       "Northeast                               335374  \n",
       "South                                   622440  \n",
       "West                                    452195  "
      ]
     },
     "execution_count": 130,
     "metadata": {},
     "output_type": "execute_result"
    }
   ],
   "source": [
    "profile_region_cross"
   ]
  },
  {
   "cell_type": "code",
   "execution_count": 132,
   "id": "6d2409e6",
   "metadata": {},
   "outputs": [
    {
     "data": {
      "text/plain": [
       "<matplotlib.legend.Legend at 0x1cd8ad95e50>"
      ]
     },
     "execution_count": 132,
     "metadata": {},
     "output_type": "execute_result"
    },
    {
     "data": {
      "image/png": "[encoded data removed]",
      "text/plain": [
       "<Figure size 640x480 with 1 Axes>"
      ]
     },
     "metadata": {},
     "output_type": "display_data"
    }
   ],
   "source": [
    "#Creating graph of crosstab\n",
    "profile_region_bar = profile_region_cross.plot.bar(color=['#3a0ca3', '#7209b7', '#4361ee', '#7a7fe1', '#4cc9f0', '#e3a9ef', '#ffafcc'], stacked = True)\n",
    "plt.title('Customer Profile by Region')\n",
    "plt.ylabel('Number of Customers (In Ten Millions)')\n",
    "plt.xlabel('Region')\n",
    "plt.legend(bbox_to_anchor=(1.0, 1.0))"
   ]
  },
  {
   "cell_type": "code",
   "execution_count": 143,
   "id": "a775af74",
   "metadata": {},
   "outputs": [],
   "source": [
    "#Creating crosstab of customer profile and departments\n",
    "profile_dep_cross = pd.crosstab(ords_prods_deps['department'], ords_prods_deps['customer_profile'], dropna = False)"
   ]
  },
  {
   "cell_type": "code",
   "execution_count": 144,
   "id": "a0a3a8ab",
   "metadata": {},
   "outputs": [
    {
     "data": {
      "text/html": [
       "<div>\n",
       "<style scoped>\n",
       "    .dataframe tbody tr th:only-of-type {\n",
       "        vertical-align: middle;\n",
       "    }\n",
       "\n",
       "    .dataframe tbody tr th {\n",
       "        vertical-align: top;\n",
       "    }\n",
       "\n",
       "    .dataframe thead th {\n",
       "        text-align: right;\n",
       "    }\n",
       "</style>\n",
       "<table border=\"1\" class=\"dataframe\">\n",
       "  <thead>\n",
       "    <tr style=\"text-align: right;\">\n",
       "      <th>customer_profile</th>\n",
       "      <th>middle married dependants</th>\n",
       "      <th>middle single no dependants</th>\n",
       "      <th>older married dependants</th>\n",
       "      <th>older single no dependants</th>\n",
       "      <th>younger married dependants</th>\n",
       "      <th>younger single dependants</th>\n",
       "      <th>younger single no dependants</th>\n",
       "    </tr>\n",
       "    <tr>\n",
       "      <th>department</th>\n",
       "      <th></th>\n",
       "      <th></th>\n",
       "      <th></th>\n",
       "      <th></th>\n",
       "      <th></th>\n",
       "      <th></th>\n",
       "      <th></th>\n",
       "    </tr>\n",
       "  </thead>\n",
       "  <tbody>\n",
       "    <tr>\n",
       "      <th>alcohol</th>\n",
       "      <td>52934</td>\n",
       "      <td>19606</td>\n",
       "      <td>27554</td>\n",
       "      <td>9139</td>\n",
       "      <td>18933</td>\n",
       "      <td>8379</td>\n",
       "      <td>8082</td>\n",
       "    </tr>\n",
       "    <tr>\n",
       "      <th>babies</th>\n",
       "      <td>157210</td>\n",
       "      <td>51893</td>\n",
       "      <td>80312</td>\n",
       "      <td>25892</td>\n",
       "      <td>50161</td>\n",
       "      <td>19381</td>\n",
       "      <td>25543</td>\n",
       "    </tr>\n",
       "    <tr>\n",
       "      <th>bakery</th>\n",
       "      <td>418787</td>\n",
       "      <td>142672</td>\n",
       "      <td>223579</td>\n",
       "      <td>72418</td>\n",
       "      <td>143383</td>\n",
       "      <td>53684</td>\n",
       "      <td>66305</td>\n",
       "    </tr>\n",
       "    <tr>\n",
       "      <th>beverages</th>\n",
       "      <td>961795</td>\n",
       "      <td>326477</td>\n",
       "      <td>515378</td>\n",
       "      <td>168642</td>\n",
       "      <td>330280</td>\n",
       "      <td>119107</td>\n",
       "      <td>150222</td>\n",
       "    </tr>\n",
       "    <tr>\n",
       "      <th>breakfast</th>\n",
       "      <td>251522</td>\n",
       "      <td>84613</td>\n",
       "      <td>132810</td>\n",
       "      <td>42486</td>\n",
       "      <td>86888</td>\n",
       "      <td>33198</td>\n",
       "      <td>39333</td>\n",
       "    </tr>\n",
       "    <tr>\n",
       "      <th>bulk</th>\n",
       "      <td>12598</td>\n",
       "      <td>3937</td>\n",
       "      <td>6851</td>\n",
       "      <td>2094</td>\n",
       "      <td>4369</td>\n",
       "      <td>1633</td>\n",
       "      <td>1969</td>\n",
       "    </tr>\n",
       "    <tr>\n",
       "      <th>canned goods</th>\n",
       "      <td>377645</td>\n",
       "      <td>126858</td>\n",
       "      <td>202766</td>\n",
       "      <td>64743</td>\n",
       "      <td>132166</td>\n",
       "      <td>48477</td>\n",
       "      <td>59419</td>\n",
       "    </tr>\n",
       "    <tr>\n",
       "      <th>dairy eggs</th>\n",
       "      <td>1932019</td>\n",
       "      <td>651753</td>\n",
       "      <td>1029272</td>\n",
       "      <td>338800</td>\n",
       "      <td>671309</td>\n",
       "      <td>250207</td>\n",
       "      <td>303823</td>\n",
       "    </tr>\n",
       "    <tr>\n",
       "      <th>deli</th>\n",
       "      <td>374168</td>\n",
       "      <td>129526</td>\n",
       "      <td>199831</td>\n",
       "      <td>65368</td>\n",
       "      <td>128334</td>\n",
       "      <td>48119</td>\n",
       "      <td>58488</td>\n",
       "    </tr>\n",
       "    <tr>\n",
       "      <th>dry goods pasta</th>\n",
       "      <td>307871</td>\n",
       "      <td>102141</td>\n",
       "      <td>164020</td>\n",
       "      <td>53296</td>\n",
       "      <td>106407</td>\n",
       "      <td>39542</td>\n",
       "      <td>48859</td>\n",
       "    </tr>\n",
       "    <tr>\n",
       "      <th>frozen</th>\n",
       "      <td>793931</td>\n",
       "      <td>266826</td>\n",
       "      <td>423146</td>\n",
       "      <td>141104</td>\n",
       "      <td>272314</td>\n",
       "      <td>102993</td>\n",
       "      <td>121418</td>\n",
       "    </tr>\n",
       "    <tr>\n",
       "      <th>household</th>\n",
       "      <td>264771</td>\n",
       "      <td>85479</td>\n",
       "      <td>141616</td>\n",
       "      <td>45014</td>\n",
       "      <td>88764</td>\n",
       "      <td>33349</td>\n",
       "      <td>40865</td>\n",
       "    </tr>\n",
       "    <tr>\n",
       "      <th>international</th>\n",
       "      <td>95503</td>\n",
       "      <td>32369</td>\n",
       "      <td>50686</td>\n",
       "      <td>16513</td>\n",
       "      <td>32947</td>\n",
       "      <td>12394</td>\n",
       "      <td>15579</td>\n",
       "    </tr>\n",
       "    <tr>\n",
       "      <th>meat seafood</th>\n",
       "      <td>252311</td>\n",
       "      <td>83151</td>\n",
       "      <td>136819</td>\n",
       "      <td>44331</td>\n",
       "      <td>87429</td>\n",
       "      <td>32344</td>\n",
       "      <td>38396</td>\n",
       "    </tr>\n",
       "    <tr>\n",
       "      <th>missing</th>\n",
       "      <td>24223</td>\n",
       "      <td>7914</td>\n",
       "      <td>12932</td>\n",
       "      <td>3983</td>\n",
       "      <td>8361</td>\n",
       "      <td>3317</td>\n",
       "      <td>4038</td>\n",
       "    </tr>\n",
       "    <tr>\n",
       "      <th>other</th>\n",
       "      <td>12568</td>\n",
       "      <td>4476</td>\n",
       "      <td>6791</td>\n",
       "      <td>2155</td>\n",
       "      <td>4523</td>\n",
       "      <td>1815</td>\n",
       "      <td>2083</td>\n",
       "    </tr>\n",
       "    <tr>\n",
       "      <th>pantry</th>\n",
       "      <td>667909</td>\n",
       "      <td>223523</td>\n",
       "      <td>356648</td>\n",
       "      <td>115735</td>\n",
       "      <td>228399</td>\n",
       "      <td>85845</td>\n",
       "      <td>104646</td>\n",
       "    </tr>\n",
       "    <tr>\n",
       "      <th>personal care</th>\n",
       "      <td>160999</td>\n",
       "      <td>52769</td>\n",
       "      <td>82961</td>\n",
       "      <td>28091</td>\n",
       "      <td>53940</td>\n",
       "      <td>20201</td>\n",
       "      <td>25345</td>\n",
       "    </tr>\n",
       "    <tr>\n",
       "      <th>pets</th>\n",
       "      <td>34332</td>\n",
       "      <td>11128</td>\n",
       "      <td>18349</td>\n",
       "      <td>6766</td>\n",
       "      <td>11439</td>\n",
       "      <td>5338</td>\n",
       "      <td>5708</td>\n",
       "    </tr>\n",
       "    <tr>\n",
       "      <th>produce</th>\n",
       "      <td>3394017</td>\n",
       "      <td>1145036</td>\n",
       "      <td>1813012</td>\n",
       "      <td>595092</td>\n",
       "      <td>1166266</td>\n",
       "      <td>430539</td>\n",
       "      <td>535314</td>\n",
       "    </tr>\n",
       "    <tr>\n",
       "      <th>snacks</th>\n",
       "      <td>1035811</td>\n",
       "      <td>348821</td>\n",
       "      <td>548253</td>\n",
       "      <td>180296</td>\n",
       "      <td>360594</td>\n",
       "      <td>131310</td>\n",
       "      <td>161321</td>\n",
       "    </tr>\n",
       "    <tr>\n",
       "      <th>NaN</th>\n",
       "      <td>11038</td>\n",
       "      <td>3662</td>\n",
       "      <td>5370</td>\n",
       "      <td>2002</td>\n",
       "      <td>3461</td>\n",
       "      <td>1549</td>\n",
       "      <td>1837</td>\n",
       "    </tr>\n",
       "  </tbody>\n",
       "</table>\n",
       "</div>"
      ],
      "text/plain": [
       "customer_profile  middle married dependants  middle single no dependants  \\\n",
       "department                                                                 \n",
       "alcohol                               52934                        19606   \n",
       "babies                               157210                        51893   \n",
       "bakery                               418787                       142672   \n",
       "beverages                            961795                       326477   \n",
       "breakfast                            251522                        84613   \n",
       "bulk                                  12598                         3937   \n",
       "canned goods                         377645                       126858   \n",
       "dairy eggs                          1932019                       651753   \n",
       "deli                                 374168                       129526   \n",
       "dry goods pasta                      307871                       102141   \n",
       "frozen                               793931                       266826   \n",
       "household                            264771                        85479   \n",
       "international                         95503                        32369   \n",
       "meat seafood                         252311                        83151   \n",
       "missing                               24223                         7914   \n",
       "other                                 12568                         4476   \n",
       "pantry                               667909                       223523   \n",
       "personal care                        160999                        52769   \n",
       "pets                                  34332                        11128   \n",
       "produce                             3394017                      1145036   \n",
       "snacks                              1035811                       348821   \n",
       "NaN                                   11038                         3662   \n",
       "\n",
       "customer_profile  older married dependants  older single no dependants  \\\n",
       "department                                                               \n",
       "alcohol                              27554                        9139   \n",
       "babies                               80312                       25892   \n",
       "bakery                              223579                       72418   \n",
       "beverages                           515378                      168642   \n",
       "breakfast                           132810                       42486   \n",
       "bulk                                  6851                        2094   \n",
       "canned goods                        202766                       64743   \n",
       "dairy eggs                         1029272                      338800   \n",
       "deli                                199831                       65368   \n",
       "dry goods pasta                     164020                       53296   \n",
       "frozen                              423146                      141104   \n",
       "household                           141616                       45014   \n",
       "international                        50686                       16513   \n",
       "meat seafood                        136819                       44331   \n",
       "missing                              12932                        3983   \n",
       "other                                 6791                        2155   \n",
       "pantry                              356648                      115735   \n",
       "personal care                        82961                       28091   \n",
       "pets                                 18349                        6766   \n",
       "produce                            1813012                      595092   \n",
       "snacks                              548253                      180296   \n",
       "NaN                                   5370                        2002   \n",
       "\n",
       "customer_profile  younger married dependants  younger single dependants  \\\n",
       "department                                                                \n",
       "alcohol                                18933                       8379   \n",
       "babies                                 50161                      19381   \n",
       "bakery                                143383                      53684   \n",
       "beverages                             330280                     119107   \n",
       "breakfast                              86888                      33198   \n",
       "bulk                                    4369                       1633   \n",
       "canned goods                          132166                      48477   \n",
       "dairy eggs                            671309                     250207   \n",
       "deli                                  128334                      48119   \n",
       "dry goods pasta                       106407                      39542   \n",
       "frozen                                272314                     102993   \n",
       "household                              88764                      33349   \n",
       "international                          32947                      12394   \n",
       "meat seafood                           87429                      32344   \n",
       "missing                                 8361                       3317   \n",
       "other                                   4523                       1815   \n",
       "pantry                                228399                      85845   \n",
       "personal care                          53940                      20201   \n",
       "pets                                   11439                       5338   \n",
       "produce                              1166266                     430539   \n",
       "snacks                                360594                     131310   \n",
       "NaN                                     3461                       1549   \n",
       "\n",
       "customer_profile  younger single no dependants  \n",
       "department                                      \n",
       "alcohol                                   8082  \n",
       "babies                                   25543  \n",
       "bakery                                   66305  \n",
       "beverages                               150222  \n",
       "breakfast                                39333  \n",
       "bulk                                      1969  \n",
       "canned goods                             59419  \n",
       "dairy eggs                              303823  \n",
       "deli                                     58488  \n",
       "dry goods pasta                          48859  \n",
       "frozen                                  121418  \n",
       "household                                40865  \n",
       "international                            15579  \n",
       "meat seafood                             38396  \n",
       "missing                                   4038  \n",
       "other                                     2083  \n",
       "pantry                                  104646  \n",
       "personal care                            25345  \n",
       "pets                                      5708  \n",
       "produce                                 535314  \n",
       "snacks                                  161321  \n",
       "NaN                                       1837  "
      ]
     },
     "execution_count": 144,
     "metadata": {},
     "output_type": "execute_result"
    }
   ],
   "source": [
    "profile_dep_cross"
   ]
  },
  {
   "cell_type": "code",
   "execution_count": 155,
   "id": "fd22181a",
   "metadata": {},
   "outputs": [
    {
     "data": {
      "text/plain": [
       "<matplotlib.legend.Legend at 0x1cd8e11a310>"
      ]
     },
     "execution_count": 155,
     "metadata": {},
     "output_type": "execute_result"
    },
    {
     "data": {
      "image/png": "[encoded data removed]",
      "text/plain": [
       "<Figure size 640x480 with 1 Axes>"
      ]
     },
     "metadata": {},
     "output_type": "display_data"
    }
   ],
   "source": [
    "#Creating graph of crosstab\n",
    "profile_dep_bar = profile_dep_cross.sort_values(by='middle married dependants', ascending=True).plot.barh(color=['#3a0ca3', '#7209b7', '#4361ee', '#7a7fe1', '#4cc9f0', '#e3a9ef', '#ffafcc'], stacked = True)\n",
    "plt.title('Customer Profile by Department')\n",
    "plt.ylabel('Department')\n",
    "plt.xlabel('Number of Orders (In Millions)')\n",
    "plt.legend(bbox_to_anchor=(1.0, 1.0))"
   ]
  },
  {
   "cell_type": "markdown",
   "id": "57e4407f",
   "metadata": {},
   "source": [
    "## 09. Remaining Visuals"
   ]
  },
  {
   "cell_type": "markdown",
   "id": "dfd21aa1",
   "metadata": {},
   "source": [
    "### Frequency count of customer profile."
   ]
  },
  {
   "cell_type": "code",
   "execution_count": 107,
   "id": "929a2e91",
   "metadata": {},
   "outputs": [
    {
     "data": {
      "text/plain": [
       "Text(0.5, 0, 'Customer Profile')"
      ]
     },
     "execution_count": 107,
     "metadata": {},
     "output_type": "execute_result"
    },
    {
     "data": {
      "image/png": "[encoded data removed]",
      "text/plain": [
       "<Figure size 640x480 with 1 Axes>"
      ]
     },
     "metadata": {},
     "output_type": "display_data"
    }
   ],
   "source": [
    "profile_bar = ords_prods_deps['customer_profile'].value_counts().sort_index().plot.bar()\n",
    "plt.title('Count of Customers in Customer Profiles')\n",
    "plt.ylabel('Number of Customers (In Ten Millions)')\n",
    "plt.xlabel('Customer Profile')"
   ]
  },
  {
   "cell_type": "markdown",
   "id": "711e16fb",
   "metadata": {},
   "source": [
    "### Loyalty customers order habbits."
   ]
  },
  {
   "cell_type": "code",
   "execution_count": 60,
   "id": "661625f5",
   "metadata": {},
   "outputs": [],
   "source": [
    "#Creating crosstab of loyalty and frequency\n",
    "loyalty_freq_cross = pd.crosstab(ords_prods_deps['loyalty_flag'], ords_prods_deps['frequency_flag'], dropna = False)"
   ]
  },
  {
   "cell_type": "code",
   "execution_count": 61,
   "id": "f5b17359",
   "metadata": {},
   "outputs": [
    {
     "data": {
      "text/html": [
       "<div>\n",
       "<style scoped>\n",
       "    .dataframe tbody tr th:only-of-type {\n",
       "        vertical-align: middle;\n",
       "    }\n",
       "\n",
       "    .dataframe tbody tr th {\n",
       "        vertical-align: top;\n",
       "    }\n",
       "\n",
       "    .dataframe thead th {\n",
       "        text-align: right;\n",
       "    }\n",
       "</style>\n",
       "<table border=\"1\" class=\"dataframe\">\n",
       "  <thead>\n",
       "    <tr style=\"text-align: right;\">\n",
       "      <th>frequency_flag</th>\n",
       "      <th>Frequent Customer</th>\n",
       "      <th>Non-frequent Customer</th>\n",
       "      <th>Regular Customer</th>\n",
       "    </tr>\n",
       "    <tr>\n",
       "      <th>loyalty_flag</th>\n",
       "      <th></th>\n",
       "      <th></th>\n",
       "      <th></th>\n",
       "    </tr>\n",
       "  </thead>\n",
       "  <tbody>\n",
       "    <tr>\n",
       "      <th>Loyal Customer</th>\n",
       "      <td>699445</td>\n",
       "      <td>5336152</td>\n",
       "      <td>4258430</td>\n",
       "    </tr>\n",
       "    <tr>\n",
       "      <th>New Customer</th>\n",
       "      <td>205506</td>\n",
       "      <td>4038836</td>\n",
       "      <td>563613</td>\n",
       "    </tr>\n",
       "    <tr>\n",
       "      <th>Regular Customer</th>\n",
       "      <td>334246</td>\n",
       "      <td>14073920</td>\n",
       "      <td>1483341</td>\n",
       "    </tr>\n",
       "  </tbody>\n",
       "</table>\n",
       "</div>"
      ],
      "text/plain": [
       "frequency_flag    Frequent Customer  Non-frequent Customer  Regular Customer\n",
       "loyalty_flag                                                                \n",
       "Loyal Customer               699445                5336152           4258430\n",
       "New Customer                 205506                4038836            563613\n",
       "Regular Customer             334246               14073920           1483341"
      ]
     },
     "execution_count": 61,
     "metadata": {},
     "output_type": "execute_result"
    }
   ],
   "source": [
    "loyalty_freq_cross"
   ]
  },
  {
   "cell_type": "code",
   "execution_count": 62,
   "id": "89a5ec78",
   "metadata": {},
   "outputs": [],
   "source": [
    "#Copying crosstab to clipboard\n",
    "loyalty_freq_cross.to_clipboard()"
   ]
  },
  {
   "cell_type": "markdown",
   "id": "33631d8d",
   "metadata": {},
   "source": [
    "### Relationship between age, family status, and ordering habits."
   ]
  },
  {
   "cell_type": "code",
   "execution_count": 63,
   "id": "79fd47b5",
   "metadata": {},
   "outputs": [],
   "source": [
    "#Creating crosstab of age and frequency\n",
    "age_freq_cross = pd.crosstab(ords_prods_deps['age_group'], ords_prods_deps['frequency_flag'], dropna = False)"
   ]
  },
  {
   "cell_type": "code",
   "execution_count": 64,
   "id": "46176c22",
   "metadata": {},
   "outputs": [
    {
     "data": {
      "text/html": [
       "<div>\n",
       "<style scoped>\n",
       "    .dataframe tbody tr th:only-of-type {\n",
       "        vertical-align: middle;\n",
       "    }\n",
       "\n",
       "    .dataframe tbody tr th {\n",
       "        vertical-align: top;\n",
       "    }\n",
       "\n",
       "    .dataframe thead th {\n",
       "        text-align: right;\n",
       "    }\n",
       "</style>\n",
       "<table border=\"1\" class=\"dataframe\">\n",
       "  <thead>\n",
       "    <tr style=\"text-align: right;\">\n",
       "      <th>frequency_flag</th>\n",
       "      <th>Frequent Customer</th>\n",
       "      <th>Non-frequent Customer</th>\n",
       "      <th>Regular Customer</th>\n",
       "    </tr>\n",
       "    <tr>\n",
       "      <th>age_group</th>\n",
       "      <th></th>\n",
       "      <th></th>\n",
       "      <th></th>\n",
       "    </tr>\n",
       "  </thead>\n",
       "  <tbody>\n",
       "    <tr>\n",
       "      <th>Age 18-32</th>\n",
       "      <td>274153</td>\n",
       "      <td>5560179</td>\n",
       "      <td>1457649</td>\n",
       "    </tr>\n",
       "    <tr>\n",
       "      <th>Age 33-48</th>\n",
       "      <td>314568</td>\n",
       "      <td>5854514</td>\n",
       "      <td>1593442</td>\n",
       "    </tr>\n",
       "    <tr>\n",
       "      <th>Age 49-64</th>\n",
       "      <td>327508</td>\n",
       "      <td>5835685</td>\n",
       "      <td>1572875</td>\n",
       "    </tr>\n",
       "    <tr>\n",
       "      <th>Age 65-81</th>\n",
       "      <td>322968</td>\n",
       "      <td>6198530</td>\n",
       "      <td>1681418</td>\n",
       "    </tr>\n",
       "  </tbody>\n",
       "</table>\n",
       "</div>"
      ],
      "text/plain": [
       "frequency_flag  Frequent Customer  Non-frequent Customer  Regular Customer\n",
       "age_group                                                                 \n",
       "Age 18-32                  274153                5560179           1457649\n",
       "Age 33-48                  314568                5854514           1593442\n",
       "Age 49-64                  327508                5835685           1572875\n",
       "Age 65-81                  322968                6198530           1681418"
      ]
     },
     "execution_count": 64,
     "metadata": {},
     "output_type": "execute_result"
    }
   ],
   "source": [
    "age_freq_cross"
   ]
  },
  {
   "cell_type": "code",
   "execution_count": 138,
   "id": "1edb1c04",
   "metadata": {},
   "outputs": [
    {
     "data": {
      "text/plain": [
       "<matplotlib.legend.Legend at 0x1cd8b780ad0>"
      ]
     },
     "execution_count": 138,
     "metadata": {},
     "output_type": "execute_result"
    },
    {
     "data": {
      "image/png": "[encoded data removed]",
      "text/plain": [
       "<Figure size 640x480 with 1 Axes>"
      ]
     },
     "metadata": {},
     "output_type": "display_data"
    }
   ],
   "source": [
    "#Graph of crosstab\n",
    "age_freq_bar = age_freq_cross.plot.barh(color=['#4cc9f0', '#3a0ca3', '#4361ee'])\n",
    "plt.title('Age Group Order Habits')\n",
    "plt.ylabel('Age Group')\n",
    "plt.xlabel('Number of Customers (In Millions)')\n",
    "plt.legend(bbox_to_anchor=(1.0, 1.0))"
   ]
  },
  {
   "cell_type": "code",
   "execution_count": 65,
   "id": "79f89734",
   "metadata": {},
   "outputs": [],
   "source": [
    "#Creating crosstab of family status and frequency\n",
    "family_freq_cross = pd.crosstab(ords_prods_deps['family_status'], ords_prods_deps['frequency_flag'], dropna = False)"
   ]
  },
  {
   "cell_type": "code",
   "execution_count": 66,
   "id": "7a6d949c",
   "metadata": {},
   "outputs": [
    {
     "data": {
      "text/html": [
       "<div>\n",
       "<style scoped>\n",
       "    .dataframe tbody tr th:only-of-type {\n",
       "        vertical-align: middle;\n",
       "    }\n",
       "\n",
       "    .dataframe tbody tr th {\n",
       "        vertical-align: top;\n",
       "    }\n",
       "\n",
       "    .dataframe thead th {\n",
       "        text-align: right;\n",
       "    }\n",
       "</style>\n",
       "<table border=\"1\" class=\"dataframe\">\n",
       "  <thead>\n",
       "    <tr style=\"text-align: right;\">\n",
       "      <th>frequency_flag</th>\n",
       "      <th>Frequent Customer</th>\n",
       "      <th>Non-frequent Customer</th>\n",
       "      <th>Regular Customer</th>\n",
       "    </tr>\n",
       "    <tr>\n",
       "      <th>family_status</th>\n",
       "      <th></th>\n",
       "      <th></th>\n",
       "      <th></th>\n",
       "    </tr>\n",
       "  </thead>\n",
       "  <tbody>\n",
       "    <tr>\n",
       "      <th>divorced/widowed</th>\n",
       "      <td>106263</td>\n",
       "      <td>2005321</td>\n",
       "      <td>536215</td>\n",
       "    </tr>\n",
       "    <tr>\n",
       "      <th>living with parents and siblings</th>\n",
       "      <td>60814</td>\n",
       "      <td>1133889</td>\n",
       "      <td>288018</td>\n",
       "    </tr>\n",
       "    <tr>\n",
       "      <th>married</th>\n",
       "      <td>849712</td>\n",
       "      <td>16465110</td>\n",
       "      <td>4448763</td>\n",
       "    </tr>\n",
       "    <tr>\n",
       "      <th>single</th>\n",
       "      <td>222408</td>\n",
       "      <td>3844588</td>\n",
       "      <td>1032388</td>\n",
       "    </tr>\n",
       "  </tbody>\n",
       "</table>\n",
       "</div>"
      ],
      "text/plain": [
       "frequency_flag                    Frequent Customer  Non-frequent Customer  \\\n",
       "family_status                                                                \n",
       "divorced/widowed                             106263                2005321   \n",
       "living with parents and siblings              60814                1133889   \n",
       "married                                      849712               16465110   \n",
       "single                                       222408                3844588   \n",
       "\n",
       "frequency_flag                    Regular Customer  \n",
       "family_status                                       \n",
       "divorced/widowed                            536215  \n",
       "living with parents and siblings            288018  \n",
       "married                                    4448763  \n",
       "single                                     1032388  "
      ]
     },
     "execution_count": 66,
     "metadata": {},
     "output_type": "execute_result"
    }
   ],
   "source": [
    "family_freq_cross"
   ]
  },
  {
   "cell_type": "code",
   "execution_count": 68,
   "id": "886694fd",
   "metadata": {},
   "outputs": [],
   "source": [
    "#Copying crosstab to clipboard\n",
    "family_freq_cross.to_clipboard()"
   ]
  },
  {
   "cell_type": "code",
   "execution_count": 139,
   "id": "599e81b7",
   "metadata": {},
   "outputs": [
    {
     "data": {
      "text/plain": [
       "<matplotlib.legend.Legend at 0x1cd8aa1f150>"
      ]
     },
     "execution_count": 139,
     "metadata": {},
     "output_type": "execute_result"
    },
    {
     "data": {
      "image/png": "[encoded data removed]",
      "text/plain": [
       "<Figure size 640x480 with 1 Axes>"
      ]
     },
     "metadata": {},
     "output_type": "display_data"
    }
   ],
   "source": [
    "#Graph of crosstab\n",
    "family_freq_bar = family_freq_cross.plot.barh(color=['#4cc9f0', '#3a0ca3', '#4361ee'])\n",
    "plt.title('Family Status Order Habits')\n",
    "plt.ylabel('Family Status')\n",
    "plt.xlabel('Number of Customers (In Ten Millions)')\n",
    "plt.legend(bbox_to_anchor=(1.0, 1.0))"
   ]
  },
  {
   "cell_type": "markdown",
   "id": "2beac5a9",
   "metadata": {},
   "source": [
    "## 10. Export Charts and Data"
   ]
  },
  {
   "cell_type": "code",
   "execution_count": 140,
   "id": "3425005a",
   "metadata": {},
   "outputs": [],
   "source": [
    "#Exporting department frequency chart\n",
    "department_bar.figure.savefig(os.path.join(path, '04_Analysis', 'Visualizations', 'department_bar.png'))"
   ]
  },
  {
   "cell_type": "code",
   "execution_count": 141,
   "id": "f39783a8",
   "metadata": {},
   "outputs": [],
   "source": [
    "#Exporting age by frequency chart\n",
    "age_freq_bar.figure.savefig(os.path.join(path, '04_Analysis', 'Visualizations', 'age_freq_bar.png'))"
   ]
  },
  {
   "cell_type": "code",
   "execution_count": 142,
   "id": "d25cee04",
   "metadata": {},
   "outputs": [],
   "source": [
    "#Exporting family status by frequency chart\n",
    "family_freq_bar.figure.savefig(os.path.join(path, '04_Analysis', 'Visualizations', 'family_freq_bar.png'))"
   ]
  },
  {
   "cell_type": "code",
   "execution_count": 99,
   "id": "1ae9af30",
   "metadata": {},
   "outputs": [],
   "source": [
    "#Exporting customer profile order by day bar\n",
    "profile_day_bar.figure.savefig(os.path.join(path, '04_Analysis', 'Visualizations', 'profile_day_bar.png'))"
   ]
  },
  {
   "cell_type": "code",
   "execution_count": 105,
   "id": "5ed4f090",
   "metadata": {},
   "outputs": [],
   "source": [
    "#Exporting customer profile order by hour of day\n",
    "profile_hour_bar.figure.savefig(os.path.join(path, '04_Analysis', 'Visualizations', 'profile_hour_bar.png'))"
   ]
  },
  {
   "cell_type": "code",
   "execution_count": 108,
   "id": "1da7baa0",
   "metadata": {},
   "outputs": [],
   "source": [
    "#Exporting customer profile frequency\n",
    "profile_bar.figure.savefig(os.path.join(path, '04_Analysis', 'Visualizations', 'profile_bar.png'))"
   ]
  },
  {
   "cell_type": "code",
   "execution_count": 125,
   "id": "4da4f2ed",
   "metadata": {},
   "outputs": [],
   "source": [
    "#Exporting customer profile by income\n",
    "profile_income_bar.figure.savefig(os.path.join(path, '04_Analysis', 'Visualizations', 'profile_income_bar.png'))"
   ]
  },
  {
   "cell_type": "code",
   "execution_count": 133,
   "id": "06dcb4d0",
   "metadata": {},
   "outputs": [],
   "source": [
    "#Exporting customer profile by region\n",
    "profile_region_bar.figure.savefig(os.path.join(path, '04_Analysis', 'Visualizations', 'profile_region_bar.png'))"
   ]
  },
  {
   "cell_type": "code",
   "execution_count": 156,
   "id": "b657f5a3",
   "metadata": {},
   "outputs": [],
   "source": [
    "#Exporting customer profile by department\n",
    "profile_dep_bar.figure.savefig(os.path.join(path, '04_Analysis', 'Visualizations', 'profile_dep_bar.png'))"
   ]
  },
  {
   "cell_type": "code",
   "execution_count": 157,
   "id": "944dfb15",
   "metadata": {},
   "outputs": [],
   "source": [
    "#Exporting orders_products_all after department merge\n",
    "ords_prods_deps.to_pickle(os.path.join(path, '02_Data', 'Prepared_Data', 'orders_products_all_departments_regular.pkl'))"
   ]
  }
 ],
 "metadata": {
  "kernelspec": {
   "display_name": "Python 3 (ipykernel)",
   "language": "python",
   "name": "python3"
  },
  "language_info": {
   "codemirror_mode": {
    "name": "ipython",
    "version": 3
   },
   "file_extension": ".py",
   "mimetype": "text/x-python",
   "name": "python",
   "nbconvert_exporter": "python",
   "pygments_lexer": "ipython3",
   "version": "3.11.5"
  }
 },
 "nbformat": 4,
 "nbformat_minor": 5
}
