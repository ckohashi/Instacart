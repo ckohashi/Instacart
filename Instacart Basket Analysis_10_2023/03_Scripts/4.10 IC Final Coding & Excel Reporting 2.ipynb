{
 "cells": [
  {
   "cell_type": "markdown",
   "id": "9536e38e",
   "metadata": {},
   "source": [
    "# IC Coding Etiquette and Excel Reporting Part 2"
   ]
  },
  {
   "cell_type": "markdown",
   "id": "708700a8",
   "metadata": {},
   "source": [
    "## List of Contents:\n",
    "## 01. Importing Libraries\n",
    "## 02. Importing Data\n",
    "## 03. Creating a Customer Profile - Age\n",
    "## 04. Creating a Customer Profile - Income\n",
    "## 05. Creating a Customer Profile - Finalization\n",
    "## 06. Export Charts and Data\n",
    "\n",
    "## --"
   ]
  },
  {
   "cell_type": "markdown",
   "id": "1d982128",
   "metadata": {},
   "source": [
    "## 01. Importing Libraries"
   ]
  },
  {
   "cell_type": "code",
   "execution_count": 1,
   "id": "8a99d9b4",
   "metadata": {},
   "outputs": [],
   "source": [
    "#Importing libraries\n",
    "import pandas as pd\n",
    "import numpy as np\n",
    "import os\n",
    "import matplotlib.pyplot as plt\n",
    "import seaborn as sns\n",
    "import scipy"
   ]
  },
  {
   "cell_type": "markdown",
   "id": "5a42b00c",
   "metadata": {},
   "source": [
    "## 02. Importing Data"
   ]
  },
  {
   "cell_type": "code",
   "execution_count": 2,
   "id": "cba40254",
   "metadata": {},
   "outputs": [],
   "source": [
    "#Assigning path for import\n",
    "path = r'C:\\Users\\Mosspants\\Desktop\\CareerFoundry\\A4_Python_Fundamentals_for_Data_Analysts\\Instacart Basket Analysis_10_2023'"
   ]
  },
  {
   "cell_type": "code",
   "execution_count": 3,
   "id": "856e7890",
   "metadata": {},
   "outputs": [],
   "source": [
    "#Importing orders_products_all_regular\n",
    "ords_prods = pd.read_pickle(os.path.join(path, '02_Data', 'Prepared_Data', 'orders_products_all_regular.pkl'))"
   ]
  },
  {
   "cell_type": "code",
   "execution_count": 4,
   "id": "62c8f822",
   "metadata": {},
   "outputs": [
    {
     "data": {
      "text/html": [
       "<div>\n",
       "<style scoped>\n",
       "    .dataframe tbody tr th:only-of-type {\n",
       "        vertical-align: middle;\n",
       "    }\n",
       "\n",
       "    .dataframe tbody tr th {\n",
       "        vertical-align: top;\n",
       "    }\n",
       "\n",
       "    .dataframe thead th {\n",
       "        text-align: right;\n",
       "    }\n",
       "</style>\n",
       "<table border=\"1\" class=\"dataframe\">\n",
       "  <thead>\n",
       "    <tr style=\"text-align: right;\">\n",
       "      <th></th>\n",
       "      <th>user_id</th>\n",
       "      <th>state</th>\n",
       "      <th>age</th>\n",
       "      <th>date_joined</th>\n",
       "      <th>number_of_dependants</th>\n",
       "      <th>family_status</th>\n",
       "      <th>income</th>\n",
       "      <th>order_id</th>\n",
       "      <th>order_number</th>\n",
       "      <th>order_day_of_week</th>\n",
       "      <th>...</th>\n",
       "      <th>busiest_days</th>\n",
       "      <th>busiest_period_of_day</th>\n",
       "      <th>max_order</th>\n",
       "      <th>loyalty_flag</th>\n",
       "      <th>average_price</th>\n",
       "      <th>spending_flag</th>\n",
       "      <th>average_days_since_prior_order</th>\n",
       "      <th>frequency_flag</th>\n",
       "      <th>region</th>\n",
       "      <th>exclusion_flag</th>\n",
       "    </tr>\n",
       "  </thead>\n",
       "  <tbody>\n",
       "    <tr>\n",
       "      <th>0</th>\n",
       "      <td>26711</td>\n",
       "      <td>Missouri</td>\n",
       "      <td>48</td>\n",
       "      <td>1/1/2017</td>\n",
       "      <td>3</td>\n",
       "      <td>married</td>\n",
       "      <td>165665</td>\n",
       "      <td>2543867</td>\n",
       "      <td>5.0</td>\n",
       "      <td>1.0</td>\n",
       "      <td>...</td>\n",
       "      <td>Busiest Days</td>\n",
       "      <td>Most Orders</td>\n",
       "      <td>8.0</td>\n",
       "      <td>New Customer</td>\n",
       "      <td>12.6</td>\n",
       "      <td>High Spender</td>\n",
       "      <td>30.0</td>\n",
       "      <td>Non-frequent Customer</td>\n",
       "      <td>Midwest</td>\n",
       "      <td>Regular-activity</td>\n",
       "    </tr>\n",
       "    <tr>\n",
       "      <th>1</th>\n",
       "      <td>26711</td>\n",
       "      <td>Missouri</td>\n",
       "      <td>48</td>\n",
       "      <td>1/1/2017</td>\n",
       "      <td>3</td>\n",
       "      <td>married</td>\n",
       "      <td>165665</td>\n",
       "      <td>1285508</td>\n",
       "      <td>7.0</td>\n",
       "      <td>5.0</td>\n",
       "      <td>...</td>\n",
       "      <td>Regular Days</td>\n",
       "      <td>Most Orders</td>\n",
       "      <td>8.0</td>\n",
       "      <td>New Customer</td>\n",
       "      <td>12.6</td>\n",
       "      <td>High Spender</td>\n",
       "      <td>30.0</td>\n",
       "      <td>Non-frequent Customer</td>\n",
       "      <td>Midwest</td>\n",
       "      <td>Regular-activity</td>\n",
       "    </tr>\n",
       "    <tr>\n",
       "      <th>2</th>\n",
       "      <td>26711</td>\n",
       "      <td>Missouri</td>\n",
       "      <td>48</td>\n",
       "      <td>1/1/2017</td>\n",
       "      <td>3</td>\n",
       "      <td>married</td>\n",
       "      <td>165665</td>\n",
       "      <td>2578584</td>\n",
       "      <td>8.0</td>\n",
       "      <td>1.0</td>\n",
       "      <td>...</td>\n",
       "      <td>Busiest Days</td>\n",
       "      <td>Most Orders</td>\n",
       "      <td>8.0</td>\n",
       "      <td>New Customer</td>\n",
       "      <td>12.6</td>\n",
       "      <td>High Spender</td>\n",
       "      <td>30.0</td>\n",
       "      <td>Non-frequent Customer</td>\n",
       "      <td>Midwest</td>\n",
       "      <td>Regular-activity</td>\n",
       "    </tr>\n",
       "    <tr>\n",
       "      <th>3</th>\n",
       "      <td>26711</td>\n",
       "      <td>Missouri</td>\n",
       "      <td>48</td>\n",
       "      <td>1/1/2017</td>\n",
       "      <td>3</td>\n",
       "      <td>married</td>\n",
       "      <td>165665</td>\n",
       "      <td>423547</td>\n",
       "      <td>2.0</td>\n",
       "      <td>2.0</td>\n",
       "      <td>...</td>\n",
       "      <td>Regular Days</td>\n",
       "      <td>Most Orders</td>\n",
       "      <td>8.0</td>\n",
       "      <td>New Customer</td>\n",
       "      <td>12.6</td>\n",
       "      <td>High Spender</td>\n",
       "      <td>30.0</td>\n",
       "      <td>Non-frequent Customer</td>\n",
       "      <td>Midwest</td>\n",
       "      <td>Regular-activity</td>\n",
       "    </tr>\n",
       "    <tr>\n",
       "      <th>4</th>\n",
       "      <td>26711</td>\n",
       "      <td>Missouri</td>\n",
       "      <td>48</td>\n",
       "      <td>1/1/2017</td>\n",
       "      <td>3</td>\n",
       "      <td>married</td>\n",
       "      <td>165665</td>\n",
       "      <td>2524893</td>\n",
       "      <td>3.0</td>\n",
       "      <td>3.0</td>\n",
       "      <td>...</td>\n",
       "      <td>Slowest Days</td>\n",
       "      <td>Most Orders</td>\n",
       "      <td>8.0</td>\n",
       "      <td>New Customer</td>\n",
       "      <td>12.6</td>\n",
       "      <td>High Spender</td>\n",
       "      <td>30.0</td>\n",
       "      <td>Non-frequent Customer</td>\n",
       "      <td>Midwest</td>\n",
       "      <td>Regular-activity</td>\n",
       "    </tr>\n",
       "  </tbody>\n",
       "</table>\n",
       "<p>5 rows × 31 columns</p>\n",
       "</div>"
      ],
      "text/plain": [
       "  user_id     state  age date_joined  number_of_dependants family_status  \\\n",
       "0   26711  Missouri   48    1/1/2017                     3       married   \n",
       "1   26711  Missouri   48    1/1/2017                     3       married   \n",
       "2   26711  Missouri   48    1/1/2017                     3       married   \n",
       "3   26711  Missouri   48    1/1/2017                     3       married   \n",
       "4   26711  Missouri   48    1/1/2017                     3       married   \n",
       "\n",
       "   income order_id  order_number  order_day_of_week  ...  busiest_days  \\\n",
       "0  165665  2543867           5.0                1.0  ...  Busiest Days   \n",
       "1  165665  1285508           7.0                5.0  ...  Regular Days   \n",
       "2  165665  2578584           8.0                1.0  ...  Busiest Days   \n",
       "3  165665   423547           2.0                2.0  ...  Regular Days   \n",
       "4  165665  2524893           3.0                3.0  ...  Slowest Days   \n",
       "\n",
       "   busiest_period_of_day max_order  loyalty_flag  average_price spending_flag  \\\n",
       "0            Most Orders       8.0  New Customer           12.6  High Spender   \n",
       "1            Most Orders       8.0  New Customer           12.6  High Spender   \n",
       "2            Most Orders       8.0  New Customer           12.6  High Spender   \n",
       "3            Most Orders       8.0  New Customer           12.6  High Spender   \n",
       "4            Most Orders       8.0  New Customer           12.6  High Spender   \n",
       "\n",
       "  average_days_since_prior_order         frequency_flag   region  \\\n",
       "0                           30.0  Non-frequent Customer  Midwest   \n",
       "1                           30.0  Non-frequent Customer  Midwest   \n",
       "2                           30.0  Non-frequent Customer  Midwest   \n",
       "3                           30.0  Non-frequent Customer  Midwest   \n",
       "4                           30.0  Non-frequent Customer  Midwest   \n",
       "\n",
       "     exclusion_flag  \n",
       "0  Regular-activity  \n",
       "1  Regular-activity  \n",
       "2  Regular-activity  \n",
       "3  Regular-activity  \n",
       "4  Regular-activity  \n",
       "\n",
       "[5 rows x 31 columns]"
      ]
     },
     "execution_count": 4,
     "metadata": {},
     "output_type": "execute_result"
    }
   ],
   "source": [
    "#Checking import with head\n",
    "ords_prods.head()"
   ]
  },
  {
   "cell_type": "code",
   "execution_count": 5,
   "id": "e18680f1",
   "metadata": {},
   "outputs": [
    {
     "data": {
      "text/plain": [
       "(30993489, 31)"
      ]
     },
     "execution_count": 5,
     "metadata": {},
     "output_type": "execute_result"
    }
   ],
   "source": [
    "#Checking import with head\n",
    "ords_prods.shape"
   ]
  },
  {
   "cell_type": "code",
   "execution_count": 6,
   "id": "ca9c4689",
   "metadata": {},
   "outputs": [
    {
     "data": {
      "text/plain": [
       "Index(['user_id', 'state', 'age', 'date_joined', 'number_of_dependants',\n",
       "       'family_status', 'income', 'order_id', 'order_number',\n",
       "       'order_day_of_week', 'order_hour_of_day', 'days_since_prior_order',\n",
       "       'product_id', 'add_to_cart_order', 'reordered', '_merge',\n",
       "       'product_name', 'aisle_id', 'department_id', 'prices', 'price_label',\n",
       "       'busiest_days', 'busiest_period_of_day', 'max_order', 'loyalty_flag',\n",
       "       'average_price', 'spending_flag', 'average_days_since_prior_order',\n",
       "       'frequency_flag', 'region', 'exclusion_flag'],\n",
       "      dtype='object')"
      ]
     },
     "execution_count": 6,
     "metadata": {},
     "output_type": "execute_result"
    }
   ],
   "source": [
    "#Checking name of columns in orders_products_all_regular\n",
    "ords_prods.columns"
   ]
  },
  {
   "cell_type": "markdown",
   "id": "31a95464",
   "metadata": {},
   "source": [
    "## 03. Creating a Customer Profile - Age"
   ]
  },
  {
   "cell_type": "code",
   "execution_count": 7,
   "id": "8008a9c5",
   "metadata": {},
   "outputs": [
    {
     "data": {
      "text/plain": [
       "count    3.099349e+07\n",
       "mean     4.946786e+01\n",
       "std      1.848521e+01\n",
       "min      1.800000e+01\n",
       "25%      3.300000e+01\n",
       "50%      4.900000e+01\n",
       "75%      6.500000e+01\n",
       "max      8.100000e+01\n",
       "Name: age, dtype: float64"
      ]
     },
     "execution_count": 7,
     "metadata": {},
     "output_type": "execute_result"
    }
   ],
   "source": [
    "#Checking description on age\n",
    "ords_prods['age'].describe()"
   ]
  },
  {
   "cell_type": "markdown",
   "id": "016e198a",
   "metadata": {},
   "source": [
    "### Based on the min, max, and mean of ages we can divide them into groups."
   ]
  },
  {
   "cell_type": "code",
   "execution_count": 8,
   "id": "1cc8f1e5",
   "metadata": {},
   "outputs": [
    {
     "name": "stderr",
     "output_type": "stream",
     "text": [
      "C:\\Users\\Mosspants\\AppData\\Local\\Temp\\ipykernel_20188\\2790227552.py:2: FutureWarning: Setting an item of incompatible dtype is deprecated and will raise in a future error of pandas. Value 'Age 18-32' has dtype incompatible with float64, please explicitly cast to a compatible dtype first.\n",
      "  ords_prods.loc[(ords_prods['age'] >= 18) & (ords_prods['age'] < 33), 'age_group'] = 'Age 18-32'\n"
     ]
    }
   ],
   "source": [
    "#Condition Ages 18-32\n",
    "ords_prods.loc[(ords_prods['age'] >= 18) & (ords_prods['age'] < 33), 'age_group'] = 'Age 18-32'"
   ]
  },
  {
   "cell_type": "code",
   "execution_count": 9,
   "id": "c6df2519",
   "metadata": {},
   "outputs": [],
   "source": [
    "#Condition Ages 33-48\n",
    "ords_prods.loc[(ords_prods['age'] >= 33) & (ords_prods['age'] < 49), 'age_group'] = 'Age 33-48'"
   ]
  },
  {
   "cell_type": "code",
   "execution_count": 10,
   "id": "acd77fba",
   "metadata": {},
   "outputs": [],
   "source": [
    "#Condition Ages 49-64\n",
    "ords_prods.loc[(ords_prods['age'] >= 49) & (ords_prods['age'] < 65), 'age_group'] = 'Age 49-64'"
   ]
  },
  {
   "cell_type": "code",
   "execution_count": 11,
   "id": "8ce46cf3",
   "metadata": {},
   "outputs": [],
   "source": [
    "#Condition Ages 65-81\n",
    "ords_prods.loc[ords_prods['age'] >= 65, 'age_group'] = 'Age 65-81'"
   ]
  },
  {
   "cell_type": "code",
   "execution_count": 12,
   "id": "1c54cd4b",
   "metadata": {},
   "outputs": [
    {
     "data": {
      "text/plain": [
       "age_group\n",
       "Age 18-32    7291981\n",
       "Age 33-48    7762524\n",
       "Age 49-64    7736068\n",
       "Age 65-81    8202916\n",
       "Name: count, dtype: int64"
      ]
     },
     "execution_count": 12,
     "metadata": {},
     "output_type": "execute_result"
    }
   ],
   "source": [
    "#Checking value_counts of age_group\n",
    "ords_prods['age_group'].value_counts(dropna = False).sort_index()"
   ]
  },
  {
   "cell_type": "code",
   "execution_count": 13,
   "id": "49cacbce",
   "metadata": {
    "scrolled": true
   },
   "outputs": [
    {
     "data": {
      "text/plain": [
       "(30993489,)"
      ]
     },
     "execution_count": 13,
     "metadata": {},
     "output_type": "execute_result"
    }
   ],
   "source": [
    "#Checking shape of age_group\n",
    "ords_prods['age_group'].shape"
   ]
  },
  {
   "cell_type": "code",
   "execution_count": 15,
   "id": "375977bc",
   "metadata": {},
   "outputs": [
    {
     "data": {
      "text/plain": [
       "Text(0, 0.5, 'Number of Customers (In Millions)')"
      ]
     },
     "execution_count": 15,
     "metadata": {},
     "output_type": "execute_result"
    },
    {
     "data": {
      "image/png": "[encoded data removed]",
      "text/plain": [
       "<Figure size 640x480 with 1 Axes>"
      ]
     },
     "metadata": {},
     "output_type": "display_data"
    }
   ],
   "source": [
    "#Frequency table of age_group\n",
    "age_group_bar = ords_prods['age_group'].value_counts().sort_index().plot.bar()\n",
    "plt.title('Age Group Count')\n",
    "plt.xlabel('Age Group')\n",
    "plt.ylabel('Number of Customers (In Millions)')"
   ]
  },
  {
   "cell_type": "markdown",
   "id": "c17bd89f",
   "metadata": {},
   "source": [
    "## 04. Creating a Customer Profile - Income"
   ]
  },
  {
   "cell_type": "code",
   "execution_count": 16,
   "id": "8a8e55b8",
   "metadata": {},
   "outputs": [
    {
     "data": {
      "text/plain": [
       "count    3.099349e+07\n",
       "mean     9.967349e+04\n",
       "std      4.313999e+04\n",
       "min      2.590300e+04\n",
       "25%      6.728900e+04\n",
       "50%      9.676500e+04\n",
       "75%      1.281010e+05\n",
       "max      5.939010e+05\n",
       "Name: income, dtype: float64"
      ]
     },
     "execution_count": 16,
     "metadata": {},
     "output_type": "execute_result"
    }
   ],
   "source": [
    "#Checking description on income\n",
    "ords_prods['income'].describe()"
   ]
  },
  {
   "cell_type": "code",
   "execution_count": 17,
   "id": "e3dade33",
   "metadata": {},
   "outputs": [
    {
     "data": {
      "text/plain": [
       "income\n",
       "25903      20\n",
       "25911      28\n",
       "25937      39\n",
       "25941      31\n",
       "25955     392\n",
       "         ... \n",
       "584097    826\n",
       "590790     54\n",
       "591089    176\n",
       "592409    318\n",
       "593901    640\n",
       "Name: count, Length: 96070, dtype: int64"
      ]
     },
     "execution_count": 17,
     "metadata": {},
     "output_type": "execute_result"
    }
   ],
   "source": [
    "#Checking value counts on income\n",
    "ords_prods['income'].value_counts(dropna = False).sort_index()"
   ]
  },
  {
   "cell_type": "markdown",
   "id": "fbe5fed8",
   "metadata": {},
   "source": [
    "### Based on the min, max, and mean of income we can divide them into groups."
   ]
  },
  {
   "cell_type": "code",
   "execution_count": 18,
   "id": "052c4754",
   "metadata": {},
   "outputs": [
    {
     "name": "stderr",
     "output_type": "stream",
     "text": [
      "C:\\Users\\Mosspants\\AppData\\Local\\Temp\\ipykernel_20188\\1668476457.py:2: FutureWarning: Setting an item of incompatible dtype is deprecated and will raise in a future error of pandas. Value 'Low income' has dtype incompatible with float64, please explicitly cast to a compatible dtype first.\n",
      "  ords_prods.loc[(ords_prods['income'] >= 25903) & (ords_prods['age'] < 67290), 'income_group'] = 'Low income'\n"
     ]
    }
   ],
   "source": [
    "#Condition income 25,903 - 67,289 Low income\n",
    "ords_prods.loc[(ords_prods['income'] >= 25903) & (ords_prods['age'] < 67290), 'income_group'] = 'Low income'"
   ]
  },
  {
   "cell_type": "code",
   "execution_count": 19,
   "id": "5f02677f",
   "metadata": {},
   "outputs": [],
   "source": [
    "#Condition income 67,290 - 96,765 Medium-low income\n",
    "ords_prods.loc[(ords_prods['income'] >= 67290) & (ords_prods['age'] < 96766), 'income_group'] = 'Medium-low income'"
   ]
  },
  {
   "cell_type": "code",
   "execution_count": 20,
   "id": "accd4e10",
   "metadata": {},
   "outputs": [],
   "source": [
    "#Condition income 96,766 - 128,101 Medium-high income\n",
    "ords_prods.loc[(ords_prods['income'] >= 96766) & (ords_prods['age'] < 128102), 'income_group'] = 'Medium-high income'"
   ]
  },
  {
   "cell_type": "code",
   "execution_count": 21,
   "id": "1ac5d06f",
   "metadata": {},
   "outputs": [],
   "source": [
    "#Condition income 128,102 - 593,901 Low income\n",
    "ords_prods.loc[ords_prods['income'] >= 128102, 'income_group'] = 'High income'"
   ]
  },
  {
   "cell_type": "code",
   "execution_count": 22,
   "id": "0d67c873",
   "metadata": {},
   "outputs": [
    {
     "data": {
      "text/plain": [
       "income_group\n",
       "High income           7748242\n",
       "Low income            7748456\n",
       "Medium-high income    7747341\n",
       "Medium-low income     7749450\n",
       "Name: count, dtype: int64"
      ]
     },
     "execution_count": 22,
     "metadata": {},
     "output_type": "execute_result"
    }
   ],
   "source": [
    "#Checking values of income_group\n",
    "ords_prods['income_group'].value_counts(dropna = False).sort_index()"
   ]
  },
  {
   "cell_type": "code",
   "execution_count": 23,
   "id": "d1ace0ec",
   "metadata": {},
   "outputs": [
    {
     "data": {
      "text/plain": [
       "(30993489,)"
      ]
     },
     "execution_count": 23,
     "metadata": {},
     "output_type": "execute_result"
    }
   ],
   "source": [
    "#Checking shape of income_group\n",
    "ords_prods['income_group'].shape"
   ]
  },
  {
   "cell_type": "code",
   "execution_count": 25,
   "id": "a0e97ed2",
   "metadata": {},
   "outputs": [
    {
     "data": {
      "text/plain": [
       "Text(0, 0.5, 'Number of Customers (In Millions)')"
      ]
     },
     "execution_count": 25,
     "metadata": {},
     "output_type": "execute_result"
    },
    {
     "data": {
      "image/png": "[encoded data removed]",
      "text/plain": [
       "<Figure size 640x480 with 1 Axes>"
      ]
     },
     "metadata": {},
     "output_type": "display_data"
    }
   ],
   "source": [
    "#Frequency table of income_group\n",
    "income_group_bar = ords_prods['income_group'].value_counts().sort_index().plot.bar()\n",
    "plt.title('Income Group Count')\n",
    "plt.xlabel('Income Group')\n",
    "plt.ylabel('Number of Customers (In Millions)')"
   ]
  },
  {
   "cell_type": "markdown",
   "id": "6eeef8be",
   "metadata": {},
   "source": [
    "## 04. Creating a Customer Profile - Looking at Family Status"
   ]
  },
  {
   "cell_type": "code",
   "execution_count": 26,
   "id": "213c2241",
   "metadata": {},
   "outputs": [
    {
     "data": {
      "text/plain": [
       "count     30993489\n",
       "unique           4\n",
       "top        married\n",
       "freq      21763585\n",
       "Name: family_status, dtype: object"
      ]
     },
     "execution_count": 26,
     "metadata": {},
     "output_type": "execute_result"
    }
   ],
   "source": [
    "#Checking description on age\n",
    "ords_prods['family_status'].describe()"
   ]
  },
  {
   "cell_type": "code",
   "execution_count": 27,
   "id": "aeee833e",
   "metadata": {},
   "outputs": [
    {
     "data": {
      "text/plain": [
       "family_status\n",
       "divorced/widowed                     2647799\n",
       "living with parents and siblings     1482721\n",
       "married                             21763585\n",
       "single                               5099384\n",
       "Name: count, dtype: int64"
      ]
     },
     "execution_count": 27,
     "metadata": {},
     "output_type": "execute_result"
    }
   ],
   "source": [
    "#Checking value_counts on age\n",
    "ords_prods['family_status'].value_counts(dropna = False).sort_index()"
   ]
  },
  {
   "cell_type": "code",
   "execution_count": 29,
   "id": "2ab3190d",
   "metadata": {},
   "outputs": [
    {
     "data": {
      "text/plain": [
       "Text(0, 0.5, 'Number of Customers (In Ten Millions)')"
      ]
     },
     "execution_count": 29,
     "metadata": {},
     "output_type": "execute_result"
    },
    {
     "data": {
      "image/png": "[encoded data removed]",
      "text/plain": [
       "<Figure size 640x480 with 1 Axes>"
      ]
     },
     "metadata": {},
     "output_type": "display_data"
    }
   ],
   "source": [
    "#Frequency table of income_group\n",
    "family_bar = ords_prods['family_status'].value_counts().sort_index().plot.bar()\n",
    "plt.title('Family Status Count')\n",
    "plt.xlabel('Family Status')\n",
    "plt.ylabel('Number of Customers (In Ten Millions)')"
   ]
  },
  {
   "cell_type": "markdown",
   "id": "0efdab4d",
   "metadata": {},
   "source": [
    "### Creating a crosstab of family_status with age_group."
   ]
  },
  {
   "cell_type": "code",
   "execution_count": 34,
   "id": "e68aabd4",
   "metadata": {},
   "outputs": [],
   "source": [
    "#Family_status crosstab with age_group\n",
    "fam_age_cross = pd.crosstab(ords_prods['age_group'], ords_prods['family_status'], dropna = False)"
   ]
  },
  {
   "cell_type": "code",
   "execution_count": 35,
   "id": "7fe7726d",
   "metadata": {
    "scrolled": true
   },
   "outputs": [
    {
     "data": {
      "text/html": [
       "<div>\n",
       "<style scoped>\n",
       "    .dataframe tbody tr th:only-of-type {\n",
       "        vertical-align: middle;\n",
       "    }\n",
       "\n",
       "    .dataframe tbody tr th {\n",
       "        vertical-align: top;\n",
       "    }\n",
       "\n",
       "    .dataframe thead th {\n",
       "        text-align: right;\n",
       "    }\n",
       "</style>\n",
       "<table border=\"1\" class=\"dataframe\">\n",
       "  <thead>\n",
       "    <tr style=\"text-align: right;\">\n",
       "      <th>family_status</th>\n",
       "      <th>divorced/widowed</th>\n",
       "      <th>living with parents and siblings</th>\n",
       "      <th>married</th>\n",
       "      <th>single</th>\n",
       "    </tr>\n",
       "    <tr>\n",
       "      <th>age_group</th>\n",
       "      <th></th>\n",
       "      <th></th>\n",
       "      <th></th>\n",
       "      <th></th>\n",
       "    </tr>\n",
       "  </thead>\n",
       "  <tbody>\n",
       "    <tr>\n",
       "      <th>Age 18-32</th>\n",
       "      <td>0</td>\n",
       "      <td>1482721</td>\n",
       "      <td>3990667</td>\n",
       "      <td>1818593</td>\n",
       "    </tr>\n",
       "    <tr>\n",
       "      <th>Age 33-48</th>\n",
       "      <td>0</td>\n",
       "      <td>0</td>\n",
       "      <td>5833758</td>\n",
       "      <td>1928766</td>\n",
       "    </tr>\n",
       "    <tr>\n",
       "      <th>Age 49-64</th>\n",
       "      <td>623839</td>\n",
       "      <td>0</td>\n",
       "      <td>5760204</td>\n",
       "      <td>1352025</td>\n",
       "    </tr>\n",
       "    <tr>\n",
       "      <th>Age 65-81</th>\n",
       "      <td>2023960</td>\n",
       "      <td>0</td>\n",
       "      <td>6178956</td>\n",
       "      <td>0</td>\n",
       "    </tr>\n",
       "  </tbody>\n",
       "</table>\n",
       "</div>"
      ],
      "text/plain": [
       "family_status  divorced/widowed  living with parents and siblings  married  \\\n",
       "age_group                                                                    \n",
       "Age 18-32                     0                           1482721  3990667   \n",
       "Age 33-48                     0                                 0  5833758   \n",
       "Age 49-64                623839                                 0  5760204   \n",
       "Age 65-81               2023960                                 0  6178956   \n",
       "\n",
       "family_status   single  \n",
       "age_group               \n",
       "Age 18-32      1818593  \n",
       "Age 33-48      1928766  \n",
       "Age 49-64      1352025  \n",
       "Age 65-81            0  "
      ]
     },
     "execution_count": 35,
     "metadata": {},
     "output_type": "execute_result"
    }
   ],
   "source": [
    "fam_age_cross"
   ]
  },
  {
   "cell_type": "code",
   "execution_count": 38,
   "id": "86d3554b",
   "metadata": {},
   "outputs": [
    {
     "data": {
      "text/plain": [
       "<matplotlib.legend.Legend at 0x25155d25c10>"
      ]
     },
     "execution_count": 38,
     "metadata": {},
     "output_type": "execute_result"
    },
    {
     "data": {
      "image/png": "[encoded data removed]",
      "text/plain": [
       "<Figure size 640x480 with 1 Axes>"
      ]
     },
     "metadata": {},
     "output_type": "display_data"
    }
   ],
   "source": [
    "#Creating graph of crosstab\n",
    "family_age_bar = fam_age_cross.plot.bar(color=['#4361ee', '#7209b7', '#3a0ca3', '#7a7fe1'])\n",
    "plt.title('Family Status by Age Group')\n",
    "plt.ylabel('Number of Customers (In Millions)')\n",
    "plt.xlabel('Age Group')\n",
    "plt.legend(bbox_to_anchor=(1.0, 1.0))"
   ]
  },
  {
   "cell_type": "markdown",
   "id": "ea87f537",
   "metadata": {},
   "source": [
    "### Based on this crosstab there are clear sections between age and family status. Divorced/widowed customers are ages 49-81. Living with parents and siblings customers are ages 18-32. Married customers are ages 18-81. Single customers are ages 18-64."
   ]
  },
  {
   "cell_type": "markdown",
   "id": "11fcc875",
   "metadata": {},
   "source": [
    "## 04. Creating a Customer Profile - Looking at Dependants"
   ]
  },
  {
   "cell_type": "code",
   "execution_count": 40,
   "id": "2af66f7f",
   "metadata": {},
   "outputs": [
    {
     "data": {
      "text/plain": [
       "count    3.099349e+07\n",
       "mean     1.501803e+00\n",
       "std      1.118900e+00\n",
       "min      0.000000e+00\n",
       "25%      1.000000e+00\n",
       "50%      2.000000e+00\n",
       "75%      3.000000e+00\n",
       "max      3.000000e+00\n",
       "Name: number_of_dependants, dtype: float64"
      ]
     },
     "execution_count": 40,
     "metadata": {},
     "output_type": "execute_result"
    }
   ],
   "source": [
    "#Checking description on number_of_dependants\n",
    "ords_prods['number_of_dependants'].describe()"
   ]
  },
  {
   "cell_type": "code",
   "execution_count": 41,
   "id": "36db3f7a",
   "metadata": {},
   "outputs": [
    {
     "data": {
      "text/plain": [
       "number_of_dependants\n",
       "0    7747183\n",
       "1    7726129\n",
       "2    7740539\n",
       "3    7779638\n",
       "Name: count, dtype: int64"
      ]
     },
     "execution_count": 41,
     "metadata": {},
     "output_type": "execute_result"
    }
   ],
   "source": [
    "#Checking values of number_of_dependants\n",
    "ords_prods['number_of_dependants'].value_counts(dropna = False).sort_index()"
   ]
  },
  {
   "cell_type": "code",
   "execution_count": 44,
   "id": "e08fa9ec",
   "metadata": {},
   "outputs": [
    {
     "data": {
      "text/plain": [
       "Text(0, 0.5, 'Number of Customers (In Millions)')"
      ]
     },
     "execution_count": 44,
     "metadata": {},
     "output_type": "execute_result"
    },
    {
     "data": {
      "image/png": "[encoded data removed]",
      "text/plain": [
       "<Figure size 640x480 with 1 Axes>"
      ]
     },
     "metadata": {},
     "output_type": "display_data"
    }
   ],
   "source": [
    "#Frequency table of dependants\n",
    "dependants_bar = ords_prods['number_of_dependants'].value_counts().sort_index().plot.bar()\n",
    "plt.title('Number of Dependants Count')\n",
    "plt.xlabel('Number of Dependants')\n",
    "plt.ylabel('Number of Customers (In Millions)')"
   ]
  },
  {
   "cell_type": "markdown",
   "id": "037e4752",
   "metadata": {},
   "source": [
    "### Creating crosstab of family_status and number_of_dependants."
   ]
  },
  {
   "cell_type": "code",
   "execution_count": 49,
   "id": "36224158",
   "metadata": {},
   "outputs": [],
   "source": [
    "#Family_status crosstab with number_of_dependants\n",
    "fam_dependants_cross = pd.crosstab(ords_prods['number_of_dependants'], ords_prods['family_status'], dropna = False)"
   ]
  },
  {
   "cell_type": "code",
   "execution_count": 50,
   "id": "3fa6d812",
   "metadata": {},
   "outputs": [
    {
     "data": {
      "text/html": [
       "<div>\n",
       "<style scoped>\n",
       "    .dataframe tbody tr th:only-of-type {\n",
       "        vertical-align: middle;\n",
       "    }\n",
       "\n",
       "    .dataframe tbody tr th {\n",
       "        vertical-align: top;\n",
       "    }\n",
       "\n",
       "    .dataframe thead th {\n",
       "        text-align: right;\n",
       "    }\n",
       "</style>\n",
       "<table border=\"1\" class=\"dataframe\">\n",
       "  <thead>\n",
       "    <tr style=\"text-align: right;\">\n",
       "      <th>family_status</th>\n",
       "      <th>divorced/widowed</th>\n",
       "      <th>living with parents and siblings</th>\n",
       "      <th>married</th>\n",
       "      <th>single</th>\n",
       "    </tr>\n",
       "    <tr>\n",
       "      <th>number_of_dependants</th>\n",
       "      <th></th>\n",
       "      <th></th>\n",
       "      <th></th>\n",
       "      <th></th>\n",
       "    </tr>\n",
       "  </thead>\n",
       "  <tbody>\n",
       "    <tr>\n",
       "      <th>0</th>\n",
       "      <td>2647799</td>\n",
       "      <td>0</td>\n",
       "      <td>0</td>\n",
       "      <td>5099384</td>\n",
       "    </tr>\n",
       "    <tr>\n",
       "      <th>1</th>\n",
       "      <td>0</td>\n",
       "      <td>508448</td>\n",
       "      <td>7217681</td>\n",
       "      <td>0</td>\n",
       "    </tr>\n",
       "    <tr>\n",
       "      <th>2</th>\n",
       "      <td>0</td>\n",
       "      <td>485218</td>\n",
       "      <td>7255321</td>\n",
       "      <td>0</td>\n",
       "    </tr>\n",
       "    <tr>\n",
       "      <th>3</th>\n",
       "      <td>0</td>\n",
       "      <td>489055</td>\n",
       "      <td>7290583</td>\n",
       "      <td>0</td>\n",
       "    </tr>\n",
       "  </tbody>\n",
       "</table>\n",
       "</div>"
      ],
      "text/plain": [
       "family_status         divorced/widowed  living with parents and siblings  \\\n",
       "number_of_dependants                                                       \n",
       "0                              2647799                                 0   \n",
       "1                                    0                            508448   \n",
       "2                                    0                            485218   \n",
       "3                                    0                            489055   \n",
       "\n",
       "family_status         married   single  \n",
       "number_of_dependants                    \n",
       "0                           0  5099384  \n",
       "1                     7217681        0  \n",
       "2                     7255321        0  \n",
       "3                     7290583        0  "
      ]
     },
     "execution_count": 50,
     "metadata": {},
     "output_type": "execute_result"
    }
   ],
   "source": [
    "fam_dependants_cross"
   ]
  },
  {
   "cell_type": "code",
   "execution_count": 51,
   "id": "73707f3d",
   "metadata": {},
   "outputs": [
    {
     "data": {
      "text/plain": [
       "<matplotlib.legend.Legend at 0x2515680db50>"
      ]
     },
     "execution_count": 51,
     "metadata": {},
     "output_type": "execute_result"
    },
    {
     "data": {
      "image/png": "[encoded data removed]",
      "text/plain": [
       "<Figure size 640x480 with 1 Axes>"
      ]
     },
     "metadata": {},
     "output_type": "display_data"
    }
   ],
   "source": [
    "#Creating graph of crosstab\n",
    "family_dependants_bar = fam_dependants_cross.plot.bar(color=['#4361ee', '#7209b7', '#3a0ca3', '#7a7fe1'])\n",
    "plt.title('Family Status by Number of Dependants')\n",
    "plt.ylabel('Number of Customers (In Millions)')\n",
    "plt.xlabel('Number of Dependants')\n",
    "plt.legend(bbox_to_anchor=(1.0, 1.0))"
   ]
  },
  {
   "cell_type": "markdown",
   "id": "f33e7708",
   "metadata": {},
   "source": [
    "### Based on this crosstab, Divorced/widowed customers have 0 dependants. Customers living with parents and siblings have 1-3 dependants. Married customers have 1-3 dependants. Single customers have 0 dependants."
   ]
  },
  {
   "cell_type": "markdown",
   "id": "7020ebcc",
   "metadata": {},
   "source": [
    "### Creating a crosstab of age_group and number_of_dependants."
   ]
  },
  {
   "cell_type": "code",
   "execution_count": 53,
   "id": "acf65b5a",
   "metadata": {},
   "outputs": [],
   "source": [
    "#Age_group crosstab with number_of_dependants\n",
    "age_dependants_cross = pd.crosstab(ords_prods['age_group'], ords_prods['number_of_dependants'], dropna = False)"
   ]
  },
  {
   "cell_type": "code",
   "execution_count": 54,
   "id": "1346d8c4",
   "metadata": {},
   "outputs": [
    {
     "data": {
      "text/html": [
       "<div>\n",
       "<style scoped>\n",
       "    .dataframe tbody tr th:only-of-type {\n",
       "        vertical-align: middle;\n",
       "    }\n",
       "\n",
       "    .dataframe tbody tr th {\n",
       "        vertical-align: top;\n",
       "    }\n",
       "\n",
       "    .dataframe thead th {\n",
       "        text-align: right;\n",
       "    }\n",
       "</style>\n",
       "<table border=\"1\" class=\"dataframe\">\n",
       "  <thead>\n",
       "    <tr style=\"text-align: right;\">\n",
       "      <th>number_of_dependants</th>\n",
       "      <th>0</th>\n",
       "      <th>1</th>\n",
       "      <th>2</th>\n",
       "      <th>3</th>\n",
       "    </tr>\n",
       "    <tr>\n",
       "      <th>age_group</th>\n",
       "      <th></th>\n",
       "      <th></th>\n",
       "      <th></th>\n",
       "      <th></th>\n",
       "    </tr>\n",
       "  </thead>\n",
       "  <tbody>\n",
       "    <tr>\n",
       "      <th>Age 18-32</th>\n",
       "      <td>1818593</td>\n",
       "      <td>1812790</td>\n",
       "      <td>1825299</td>\n",
       "      <td>1835299</td>\n",
       "    </tr>\n",
       "    <tr>\n",
       "      <th>Age 33-48</th>\n",
       "      <td>1928766</td>\n",
       "      <td>1972135</td>\n",
       "      <td>1924821</td>\n",
       "      <td>1936802</td>\n",
       "    </tr>\n",
       "    <tr>\n",
       "      <th>Age 49-64</th>\n",
       "      <td>1975864</td>\n",
       "      <td>1910399</td>\n",
       "      <td>1894606</td>\n",
       "      <td>1955199</td>\n",
       "    </tr>\n",
       "    <tr>\n",
       "      <th>Age 65-81</th>\n",
       "      <td>2023960</td>\n",
       "      <td>2030805</td>\n",
       "      <td>2095813</td>\n",
       "      <td>2052338</td>\n",
       "    </tr>\n",
       "  </tbody>\n",
       "</table>\n",
       "</div>"
      ],
      "text/plain": [
       "number_of_dependants        0        1        2        3\n",
       "age_group                                               \n",
       "Age 18-32             1818593  1812790  1825299  1835299\n",
       "Age 33-48             1928766  1972135  1924821  1936802\n",
       "Age 49-64             1975864  1910399  1894606  1955199\n",
       "Age 65-81             2023960  2030805  2095813  2052338"
      ]
     },
     "execution_count": 54,
     "metadata": {},
     "output_type": "execute_result"
    }
   ],
   "source": [
    "age_dependants_cross"
   ]
  },
  {
   "cell_type": "code",
   "execution_count": 55,
   "id": "0e8cd7e4",
   "metadata": {},
   "outputs": [
    {
     "data": {
      "text/plain": [
       "<matplotlib.legend.Legend at 0x251567e4690>"
      ]
     },
     "execution_count": 55,
     "metadata": {},
     "output_type": "execute_result"
    },
    {
     "data": {
      "image/png": "[encoded data removed]",
      "text/plain": [
       "<Figure size 640x480 with 1 Axes>"
      ]
     },
     "metadata": {},
     "output_type": "display_data"
    }
   ],
   "source": [
    "#Creating graph of crosstab\n",
    "age_dependants_bar = age_dependants_cross.plot.bar(color=['#4361ee', '#7209b7', '#3a0ca3', '#7a7fe1'])\n",
    "plt.title('Age Group by Number of Dependants')\n",
    "plt.ylabel('Number of Customers (In Millions)')\n",
    "plt.xlabel('Age Group')\n",
    "plt.legend(bbox_to_anchor=(1.0, 1.0))"
   ]
  },
  {
   "cell_type": "markdown",
   "id": "7c865d38",
   "metadata": {},
   "source": [
    "### There are dependants amoung each age group, which makes sense because married customers range from age 18-81."
   ]
  },
  {
   "cell_type": "markdown",
   "id": "5ec3be19",
   "metadata": {},
   "source": [
    "### Creating a crosstab of family_status with income."
   ]
  },
  {
   "cell_type": "code",
   "execution_count": 63,
   "id": "e884244d",
   "metadata": {},
   "outputs": [],
   "source": [
    "#Family_status crosstab with income_group\n",
    "fam_income_cross = pd.crosstab(ords_prods['income_group'], ords_prods['family_status'], dropna = False)"
   ]
  },
  {
   "cell_type": "code",
   "execution_count": 64,
   "id": "b722b352",
   "metadata": {},
   "outputs": [
    {
     "data": {
      "text/html": [
       "<div>\n",
       "<style scoped>\n",
       "    .dataframe tbody tr th:only-of-type {\n",
       "        vertical-align: middle;\n",
       "    }\n",
       "\n",
       "    .dataframe tbody tr th {\n",
       "        vertical-align: top;\n",
       "    }\n",
       "\n",
       "    .dataframe thead th {\n",
       "        text-align: right;\n",
       "    }\n",
       "</style>\n",
       "<table border=\"1\" class=\"dataframe\">\n",
       "  <thead>\n",
       "    <tr style=\"text-align: right;\">\n",
       "      <th>family_status</th>\n",
       "      <th>divorced/widowed</th>\n",
       "      <th>living with parents and siblings</th>\n",
       "      <th>married</th>\n",
       "      <th>single</th>\n",
       "    </tr>\n",
       "    <tr>\n",
       "      <th>income_group</th>\n",
       "      <th></th>\n",
       "      <th></th>\n",
       "      <th></th>\n",
       "      <th></th>\n",
       "    </tr>\n",
       "  </thead>\n",
       "  <tbody>\n",
       "    <tr>\n",
       "      <th>High income</th>\n",
       "      <td>1012650</td>\n",
       "      <td>17785</td>\n",
       "      <td>5784182</td>\n",
       "      <td>933625</td>\n",
       "    </tr>\n",
       "    <tr>\n",
       "      <th>Low income</th>\n",
       "      <td>331459</td>\n",
       "      <td>664686</td>\n",
       "      <td>5151901</td>\n",
       "      <td>1600410</td>\n",
       "    </tr>\n",
       "    <tr>\n",
       "      <th>Medium-high income</th>\n",
       "      <td>940936</td>\n",
       "      <td>94661</td>\n",
       "      <td>5704652</td>\n",
       "      <td>1007092</td>\n",
       "    </tr>\n",
       "    <tr>\n",
       "      <th>Medium-low income</th>\n",
       "      <td>362754</td>\n",
       "      <td>705589</td>\n",
       "      <td>5122850</td>\n",
       "      <td>1558257</td>\n",
       "    </tr>\n",
       "  </tbody>\n",
       "</table>\n",
       "</div>"
      ],
      "text/plain": [
       "family_status       divorced/widowed  living with parents and siblings  \\\n",
       "income_group                                                             \n",
       "High income                  1012650                             17785   \n",
       "Low income                    331459                            664686   \n",
       "Medium-high income            940936                             94661   \n",
       "Medium-low income             362754                            705589   \n",
       "\n",
       "family_status       married   single  \n",
       "income_group                          \n",
       "High income         5784182   933625  \n",
       "Low income          5151901  1600410  \n",
       "Medium-high income  5704652  1007092  \n",
       "Medium-low income   5122850  1558257  "
      ]
     },
     "execution_count": 64,
     "metadata": {},
     "output_type": "execute_result"
    }
   ],
   "source": [
    "fam_income_cross"
   ]
  },
  {
   "cell_type": "code",
   "execution_count": 65,
   "id": "15631a3a",
   "metadata": {},
   "outputs": [
    {
     "data": {
      "text/plain": [
       "<matplotlib.legend.Legend at 0x25156b8f550>"
      ]
     },
     "execution_count": 65,
     "metadata": {},
     "output_type": "execute_result"
    },
    {
     "data": {
      "image/png": "[encoded data removed]",
      "text/plain": [
       "<Figure size 640x480 with 1 Axes>"
      ]
     },
     "metadata": {},
     "output_type": "display_data"
    }
   ],
   "source": [
    "#Creating graph of crosstab\n",
    "fam_income_bar = fam_income_cross.plot.bar(color=['#4361ee', '#7209b7', '#3a0ca3', '#7a7fe1'])\n",
    "plt.title('Income of Family Status')\n",
    "plt.ylabel('Number of Customers (In Millions)')\n",
    "plt.xlabel('Income Group')\n",
    "plt.legend(bbox_to_anchor=(1.0, 1.0))"
   ]
  },
  {
   "cell_type": "markdown",
   "id": "0043d3cb",
   "metadata": {},
   "source": [
    "### Creating a crosstab of age_group with income."
   ]
  },
  {
   "cell_type": "code",
   "execution_count": 67,
   "id": "8f471f1f",
   "metadata": {},
   "outputs": [],
   "source": [
    "#Age_group crosstab with income_group\n",
    "age_income_cross = pd.crosstab(ords_prods['income_group'], ords_prods['age_group'], dropna = False)"
   ]
  },
  {
   "cell_type": "code",
   "execution_count": 68,
   "id": "da1a6fbb",
   "metadata": {},
   "outputs": [
    {
     "data": {
      "text/html": [
       "<div>\n",
       "<style scoped>\n",
       "    .dataframe tbody tr th:only-of-type {\n",
       "        vertical-align: middle;\n",
       "    }\n",
       "\n",
       "    .dataframe tbody tr th {\n",
       "        vertical-align: top;\n",
       "    }\n",
       "\n",
       "    .dataframe thead th {\n",
       "        text-align: right;\n",
       "    }\n",
       "</style>\n",
       "<table border=\"1\" class=\"dataframe\">\n",
       "  <thead>\n",
       "    <tr style=\"text-align: right;\">\n",
       "      <th>age_group</th>\n",
       "      <th>Age 18-32</th>\n",
       "      <th>Age 33-48</th>\n",
       "      <th>Age 49-64</th>\n",
       "      <th>Age 65-81</th>\n",
       "    </tr>\n",
       "    <tr>\n",
       "      <th>income_group</th>\n",
       "      <th></th>\n",
       "      <th></th>\n",
       "      <th></th>\n",
       "      <th></th>\n",
       "    </tr>\n",
       "  </thead>\n",
       "  <tbody>\n",
       "    <tr>\n",
       "      <th>High income</th>\n",
       "      <td>82100</td>\n",
       "      <td>1555828</td>\n",
       "      <td>2969928</td>\n",
       "      <td>3140386</td>\n",
       "    </tr>\n",
       "    <tr>\n",
       "      <th>Low income</th>\n",
       "      <td>3381112</td>\n",
       "      <td>2283299</td>\n",
       "      <td>1028859</td>\n",
       "      <td>1055186</td>\n",
       "    </tr>\n",
       "    <tr>\n",
       "      <th>Medium-high income</th>\n",
       "      <td>475146</td>\n",
       "      <td>1648335</td>\n",
       "      <td>2727243</td>\n",
       "      <td>2896617</td>\n",
       "    </tr>\n",
       "    <tr>\n",
       "      <th>Medium-low income</th>\n",
       "      <td>3353623</td>\n",
       "      <td>2275062</td>\n",
       "      <td>1010038</td>\n",
       "      <td>1110727</td>\n",
       "    </tr>\n",
       "  </tbody>\n",
       "</table>\n",
       "</div>"
      ],
      "text/plain": [
       "age_group           Age 18-32  Age 33-48  Age 49-64  Age 65-81\n",
       "income_group                                                  \n",
       "High income             82100    1555828    2969928    3140386\n",
       "Low income            3381112    2283299    1028859    1055186\n",
       "Medium-high income     475146    1648335    2727243    2896617\n",
       "Medium-low income     3353623    2275062    1010038    1110727"
      ]
     },
     "execution_count": 68,
     "metadata": {},
     "output_type": "execute_result"
    }
   ],
   "source": [
    "age_income_cross"
   ]
  },
  {
   "cell_type": "code",
   "execution_count": 71,
   "id": "cf809bb2",
   "metadata": {},
   "outputs": [
    {
     "data": {
      "text/plain": [
       "<matplotlib.legend.Legend at 0x2515709ecd0>"
      ]
     },
     "execution_count": 71,
     "metadata": {},
     "output_type": "execute_result"
    },
    {
     "data": {
      "image/png": "[encoded data removed]",
      "text/plain": [
       "<Figure size 640x480 with 1 Axes>"
      ]
     },
     "metadata": {},
     "output_type": "display_data"
    }
   ],
   "source": [
    "#Creating graph of crosstab\n",
    "age_income_bar = age_income_cross.plot.bar(color=['#4361ee', '#7209b7', '#3a0ca3', '#7a7fe1'])\n",
    "plt.title('Income by Age Group')\n",
    "plt.ylabel('Number of Customers (In Millions)')\n",
    "plt.xlabel('Income Group')\n",
    "plt.legend(bbox_to_anchor=(1.0, 1.0))"
   ]
  },
  {
   "cell_type": "markdown",
   "id": "3a1ca29c",
   "metadata": {},
   "source": [
    "### Creating a crosstab of number_of_dependants with income."
   ]
  },
  {
   "cell_type": "code",
   "execution_count": 74,
   "id": "d70279ea",
   "metadata": {},
   "outputs": [],
   "source": [
    "#Number_of_dependants crosstab with income_group\n",
    "dependant_income_cross = pd.crosstab(ords_prods['income_group'], ords_prods['number_of_dependants'], dropna = False)"
   ]
  },
  {
   "cell_type": "code",
   "execution_count": 75,
   "id": "f833f9e3",
   "metadata": {},
   "outputs": [
    {
     "data": {
      "text/html": [
       "<div>\n",
       "<style scoped>\n",
       "    .dataframe tbody tr th:only-of-type {\n",
       "        vertical-align: middle;\n",
       "    }\n",
       "\n",
       "    .dataframe tbody tr th {\n",
       "        vertical-align: top;\n",
       "    }\n",
       "\n",
       "    .dataframe thead th {\n",
       "        text-align: right;\n",
       "    }\n",
       "</style>\n",
       "<table border=\"1\" class=\"dataframe\">\n",
       "  <thead>\n",
       "    <tr style=\"text-align: right;\">\n",
       "      <th>number_of_dependants</th>\n",
       "      <th>0</th>\n",
       "      <th>1</th>\n",
       "      <th>2</th>\n",
       "      <th>3</th>\n",
       "    </tr>\n",
       "    <tr>\n",
       "      <th>income_group</th>\n",
       "      <th></th>\n",
       "      <th></th>\n",
       "      <th></th>\n",
       "      <th></th>\n",
       "    </tr>\n",
       "  </thead>\n",
       "  <tbody>\n",
       "    <tr>\n",
       "      <th>High income</th>\n",
       "      <td>1946275</td>\n",
       "      <td>1915785</td>\n",
       "      <td>1937606</td>\n",
       "      <td>1948576</td>\n",
       "    </tr>\n",
       "    <tr>\n",
       "      <th>Low income</th>\n",
       "      <td>1931869</td>\n",
       "      <td>1928528</td>\n",
       "      <td>1940714</td>\n",
       "      <td>1947345</td>\n",
       "    </tr>\n",
       "    <tr>\n",
       "      <th>Medium-high income</th>\n",
       "      <td>1948028</td>\n",
       "      <td>1928168</td>\n",
       "      <td>1927615</td>\n",
       "      <td>1943530</td>\n",
       "    </tr>\n",
       "    <tr>\n",
       "      <th>Medium-low income</th>\n",
       "      <td>1921011</td>\n",
       "      <td>1953648</td>\n",
       "      <td>1934604</td>\n",
       "      <td>1940187</td>\n",
       "    </tr>\n",
       "  </tbody>\n",
       "</table>\n",
       "</div>"
      ],
      "text/plain": [
       "number_of_dependants        0        1        2        3\n",
       "income_group                                            \n",
       "High income           1946275  1915785  1937606  1948576\n",
       "Low income            1931869  1928528  1940714  1947345\n",
       "Medium-high income    1948028  1928168  1927615  1943530\n",
       "Medium-low income     1921011  1953648  1934604  1940187"
      ]
     },
     "execution_count": 75,
     "metadata": {},
     "output_type": "execute_result"
    }
   ],
   "source": [
    "dependant_income_cross"
   ]
  },
  {
   "cell_type": "code",
   "execution_count": 77,
   "id": "f8341976",
   "metadata": {},
   "outputs": [
    {
     "data": {
      "text/plain": [
       "<matplotlib.legend.Legend at 0x25158775290>"
      ]
     },
     "execution_count": 77,
     "metadata": {},
     "output_type": "execute_result"
    },
    {
     "data": {
      "image/png": "[encoded data removed]",
      "text/plain": [
       "<Figure size 640x480 with 1 Axes>"
      ]
     },
     "metadata": {},
     "output_type": "display_data"
    }
   ],
   "source": [
    "#Creating graph of crosstab\n",
    "dependant_income_bar = dependant_income_cross.plot.bar(color=['#4361ee', '#7209b7', '#3a0ca3', '#7a7fe1'])\n",
    "plt.title('Income by Number of Dependants')\n",
    "plt.ylabel('Number of Customers (In Millions)')\n",
    "plt.xlabel('Income Group')\n",
    "plt.legend(bbox_to_anchor=(1.0, 1.0))"
   ]
  },
  {
   "cell_type": "markdown",
   "id": "0afabdd5",
   "metadata": {},
   "source": [
    "### Dependants does not seem to affect income. Age 18-32 has the least amount of high income customers and most amount of low income customers. Age 65-81 has the most high income customers. Based on family status, married customers make up the majority of all income ranges."
   ]
  },
  {
   "cell_type": "markdown",
   "id": "f234dd06",
   "metadata": {},
   "source": [
    "## 05. Creating a Customer Profile - Finalization"
   ]
  },
  {
   "cell_type": "markdown",
   "id": "6828dae1",
   "metadata": {},
   "source": [
    "### From the above crosstabs we can break down each family status by number of dependants and age. Divorced/widowed = no dependants, ages 49-81. Single =  no dependants, ages 18-64. Living with parents and siblings = 1-3 dependants, ages 18-32. Married = 1-3 dependants, ages 18-81"
   ]
  },
  {
   "cell_type": "markdown",
   "id": "ebc0bf0d",
   "metadata": {},
   "source": [
    "### These groups can then be turned into customer profiles:\n",
    "### Younger, single, no dependants (Ages 18-32, single, no dependants, possibly low income)\n",
    "### Middle, single, no dependants (Ages 33-64, single, no dependants, possibly medium incomes)\n",
    "### Older, single, no dependants (Ages 65-81, single, no dependants, possibly high income)\n",
    "### Younger, married, dependants (Ages 18-32, married, 1-3 dependants, possibly low income)\n",
    "### Middle, married, dependants (Ages 33-64, married, 1-3 dependants, possibly medium incomes)\n",
    "### Older, married, dependants (Ages 65-81, married, 1-3 dependants, possibly high income)\n",
    "### Young, single, dependants (Ages 18-32, single, 1-3 dependants, possibly low income)"
   ]
  },
  {
   "cell_type": "markdown",
   "id": "7a6108ab",
   "metadata": {},
   "source": [
    "### Creating conditions for customer_profile flag."
   ]
  },
  {
   "cell_type": "code",
   "execution_count": null,
   "id": "f63e316a",
   "metadata": {},
   "outputs": [],
   "source": [
    "#Younger single no dependants (Ages 18-32, single, no dependants)\n",
    "ords_prods.loc[(ords_prods['age_group'] == 'Age 18-32') & (ords_prods['family_status'] == 'single') & (ords_prods['number_of_dependants'] == 0), 'customer_profile'] = 'younger single no dependants'"
   ]
  },
  {
   "cell_type": "code",
   "execution_count": null,
   "id": "b6655da5",
   "metadata": {},
   "outputs": [],
   "source": [
    "#Middle single no dependants (Ages 33-64, single, no dependants)\n",
    "ords_prods.loc[(ords_prods['age'] > 32) & (ords_prods['age'] <= 64) & (ords_prods['family_status'] == 'single') & (ords_prods['number_of_dependants'] == 0), 'customer_profile'] = 'middle single no dependants'"
   ]
  },
  {
   "cell_type": "code",
   "execution_count": null,
   "id": "d0f1bd10",
   "metadata": {},
   "outputs": [],
   "source": [
    "#Middle single no dependants (Ages 33-64, divorced/widowed, no dependants)\n",
    "ords_prods.loc[(ords_prods['age'] <= 64) & (ords_prods['family_status'] == 'divorced/widowed') & (ords_prods['number_of_dependants'] == 0), 'customer_profile'] = 'middle single no dependants'"
   ]
  },
  {
   "cell_type": "code",
   "execution_count": null,
   "id": "2b412c69",
   "metadata": {},
   "outputs": [],
   "source": [
    "#Older single no dependants (Ages 65-81, divorced/widowed, no dependants)\n",
    "ords_prods.loc[(ords_prods['age'] > 64) & (ords_prods['family_status'] == 'divorced/widowed') & (ords_prods['number_of_dependants'] == 0), 'customer_profile'] = 'older single no dependants'"
   ]
  },
  {
   "cell_type": "code",
   "execution_count": null,
   "id": "32a2df02",
   "metadata": {},
   "outputs": [],
   "source": [
    "#Younger married dependants (Ages 18-32, married, 1-3 dependants)\n",
    "ords_prods.loc[(ords_prods['age_group'] == 'Age 18-32') & (ords_prods['family_status'] == 'married') & (ords_prods['number_of_dependants'] >= 1), 'customer_profile'] = 'younger married dependants'"
   ]
  },
  {
   "cell_type": "code",
   "execution_count": null,
   "id": "d4af1c87",
   "metadata": {},
   "outputs": [],
   "source": [
    "#Middle married dependants (Ages 33-64, married, dependants)\n",
    "ords_prods.loc[(ords_prods['age'] > 32) & (ords_prods['age'] <= 64) & (ords_prods['family_status'] == 'married') & (ords_prods['number_of_dependants'] >= 1), 'customer_profile'] = 'middle married dependants'"
   ]
  },
  {
   "cell_type": "code",
   "execution_count": null,
   "id": "2c8c541a",
   "metadata": {},
   "outputs": [],
   "source": [
    "#Older married dependants (Ages 65-81, married, dependants)\n",
    "ords_prods.loc[(ords_prods['age'] > 64) & (ords_prods['family_status'] == 'married') & (ords_prods['number_of_dependants'] >= 1), 'customer_profile'] = 'older married dependants'"
   ]
  },
  {
   "cell_type": "code",
   "execution_count": null,
   "id": "14208671",
   "metadata": {},
   "outputs": [],
   "source": [
    "#Younger single dependants (Ages 18-32, single, dependants)\n",
    "ords_prods.loc[(ords_prods['age_group'] == 'Age 18-32') & (ords_prods['family_status'] == 'living with parents and siblings') & (ords_prods['number_of_dependants'] >= 1), 'customer_profile'] = 'younger single dependants'"
   ]
  },
  {
   "cell_type": "code",
   "execution_count": null,
   "id": "5d1e2cdf",
   "metadata": {},
   "outputs": [],
   "source": [
    "#Checking output of customer_profile\n",
    "ords_prods['customer_profile'].value_counts(dropna = False).sort_index()"
   ]
  },
  {
   "cell_type": "code",
   "execution_count": null,
   "id": "5e83794e",
   "metadata": {},
   "outputs": [],
   "source": [
    "#Checking shape of customer_profile\n",
    "ords_prods['customer_profile'].shape"
   ]
  },
  {
   "cell_type": "code",
   "execution_count": null,
   "id": "e63fdad9",
   "metadata": {},
   "outputs": [],
   "source": [
    "#Frequency table of customer_profile\n",
    "customer_profile_bar = ords_prods['customer_profile'].value_counts().sort_index().plot.bar()\n",
    "plt.title('Customer Profile Count')\n",
    "plt.xlabel('Customer Profile')\n",
    "plt.ylabel('Number of Customers (In Ten millions)')"
   ]
  },
  {
   "cell_type": "code",
   "execution_count": null,
   "id": "ee94311a",
   "metadata": {},
   "outputs": [],
   "source": [
    "#Checking customer_profile against fam_age_cross\n",
    "fam_age_cross"
   ]
  },
  {
   "cell_type": "markdown",
   "id": "0a17df1d",
   "metadata": {},
   "source": [
    "## 06. Export Charts and Data"
   ]
  },
  {
   "cell_type": "code",
   "execution_count": null,
   "id": "8729f3de",
   "metadata": {},
   "outputs": [],
   "source": [
    "#Exporting age_group bar chart\n",
    "age_group_bar.figure.savefig(os.path.join(path, '04_Analysis', 'Visualizations', 'age_group_bar.png'))"
   ]
  },
  {
   "cell_type": "code",
   "execution_count": null,
   "id": "68c97a81",
   "metadata": {},
   "outputs": [],
   "source": [
    "#Exporting income_group bar chart\n",
    "income_group_bar.figure.savefig(os.path.join(path, '04_Analysis', 'Visualizations', 'income_group_bar.png'))"
   ]
  },
  {
   "cell_type": "code",
   "execution_count": 30,
   "id": "987266d3",
   "metadata": {},
   "outputs": [],
   "source": [
    "#Exporting family status bar chart\n",
    "family_bar.figure.savefig(os.path.join(path, '04_Analysis', 'Visualizations', 'family_bar.png'))"
   ]
  },
  {
   "cell_type": "code",
   "execution_count": 39,
   "id": "55bd9dfb",
   "metadata": {},
   "outputs": [],
   "source": [
    "#Exporting family by age bar chart\n",
    "family_age_bar.figure.savefig(os.path.join(path, '04_Analysis', 'Visualizations', 'family_age_bar.png'))"
   ]
  },
  {
   "cell_type": "code",
   "execution_count": 45,
   "id": "f1f52ac0",
   "metadata": {},
   "outputs": [],
   "source": [
    "#Exporting dependants bar chart\n",
    "dependants_bar.figure.savefig(os.path.join(path, '04_Analysis', 'Visualizations', 'dependants_bar.png'))"
   ]
  },
  {
   "cell_type": "code",
   "execution_count": 52,
   "id": "49df5686",
   "metadata": {},
   "outputs": [],
   "source": [
    "#Exporting family by dependants bar chart\n",
    "family_dependants_bar.figure.savefig(os.path.join(path, '04_Analysis', 'Visualizations', 'family_dependants_bar.png'))"
   ]
  },
  {
   "cell_type": "code",
   "execution_count": 56,
   "id": "7705b50b",
   "metadata": {},
   "outputs": [],
   "source": [
    "#Exporting age by dependants bar chart\n",
    "age_dependants_bar.figure.savefig(os.path.join(path, '04_Analysis', 'Visualizations', 'age_dependants_bar.png'))"
   ]
  },
  {
   "cell_type": "code",
   "execution_count": 66,
   "id": "cca79fa5",
   "metadata": {},
   "outputs": [],
   "source": [
    "#Exporting family by income bar chart\n",
    "fam_income_bar.figure.savefig(os.path.join(path, '04_Analysis', 'Visualizations', 'fam_income_bar.png'))"
   ]
  },
  {
   "cell_type": "code",
   "execution_count": 72,
   "id": "1a70bddb",
   "metadata": {},
   "outputs": [],
   "source": [
    "#Exporting age by income bar chart\n",
    "age_income_bar.figure.savefig(os.path.join(path, '04_Analysis', 'Visualizations', 'age_income_bar.png'))"
   ]
  },
  {
   "cell_type": "code",
   "execution_count": 78,
   "id": "1001bbb4",
   "metadata": {},
   "outputs": [],
   "source": [
    "#Exporting dependant by income bar chart\n",
    "dependant_income_bar.figure.savefig(os.path.join(path, '04_Analysis', 'Visualizations', 'dependant_income_bar.png'))"
   ]
  },
  {
   "cell_type": "code",
   "execution_count": null,
   "id": "e7aa87f0",
   "metadata": {},
   "outputs": [],
   "source": [
    "#Exporting customer_profile bar chart\n",
    "customer_profile_bar.figure.savefig(os.path.join(path, '04_Analysis', 'Visualizations', 'customer_profile_bar.png'))"
   ]
  },
  {
   "cell_type": "code",
   "execution_count": null,
   "id": "927283c2",
   "metadata": {},
   "outputs": [],
   "source": [
    "#Exporting ords_prods as orders_products_all_profile.pkl\n",
    "ords_prods.to_pickle(os.path.join(path, '02_Data', 'Prepared_Data', 'orders_products_all_profile.pkl'))"
   ]
  }
 ],
 "metadata": {
  "kernelspec": {
   "display_name": "Python 3 (ipykernel)",
   "language": "python",
   "name": "python3"
  },
  "language_info": {
   "codemirror_mode": {
    "name": "ipython",
    "version": 3
   },
   "file_extension": ".py",
   "mimetype": "text/x-python",
   "name": "python",
   "nbconvert_exporter": "python",
   "pygments_lexer": "ipython3",
   "version": "3.11.5"
  }
 },
 "nbformat": 4,
 "nbformat_minor": 5
}
