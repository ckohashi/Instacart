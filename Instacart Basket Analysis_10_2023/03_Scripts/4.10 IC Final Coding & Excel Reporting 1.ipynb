{
 "cells": [
  {
   "cell_type": "markdown",
   "id": "482aa64a",
   "metadata": {},
   "source": [
    "# IC Coding Etiquette and Excel Reporting Part 1"
   ]
  },
  {
   "cell_type": "markdown",
   "id": "32a2694b",
   "metadata": {},
   "source": [
    "## 01. Importing Libraries\n",
    "## 02. Importing Data\n",
    "## 03. PII (Personally Identifiable Information) Consideration\n",
    "## 04. Comparing Customer Behavior in Different Geographic Regions\n",
    "## 05.Visualizations for Labels and Flags## 06. Creating a Low-Activity Exclusion Flag\n",
    "## 07. Exporting Charts and Data\n",
    "\n",
    "## --"
   ]
  },
  {
   "cell_type": "markdown",
   "id": "dfb7c10b",
   "metadata": {},
   "source": [
    "## 01. Importing Libraries"
   ]
  },
  {
   "cell_type": "code",
   "execution_count": 1,
   "id": "aa028734",
   "metadata": {},
   "outputs": [],
   "source": [
    "#Importing libraries\n",
    "import pandas as pd\n",
    "import numpy as np\n",
    "import os\n",
    "import matplotlib.pyplot as plt\n",
    "import seaborn as sns\n",
    "import scipy"
   ]
  },
  {
   "cell_type": "markdown",
   "id": "61787d6f",
   "metadata": {},
   "source": [
    "## 02. Importing Data"
   ]
  },
  {
   "cell_type": "code",
   "execution_count": 2,
   "id": "ad03f603",
   "metadata": {},
   "outputs": [],
   "source": [
    "#Assigning path for import\n",
    "path = r'C:\\Users\\Mosspants\\Desktop\\CareerFoundry\\A4_Python_Fundamentals_for_Data_Analysts\\Instacart Basket Analysis_10_2023'"
   ]
  },
  {
   "cell_type": "code",
   "execution_count": 3,
   "id": "df36ae31",
   "metadata": {},
   "outputs": [],
   "source": [
    "#Importing orders_products_all\n",
    "ords_prods = pd.read_pickle(os.path.join(path, '02_Data', 'Prepared_Data', 'orders_products_all.pkl'))"
   ]
  },
  {
   "cell_type": "code",
   "execution_count": 4,
   "id": "24f844ec",
   "metadata": {},
   "outputs": [
    {
     "data": {
      "text/html": [
       "<div>\n",
       "<style scoped>\n",
       "    .dataframe tbody tr th:only-of-type {\n",
       "        vertical-align: middle;\n",
       "    }\n",
       "\n",
       "    .dataframe tbody tr th {\n",
       "        vertical-align: top;\n",
       "    }\n",
       "\n",
       "    .dataframe thead th {\n",
       "        text-align: right;\n",
       "    }\n",
       "</style>\n",
       "<table border=\"1\" class=\"dataframe\">\n",
       "  <thead>\n",
       "    <tr style=\"text-align: right;\">\n",
       "      <th></th>\n",
       "      <th>user_id</th>\n",
       "      <th>state</th>\n",
       "      <th>age</th>\n",
       "      <th>date_joined</th>\n",
       "      <th>number_of_dependants</th>\n",
       "      <th>family_status</th>\n",
       "      <th>income</th>\n",
       "      <th>order_id</th>\n",
       "      <th>order_number</th>\n",
       "      <th>order_day_of_week</th>\n",
       "      <th>...</th>\n",
       "      <th>prices</th>\n",
       "      <th>price_label</th>\n",
       "      <th>busiest_days</th>\n",
       "      <th>busiest_period_of_day</th>\n",
       "      <th>max_order</th>\n",
       "      <th>loyalty_flag</th>\n",
       "      <th>average_price</th>\n",
       "      <th>spending_flag</th>\n",
       "      <th>average_days_since_prior_order</th>\n",
       "      <th>frequency_flag</th>\n",
       "    </tr>\n",
       "  </thead>\n",
       "  <tbody>\n",
       "    <tr>\n",
       "      <th>0</th>\n",
       "      <td>26711</td>\n",
       "      <td>Missouri</td>\n",
       "      <td>48</td>\n",
       "      <td>1/1/2017</td>\n",
       "      <td>3</td>\n",
       "      <td>married</td>\n",
       "      <td>165665</td>\n",
       "      <td>2543867</td>\n",
       "      <td>5.0</td>\n",
       "      <td>1.0</td>\n",
       "      <td>...</td>\n",
       "      <td>9.0</td>\n",
       "      <td>Mid-range product</td>\n",
       "      <td>Busiest Days</td>\n",
       "      <td>Most Orders</td>\n",
       "      <td>8.0</td>\n",
       "      <td>New Customer</td>\n",
       "      <td>12.6</td>\n",
       "      <td>High Spender</td>\n",
       "      <td>30.0</td>\n",
       "      <td>Non-frequent Customer</td>\n",
       "    </tr>\n",
       "    <tr>\n",
       "      <th>1</th>\n",
       "      <td>26711</td>\n",
       "      <td>Missouri</td>\n",
       "      <td>48</td>\n",
       "      <td>1/1/2017</td>\n",
       "      <td>3</td>\n",
       "      <td>married</td>\n",
       "      <td>165665</td>\n",
       "      <td>1285508</td>\n",
       "      <td>7.0</td>\n",
       "      <td>5.0</td>\n",
       "      <td>...</td>\n",
       "      <td>9.0</td>\n",
       "      <td>Mid-range product</td>\n",
       "      <td>Regular Days</td>\n",
       "      <td>Most Orders</td>\n",
       "      <td>8.0</td>\n",
       "      <td>New Customer</td>\n",
       "      <td>12.6</td>\n",
       "      <td>High Spender</td>\n",
       "      <td>30.0</td>\n",
       "      <td>Non-frequent Customer</td>\n",
       "    </tr>\n",
       "    <tr>\n",
       "      <th>2</th>\n",
       "      <td>26711</td>\n",
       "      <td>Missouri</td>\n",
       "      <td>48</td>\n",
       "      <td>1/1/2017</td>\n",
       "      <td>3</td>\n",
       "      <td>married</td>\n",
       "      <td>165665</td>\n",
       "      <td>2578584</td>\n",
       "      <td>8.0</td>\n",
       "      <td>1.0</td>\n",
       "      <td>...</td>\n",
       "      <td>9.0</td>\n",
       "      <td>Mid-range product</td>\n",
       "      <td>Busiest Days</td>\n",
       "      <td>Most Orders</td>\n",
       "      <td>8.0</td>\n",
       "      <td>New Customer</td>\n",
       "      <td>12.6</td>\n",
       "      <td>High Spender</td>\n",
       "      <td>30.0</td>\n",
       "      <td>Non-frequent Customer</td>\n",
       "    </tr>\n",
       "    <tr>\n",
       "      <th>3</th>\n",
       "      <td>26711</td>\n",
       "      <td>Missouri</td>\n",
       "      <td>48</td>\n",
       "      <td>1/1/2017</td>\n",
       "      <td>3</td>\n",
       "      <td>married</td>\n",
       "      <td>165665</td>\n",
       "      <td>423547</td>\n",
       "      <td>2.0</td>\n",
       "      <td>2.0</td>\n",
       "      <td>...</td>\n",
       "      <td>12.6</td>\n",
       "      <td>Mid-range product</td>\n",
       "      <td>Regular Days</td>\n",
       "      <td>Most Orders</td>\n",
       "      <td>8.0</td>\n",
       "      <td>New Customer</td>\n",
       "      <td>12.6</td>\n",
       "      <td>High Spender</td>\n",
       "      <td>30.0</td>\n",
       "      <td>Non-frequent Customer</td>\n",
       "    </tr>\n",
       "    <tr>\n",
       "      <th>4</th>\n",
       "      <td>26711</td>\n",
       "      <td>Missouri</td>\n",
       "      <td>48</td>\n",
       "      <td>1/1/2017</td>\n",
       "      <td>3</td>\n",
       "      <td>married</td>\n",
       "      <td>165665</td>\n",
       "      <td>2524893</td>\n",
       "      <td>3.0</td>\n",
       "      <td>3.0</td>\n",
       "      <td>...</td>\n",
       "      <td>12.6</td>\n",
       "      <td>Mid-range product</td>\n",
       "      <td>Slowest Days</td>\n",
       "      <td>Most Orders</td>\n",
       "      <td>8.0</td>\n",
       "      <td>New Customer</td>\n",
       "      <td>12.6</td>\n",
       "      <td>High Spender</td>\n",
       "      <td>30.0</td>\n",
       "      <td>Non-frequent Customer</td>\n",
       "    </tr>\n",
       "  </tbody>\n",
       "</table>\n",
       "<p>5 rows × 29 columns</p>\n",
       "</div>"
      ],
      "text/plain": [
       "  user_id     state  age date_joined  number_of_dependants family_status  \\\n",
       "0   26711  Missouri   48    1/1/2017                     3       married   \n",
       "1   26711  Missouri   48    1/1/2017                     3       married   \n",
       "2   26711  Missouri   48    1/1/2017                     3       married   \n",
       "3   26711  Missouri   48    1/1/2017                     3       married   \n",
       "4   26711  Missouri   48    1/1/2017                     3       married   \n",
       "\n",
       "   income order_id  order_number  order_day_of_week  ...  prices  \\\n",
       "0  165665  2543867           5.0                1.0  ...     9.0   \n",
       "1  165665  1285508           7.0                5.0  ...     9.0   \n",
       "2  165665  2578584           8.0                1.0  ...     9.0   \n",
       "3  165665   423547           2.0                2.0  ...    12.6   \n",
       "4  165665  2524893           3.0                3.0  ...    12.6   \n",
       "\n",
       "         price_label  busiest_days  busiest_period_of_day  max_order  \\\n",
       "0  Mid-range product  Busiest Days            Most Orders        8.0   \n",
       "1  Mid-range product  Regular Days            Most Orders        8.0   \n",
       "2  Mid-range product  Busiest Days            Most Orders        8.0   \n",
       "3  Mid-range product  Regular Days            Most Orders        8.0   \n",
       "4  Mid-range product  Slowest Days            Most Orders        8.0   \n",
       "\n",
       "   loyalty_flag average_price  spending_flag  average_days_since_prior_order  \\\n",
       "0  New Customer          12.6   High Spender                            30.0   \n",
       "1  New Customer          12.6   High Spender                            30.0   \n",
       "2  New Customer          12.6   High Spender                            30.0   \n",
       "3  New Customer          12.6   High Spender                            30.0   \n",
       "4  New Customer          12.6   High Spender                            30.0   \n",
       "\n",
       "          frequency_flag  \n",
       "0  Non-frequent Customer  \n",
       "1  Non-frequent Customer  \n",
       "2  Non-frequent Customer  \n",
       "3  Non-frequent Customer  \n",
       "4  Non-frequent Customer  \n",
       "\n",
       "[5 rows x 29 columns]"
      ]
     },
     "execution_count": 4,
     "metadata": {},
     "output_type": "execute_result"
    }
   ],
   "source": [
    "#Checking import with head()\n",
    "ords_prods.head()"
   ]
  },
  {
   "cell_type": "code",
   "execution_count": 5,
   "id": "6a1dd1fc",
   "metadata": {},
   "outputs": [
    {
     "data": {
      "text/plain": [
       "(32435059, 29)"
      ]
     },
     "execution_count": 5,
     "metadata": {},
     "output_type": "execute_result"
    }
   ],
   "source": [
    "#Checking import with shape\n",
    "ords_prods.shape"
   ]
  },
  {
   "cell_type": "markdown",
   "id": "0e45b671",
   "metadata": {},
   "source": [
    "## 03. PII (Personally Identifiable Information) Consideration"
   ]
  },
  {
   "cell_type": "markdown",
   "id": "abb17a8e",
   "metadata": {},
   "source": [
    "### The original data included first and last names, which are PII (Personally Identifiable Information). These columns were originally removed because they did not contribute to the analysis, but were also addressed due to data security."
   ]
  },
  {
   "cell_type": "markdown",
   "id": "dabe3a45",
   "metadata": {},
   "source": [
    "## 04. Comparing Customer Behavior in Different Geographic Regions"
   ]
  },
  {
   "cell_type": "markdown",
   "id": "a1223060",
   "metadata": {},
   "source": [
    "### Creating a 'region' column based on 'state'."
   ]
  },
  {
   "cell_type": "code",
   "execution_count": null,
   "id": "506aac6d",
   "metadata": {},
   "outputs": [],
   "source": [
    "#Looking at names and counts of states\n",
    "ords_prods['state'].value_counts(dropna = False).sort_index()"
   ]
  },
  {
   "cell_type": "markdown",
   "id": "5eabc5b9",
   "metadata": {},
   "source": [
    "### Based on Wikipedia article, list of regions will be:\n",
    "### Northeast: Maine, New Hampshire, Vermont, Massachusetts, Rhode Island, Connecticut, New York, Pennsylvania, New Jersey\n",
    "### Midwest: Wisconsin, Michigan, Illinois, Indiana, Ohio, North Dakota, South Dakota, Nebraska, Kansas, Minnesota, Iowa, Missouri\n",
    "### South: Delaware, Maryland, District of Columbia, Virginia, West Virginia, North Carolina, South Carolina, Georgia, Florida, Kentucky, Tennessee, Mississippi, Alabama, Oklahoma, Texas, Arkansas, Louisiana\n",
    "### West: Idaho, Montana, Wyoming, Nevada, Utah, Colorado, Arizona, New Mexico, Alaska, Washington, Oregon, California, Hawaii"
   ]
  },
  {
   "cell_type": "code",
   "execution_count": null,
   "id": "6abe0362",
   "metadata": {},
   "outputs": [],
   "source": [
    "#Creating Northeast Region condition\n",
    "ords_prods.loc[(ords_prods['state'] == 'Maine') | (ords_prods['state'] == 'New Hampshire') | (ords_prods['state'] == 'Vermont') | (ords_prods['state'] == 'Massachusetts') | (ords_prods['state'] == 'Rhode Island') | (ords_prods['state'] == 'Connecticut') | (ords_prods['state'] == 'New York') | (ords_prods['state'] == 'Pennsylvania') | (ords_prods['state'] == 'New Jersey'), 'region'] = 'Northeast'"
   ]
  },
  {
   "cell_type": "code",
   "execution_count": null,
   "id": "081ef164",
   "metadata": {},
   "outputs": [],
   "source": [
    "#Creating Midwest Region condition\n",
    "ords_prods.loc[(ords_prods['state'] == 'Wisconsin') | (ords_prods['state'] == 'Michigan') | (ords_prods['state'] == 'Illinois') | (ords_prods['state'] == 'Indiana') | (ords_prods['state'] == 'Ohio') | (ords_prods['state'] == 'North Dakota') | (ords_prods['state'] == 'South Dakota') | (ords_prods['state'] == 'Nebraska') | (ords_prods['state'] == 'Kansas') | (ords_prods['state'] == 'Minnesota') | (ords_prods['state'] == 'Iowa') | (ords_prods['state'] == 'Missouri'), 'region'] = 'Midwest'"
   ]
  },
  {
   "cell_type": "code",
   "execution_count": null,
   "id": "8779768c",
   "metadata": {},
   "outputs": [],
   "source": [
    "#Creating South Region condition\n",
    "ords_prods.loc[(ords_prods['state'] == 'Delaware') | (ords_prods['state'] == 'Maryland') | (ords_prods['state'] == 'District of Columbia') | (ords_prods['state'] == 'Virginia') | (ords_prods['state'] == 'West Virginia') | (ords_prods['state'] == 'North Carolina') | (ords_prods['state'] == 'South Carolina') | (ords_prods['state'] == 'Georgia') | (ords_prods['state'] == 'Florida') | (ords_prods['state'] == 'Kentucky') | (ords_prods['state'] == 'Tennessee') | (ords_prods['state'] == 'Mississippi') | (ords_prods['state'] == 'Alabama') | (ords_prods['state'] == 'Oklahoma') | (ords_prods['state'] == 'Texas') | (ords_prods['state'] == 'Arkansas') | (ords_prods['state'] == 'Louisiana'), 'region'] = 'South'"
   ]
  },
  {
   "cell_type": "code",
   "execution_count": null,
   "id": "d7eb4bcd",
   "metadata": {},
   "outputs": [],
   "source": [
    "#Creating West Region condition\n",
    "ords_prods.loc[(ords_prods['state'] == 'Idaho') | (ords_prods['state'] == 'Montana') | (ords_prods['state'] == 'Wyoming') | (ords_prods['state'] == 'Nevada') | (ords_prods['state'] == 'Utah') | (ords_prods['state'] == 'Colorado') | (ords_prods['state'] == 'Arizona') | (ords_prods['state'] == 'New Mexico') | (ords_prods['state'] == 'Alaska') | (ords_prods['state'] == 'Washington') | (ords_prods['state'] == 'Oregon') | (ords_prods['state'] == 'California') | (ords_prods['state'] == 'Hawaii'), 'region'] = 'West'"
   ]
  },
  {
   "cell_type": "code",
   "execution_count": null,
   "id": "b2212df2",
   "metadata": {},
   "outputs": [],
   "source": [
    "#Checking output of region column\n",
    "ords_prods['region'].value_counts(dropna = False)"
   ]
  },
  {
   "cell_type": "code",
   "execution_count": null,
   "id": "ec40627f",
   "metadata": {},
   "outputs": [],
   "source": [
    "ords_prods['region'].shape"
   ]
  },
  {
   "cell_type": "markdown",
   "id": "428bf717",
   "metadata": {},
   "source": [
    "### Creating crosstab of spending habits based on regions."
   ]
  },
  {
   "cell_type": "code",
   "execution_count": null,
   "id": "cd110910",
   "metadata": {},
   "outputs": [],
   "source": [
    "#Creating a crosstab of spending_flag and region\n",
    "region_crosstab = pd.crosstab(ords_prods['spending_flag'], ords_prods['region'], dropna = False)"
   ]
  },
  {
   "cell_type": "code",
   "execution_count": null,
   "id": "68fc4285",
   "metadata": {},
   "outputs": [],
   "source": [
    "#Checking output of crosstab\n",
    "region_crosstab"
   ]
  },
  {
   "cell_type": "code",
   "execution_count": null,
   "id": "a7851cca",
   "metadata": {},
   "outputs": [],
   "source": [
    "#Copying crosstab to clipboard for pasting in Excel\n",
    "region_crosstab.to_clipboard()"
   ]
  },
  {
   "cell_type": "markdown",
   "id": "f7b8547f",
   "metadata": {},
   "source": [
    "### The South region contains the most customers and the most amount of High Spenders. 99.91% of customers in this region are High Spenders. This region also contained the most number of states.\n",
    "### In the next largest region, West region, 99.90% of customers are High Spenders.\n",
    "### The Midwest region also has 99.90% of High Spenders.\n",
    "### The lowest customer count region is the Northeast. 99.90% of customers in this region are High Spenders. This region also contained the least amount of states.\n",
    "### Based on the similar amount of High Spenders to Low Spenders in each region, I would say that there is no differences in the spending habbits based on region. Each region has an amount of High Spenders that makes up 99% of their total customer count."
   ]
  },
  {
   "cell_type": "code",
   "execution_count": null,
   "id": "38e336db",
   "metadata": {},
   "outputs": [],
   "source": [
    "#Frequency bar chart of new region variable\n",
    "region_bar = ords_prods['region'].value_counts().sort_index().plot.bar()\n",
    "plt.title('Region Count')\n",
    "plt.xlabel('Region')\n",
    "plt.ylabel('Number of Customers (In Ten Millions)')"
   ]
  },
  {
   "cell_type": "markdown",
   "id": "1976080a",
   "metadata": {},
   "source": [
    "### Crosstab of region and loyalty_flag."
   ]
  },
  {
   "cell_type": "code",
   "execution_count": null,
   "id": "0816e7b7",
   "metadata": {},
   "outputs": [],
   "source": [
    "#Creating a crosstab of loyalty_flag and region\n",
    "region_loyalty_crosstab = pd.crosstab(ords_prods['loyalty_flag'], ords_prods['region'], dropna = False)"
   ]
  },
  {
   "cell_type": "code",
   "execution_count": null,
   "id": "996a1884",
   "metadata": {},
   "outputs": [],
   "source": [
    "#Checking output of crosstab\n",
    "region_loyalty_crosstab"
   ]
  },
  {
   "cell_type": "code",
   "execution_count": null,
   "id": "6d7ca513",
   "metadata": {},
   "outputs": [],
   "source": [
    "#Copying crosstab to clipboard for pasting in Excel\n",
    "region_loyalty_crosstab.to_clipboard()"
   ]
  },
  {
   "cell_type": "code",
   "execution_count": null,
   "id": "3c5c0570",
   "metadata": {},
   "outputs": [],
   "source": [
    "#Count of loyalty_flag for comparison\n",
    "ords_prods['loyalty_flag'].value_counts(dropna = False).sort_index()"
   ]
  },
  {
   "cell_type": "markdown",
   "id": "9fb0a2a0",
   "metadata": {},
   "source": [
    "## 05.Visualizations for Labels and Flags"
   ]
  },
  {
   "cell_type": "markdown",
   "id": "b404451a",
   "metadata": {},
   "source": [
    "### Frequency_flag bar chart."
   ]
  },
  {
   "cell_type": "code",
   "execution_count": 12,
   "id": "9c1878a8",
   "metadata": {},
   "outputs": [
    {
     "data": {
      "text/plain": [
       "Text(0, 0.5, 'Number of Customers (In Ten Millions)')"
      ]
     },
     "execution_count": 12,
     "metadata": {},
     "output_type": "execute_result"
    },
    {
     "data": {
      "image/png": "[encoded data removed]",
      "text/plain": [
       "<Figure size 640x480 with 1 Axes>"
      ]
     },
     "metadata": {},
     "output_type": "display_data"
    }
   ],
   "source": [
    "#Frequency_flag bar chart\n",
    "frequency_bar = ords_prods['frequency_flag'].value_counts().sort_index().plot.bar()\n",
    "plt.title('Frequency Flag Count')\n",
    "plt.xlabel('Frequency Flag')\n",
    "plt.ylabel('Number of Customers (In Ten Millions)')"
   ]
  },
  {
   "cell_type": "markdown",
   "id": "f6f98f5f",
   "metadata": {},
   "source": [
    "### Spending_flag bar chart."
   ]
  },
  {
   "cell_type": "code",
   "execution_count": 11,
   "id": "7678e92b",
   "metadata": {},
   "outputs": [
    {
     "data": {
      "text/plain": [
       "Text(0, 0.5, 'Number of Customers (In Ten Millions)')"
      ]
     },
     "execution_count": 11,
     "metadata": {},
     "output_type": "execute_result"
    },
    {
     "data": {
      "image/png": "[encoded data removed]",
      "text/plain": [
       "<Figure size 640x480 with 1 Axes>"
      ]
     },
     "metadata": {},
     "output_type": "display_data"
    }
   ],
   "source": [
    "#Spending_flag bar chart\n",
    "spending_bar = ords_prods['spending_flag'].value_counts().sort_index().plot.bar()\n",
    "plt.title('Spending Flag Count')\n",
    "plt.xlabel('Spending Flag')\n",
    "plt.ylabel('Number of Customers (In Ten Millions)')"
   ]
  },
  {
   "cell_type": "markdown",
   "id": "5b8ba975",
   "metadata": {},
   "source": [
    "## 06. Creating a Low-Activity Exclusion Flag"
   ]
  },
  {
   "cell_type": "markdown",
   "id": "6ead7bdc",
   "metadata": {},
   "source": [
    "### Create an exclusion flag for low-activity customers (customers with less than 5 orders) and exclude them from the data."
   ]
  },
  {
   "cell_type": "code",
   "execution_count": null,
   "id": "16136032",
   "metadata": {},
   "outputs": [],
   "source": [
    "#Creating condtion for low-activity, less than 5 orders\n",
    "ords_prods.loc[ords_prods['max_order'] < 5, 'exclusion_flag'] = 'Low-activity'"
   ]
  },
  {
   "cell_type": "code",
   "execution_count": null,
   "id": "31579cca",
   "metadata": {},
   "outputs": [],
   "source": [
    "#Creating condtion for regular-activity, greater than or equal to 5 orders\n",
    "ords_prods.loc[ords_prods['max_order'] >= 5, 'exclusion_flag'] = 'Regular-activity'"
   ]
  },
  {
   "cell_type": "code",
   "execution_count": null,
   "id": "72e08675",
   "metadata": {},
   "outputs": [],
   "source": [
    "#Checking output of new exclusion_flag column\n",
    "ords_prods['exclusion_flag'].value_counts(dropna = False)"
   ]
  },
  {
   "cell_type": "code",
   "execution_count": null,
   "id": "f14fe5f3",
   "metadata": {},
   "outputs": [],
   "source": [
    "ords_prods['exclusion_flag'].shape"
   ]
  },
  {
   "cell_type": "markdown",
   "id": "4fafb115",
   "metadata": {},
   "source": [
    "### Creating subset without low-activity customers."
   ]
  },
  {
   "cell_type": "code",
   "execution_count": null,
   "id": "b95bcbbf",
   "metadata": {},
   "outputs": [],
   "source": [
    "#Creating subset of data with only regular-activity customers\n",
    "ords_prods_reg = ords_prods[ords_prods['exclusion_flag'] == 'Regular-activity']"
   ]
  },
  {
   "cell_type": "code",
   "execution_count": null,
   "id": "9ee9f257",
   "metadata": {},
   "outputs": [],
   "source": [
    "#Checking new subset\n",
    "ords_prods_reg['exclusion_flag'].value_counts(dropna = False)"
   ]
  },
  {
   "cell_type": "code",
   "execution_count": null,
   "id": "f236eda6",
   "metadata": {
    "scrolled": true
   },
   "outputs": [],
   "source": [
    "ords_prods_reg.head()"
   ]
  },
  {
   "cell_type": "code",
   "execution_count": null,
   "id": "7af6a8f7",
   "metadata": {},
   "outputs": [],
   "source": [
    "ords_prods_reg.shape"
   ]
  },
  {
   "cell_type": "markdown",
   "id": "e5e20bee",
   "metadata": {},
   "source": [
    "## 07. Exporting Charts and Data"
   ]
  },
  {
   "cell_type": "code",
   "execution_count": null,
   "id": "5ca52fbf",
   "metadata": {},
   "outputs": [],
   "source": [
    "#Exporting region bar chart\n",
    "region_bar.figure.savefig(os.path.join(path, '04_Analysis', 'Visualizations', 'region_bar.png' ))"
   ]
  },
  {
   "cell_type": "code",
   "execution_count": 13,
   "id": "04300011",
   "metadata": {},
   "outputs": [],
   "source": [
    "#Exporting frequency_flag bar chart\n",
    "frequency_bar.figure.savefig(os.path.join(path, '04_Analysis', 'Visualizations', 'frequency_bar.png' ))"
   ]
  },
  {
   "cell_type": "code",
   "execution_count": 14,
   "id": "82bcb9e6",
   "metadata": {},
   "outputs": [],
   "source": [
    "#Exporting spending_flag bar chart\n",
    "spending_bar.figure.savefig(os.path.join(path, '04_Analysis', 'Visualizations', 'spending_bar.png' ))"
   ]
  },
  {
   "cell_type": "code",
   "execution_count": null,
   "id": "5d9b18ff",
   "metadata": {},
   "outputs": [],
   "source": [
    "#Exporting orders_products_all with new region column\n",
    "ords_prods.to_pickle(os.path.join(path, '02_Data', 'Prepared_Data', 'orders_products_all_region.pkl'))"
   ]
  },
  {
   "cell_type": "code",
   "execution_count": null,
   "id": "3bd3c227",
   "metadata": {},
   "outputs": [],
   "source": [
    "#Exporting orders_products_all without low-activity customers\n",
    "ords_prods_reg.to_pickle(os.path.join(path, '02_Data', 'Prepared_Data', 'orders_products_all_regular.pkl'))"
   ]
  }
 ],
 "metadata": {
  "kernelspec": {
   "display_name": "Python 3 (ipykernel)",
   "language": "python",
   "name": "python3"
  },
  "language_info": {
   "codemirror_mode": {
    "name": "ipython",
    "version": 3
   },
   "file_extension": ".py",
   "mimetype": "text/x-python",
   "name": "python",
   "nbconvert_exporter": "python",
   "pygments_lexer": "ipython3",
   "version": "3.11.5"
  }
 },
 "nbformat": 4,
 "nbformat_minor": 5
}
