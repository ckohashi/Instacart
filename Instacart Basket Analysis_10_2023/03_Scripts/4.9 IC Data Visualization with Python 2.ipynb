{
 "cells": [
  {
   "cell_type": "markdown",
   "id": "e45da480",
   "metadata": {},
   "source": [
    "# IC Intro To Data Visualization with Python Exercise Part 2"
   ]
  },
  {
   "cell_type": "markdown",
   "id": "73d0670f",
   "metadata": {},
   "source": [
    "## List of Contents:\n",
    "## 01. Importing Libraries\n",
    "## 02. Importing Data\n",
    "## 03. Merging Customers and Orders_Products_Merged\n",
    "## 04. Creating Visualizations - Prices, Days, Hours, and Loyalty\n",
    "## 05. Creating Visualizations - Customer Demographics\n",
    "## 06. Export Charts and Data\n",
    "\n",
    "## --"
   ]
  },
  {
   "cell_type": "markdown",
   "id": "7eaf71e3",
   "metadata": {},
   "source": [
    "## 01. Importing Libraries"
   ]
  },
  {
   "cell_type": "code",
   "execution_count": 1,
   "id": "ebc5bda1",
   "metadata": {},
   "outputs": [],
   "source": [
    "#Importing libraries\n",
    "import pandas as pd\n",
    "import numpy as np\n",
    "import os\n",
    "import matplotlib.pyplot as plt\n",
    "import seaborn as sns\n",
    "import scipy"
   ]
  },
  {
   "cell_type": "markdown",
   "id": "aac4f819",
   "metadata": {},
   "source": [
    "## 02. Importing Data"
   ]
  },
  {
   "cell_type": "code",
   "execution_count": 2,
   "id": "e51b9c15",
   "metadata": {},
   "outputs": [],
   "source": [
    "#Assigning path for import\n",
    "path = r'C:\\Users\\Mosspants\\Desktop\\CareerFoundry\\A4_Python_Fundamentals_for_Data_Analysts\\Instacart Basket Analysis_10_2023'"
   ]
  },
  {
   "cell_type": "code",
   "execution_count": 3,
   "id": "9653c79c",
   "metadata": {},
   "outputs": [],
   "source": [
    "#Importing customers data\n",
    "cust = pd.read_pickle(os.path.join(path, '02_Data', 'Prepared_Data', 'customers_checked.pkl'))"
   ]
  },
  {
   "cell_type": "code",
   "execution_count": 4,
   "id": "9cb0f096",
   "metadata": {},
   "outputs": [],
   "source": [
    "#Importing orders_products_merged data\n",
    "ords_prods_merge = pd.read_pickle(os.path.join(path, '02_Data', 'Prepared_Data', 'orders_products_merged_final.pkl'))"
   ]
  },
  {
   "cell_type": "code",
   "execution_count": 5,
   "id": "64bba2c8",
   "metadata": {},
   "outputs": [
    {
     "data": {
      "text/plain": [
       "(206209, 7)"
      ]
     },
     "execution_count": 5,
     "metadata": {},
     "output_type": "execute_result"
    }
   ],
   "source": [
    "#Checking customers import with shape\n",
    "cust.shape"
   ]
  },
  {
   "cell_type": "code",
   "execution_count": 6,
   "id": "8bb19812",
   "metadata": {},
   "outputs": [
    {
     "data": {
      "text/html": [
       "<div>\n",
       "<style scoped>\n",
       "    .dataframe tbody tr th:only-of-type {\n",
       "        vertical-align: middle;\n",
       "    }\n",
       "\n",
       "    .dataframe tbody tr th {\n",
       "        vertical-align: top;\n",
       "    }\n",
       "\n",
       "    .dataframe thead th {\n",
       "        text-align: right;\n",
       "    }\n",
       "</style>\n",
       "<table border=\"1\" class=\"dataframe\">\n",
       "  <thead>\n",
       "    <tr style=\"text-align: right;\">\n",
       "      <th></th>\n",
       "      <th>user_id</th>\n",
       "      <th>state</th>\n",
       "      <th>age</th>\n",
       "      <th>date_joined</th>\n",
       "      <th>number_of_dependants</th>\n",
       "      <th>family_status</th>\n",
       "      <th>income</th>\n",
       "    </tr>\n",
       "  </thead>\n",
       "  <tbody>\n",
       "    <tr>\n",
       "      <th>0</th>\n",
       "      <td>26711</td>\n",
       "      <td>Missouri</td>\n",
       "      <td>48</td>\n",
       "      <td>1/1/2017</td>\n",
       "      <td>3</td>\n",
       "      <td>married</td>\n",
       "      <td>165665</td>\n",
       "    </tr>\n",
       "    <tr>\n",
       "      <th>1</th>\n",
       "      <td>33890</td>\n",
       "      <td>New Mexico</td>\n",
       "      <td>36</td>\n",
       "      <td>1/1/2017</td>\n",
       "      <td>0</td>\n",
       "      <td>single</td>\n",
       "      <td>59285</td>\n",
       "    </tr>\n",
       "    <tr>\n",
       "      <th>2</th>\n",
       "      <td>65803</td>\n",
       "      <td>Idaho</td>\n",
       "      <td>35</td>\n",
       "      <td>1/1/2017</td>\n",
       "      <td>2</td>\n",
       "      <td>married</td>\n",
       "      <td>99568</td>\n",
       "    </tr>\n",
       "    <tr>\n",
       "      <th>3</th>\n",
       "      <td>125935</td>\n",
       "      <td>Iowa</td>\n",
       "      <td>40</td>\n",
       "      <td>1/1/2017</td>\n",
       "      <td>0</td>\n",
       "      <td>single</td>\n",
       "      <td>42049</td>\n",
       "    </tr>\n",
       "    <tr>\n",
       "      <th>4</th>\n",
       "      <td>130797</td>\n",
       "      <td>Maryland</td>\n",
       "      <td>26</td>\n",
       "      <td>1/1/2017</td>\n",
       "      <td>1</td>\n",
       "      <td>married</td>\n",
       "      <td>40374</td>\n",
       "    </tr>\n",
       "  </tbody>\n",
       "</table>\n",
       "</div>"
      ],
      "text/plain": [
       "  user_id       state  age date_joined  number_of_dependants family_status  \\\n",
       "0   26711    Missouri   48    1/1/2017                     3       married   \n",
       "1   33890  New Mexico   36    1/1/2017                     0        single   \n",
       "2   65803       Idaho   35    1/1/2017                     2       married   \n",
       "3  125935        Iowa   40    1/1/2017                     0        single   \n",
       "4  130797    Maryland   26    1/1/2017                     1       married   \n",
       "\n",
       "   income  \n",
       "0  165665  \n",
       "1   59285  \n",
       "2   99568  \n",
       "3   42049  \n",
       "4   40374  "
      ]
     },
     "execution_count": 6,
     "metadata": {},
     "output_type": "execute_result"
    }
   ],
   "source": [
    "#Checking customers import with head\n",
    "cust.head()"
   ]
  },
  {
   "cell_type": "code",
   "execution_count": 7,
   "id": "7ad2f058",
   "metadata": {},
   "outputs": [
    {
     "data": {
      "text/plain": [
       "(32435059, 23)"
      ]
     },
     "execution_count": 7,
     "metadata": {},
     "output_type": "execute_result"
    }
   ],
   "source": [
    "#Checking orders_products_merged import with shape\n",
    "ords_prods_merge.shape"
   ]
  },
  {
   "cell_type": "code",
   "execution_count": 8,
   "id": "2f44a0cc",
   "metadata": {
    "scrolled": true
   },
   "outputs": [
    {
     "data": {
      "text/html": [
       "<div>\n",
       "<style scoped>\n",
       "    .dataframe tbody tr th:only-of-type {\n",
       "        vertical-align: middle;\n",
       "    }\n",
       "\n",
       "    .dataframe tbody tr th {\n",
       "        vertical-align: top;\n",
       "    }\n",
       "\n",
       "    .dataframe thead th {\n",
       "        text-align: right;\n",
       "    }\n",
       "</style>\n",
       "<table border=\"1\" class=\"dataframe\">\n",
       "  <thead>\n",
       "    <tr style=\"text-align: right;\">\n",
       "      <th></th>\n",
       "      <th>order_id</th>\n",
       "      <th>user_id</th>\n",
       "      <th>order_number</th>\n",
       "      <th>order_day_of_week</th>\n",
       "      <th>order_hour_of_day</th>\n",
       "      <th>days_since_prior_order</th>\n",
       "      <th>product_id</th>\n",
       "      <th>add_to_cart_order</th>\n",
       "      <th>reordered</th>\n",
       "      <th>_merge</th>\n",
       "      <th>...</th>\n",
       "      <th>prices</th>\n",
       "      <th>price_label</th>\n",
       "      <th>busiest_days</th>\n",
       "      <th>busiest_period_of_day</th>\n",
       "      <th>max_order</th>\n",
       "      <th>loyalty_flag</th>\n",
       "      <th>average_price</th>\n",
       "      <th>spending_flag</th>\n",
       "      <th>average_days_since_prior_order</th>\n",
       "      <th>frequency_flag</th>\n",
       "    </tr>\n",
       "  </thead>\n",
       "  <tbody>\n",
       "    <tr>\n",
       "      <th>0</th>\n",
       "      <td>2539329</td>\n",
       "      <td>1</td>\n",
       "      <td>1.0</td>\n",
       "      <td>2.0</td>\n",
       "      <td>8.0</td>\n",
       "      <td>NaN</td>\n",
       "      <td>196</td>\n",
       "      <td>1.0</td>\n",
       "      <td>0.0</td>\n",
       "      <td>both</td>\n",
       "      <td>...</td>\n",
       "      <td>9.0</td>\n",
       "      <td>Mid-range product</td>\n",
       "      <td>Regular Days</td>\n",
       "      <td>Average Orders</td>\n",
       "      <td>10.0</td>\n",
       "      <td>New Customer</td>\n",
       "      <td>14.0</td>\n",
       "      <td>High Spender</td>\n",
       "      <td>30.0</td>\n",
       "      <td>Non-frequent Customer</td>\n",
       "    </tr>\n",
       "    <tr>\n",
       "      <th>1</th>\n",
       "      <td>2398795</td>\n",
       "      <td>1</td>\n",
       "      <td>2.0</td>\n",
       "      <td>3.0</td>\n",
       "      <td>7.0</td>\n",
       "      <td>15.0</td>\n",
       "      <td>196</td>\n",
       "      <td>1.0</td>\n",
       "      <td>1.0</td>\n",
       "      <td>both</td>\n",
       "      <td>...</td>\n",
       "      <td>9.0</td>\n",
       "      <td>Mid-range product</td>\n",
       "      <td>Slowest Days</td>\n",
       "      <td>Average Orders</td>\n",
       "      <td>10.0</td>\n",
       "      <td>New Customer</td>\n",
       "      <td>14.0</td>\n",
       "      <td>High Spender</td>\n",
       "      <td>30.0</td>\n",
       "      <td>Non-frequent Customer</td>\n",
       "    </tr>\n",
       "    <tr>\n",
       "      <th>2</th>\n",
       "      <td>473747</td>\n",
       "      <td>1</td>\n",
       "      <td>3.0</td>\n",
       "      <td>3.0</td>\n",
       "      <td>12.0</td>\n",
       "      <td>21.0</td>\n",
       "      <td>196</td>\n",
       "      <td>1.0</td>\n",
       "      <td>1.0</td>\n",
       "      <td>both</td>\n",
       "      <td>...</td>\n",
       "      <td>9.0</td>\n",
       "      <td>Mid-range product</td>\n",
       "      <td>Slowest Days</td>\n",
       "      <td>Most Orders</td>\n",
       "      <td>10.0</td>\n",
       "      <td>New Customer</td>\n",
       "      <td>14.0</td>\n",
       "      <td>High Spender</td>\n",
       "      <td>30.0</td>\n",
       "      <td>Non-frequent Customer</td>\n",
       "    </tr>\n",
       "    <tr>\n",
       "      <th>3</th>\n",
       "      <td>2254736</td>\n",
       "      <td>1</td>\n",
       "      <td>4.0</td>\n",
       "      <td>4.0</td>\n",
       "      <td>7.0</td>\n",
       "      <td>29.0</td>\n",
       "      <td>196</td>\n",
       "      <td>1.0</td>\n",
       "      <td>1.0</td>\n",
       "      <td>both</td>\n",
       "      <td>...</td>\n",
       "      <td>9.0</td>\n",
       "      <td>Mid-range product</td>\n",
       "      <td>Slowest Days</td>\n",
       "      <td>Average Orders</td>\n",
       "      <td>10.0</td>\n",
       "      <td>New Customer</td>\n",
       "      <td>14.0</td>\n",
       "      <td>High Spender</td>\n",
       "      <td>30.0</td>\n",
       "      <td>Non-frequent Customer</td>\n",
       "    </tr>\n",
       "    <tr>\n",
       "      <th>4</th>\n",
       "      <td>431534</td>\n",
       "      <td>1</td>\n",
       "      <td>5.0</td>\n",
       "      <td>4.0</td>\n",
       "      <td>15.0</td>\n",
       "      <td>28.0</td>\n",
       "      <td>196</td>\n",
       "      <td>1.0</td>\n",
       "      <td>1.0</td>\n",
       "      <td>both</td>\n",
       "      <td>...</td>\n",
       "      <td>9.0</td>\n",
       "      <td>Mid-range product</td>\n",
       "      <td>Slowest Days</td>\n",
       "      <td>Most Orders</td>\n",
       "      <td>10.0</td>\n",
       "      <td>New Customer</td>\n",
       "      <td>14.0</td>\n",
       "      <td>High Spender</td>\n",
       "      <td>30.0</td>\n",
       "      <td>Non-frequent Customer</td>\n",
       "    </tr>\n",
       "  </tbody>\n",
       "</table>\n",
       "<p>5 rows × 23 columns</p>\n",
       "</div>"
      ],
      "text/plain": [
       "  order_id user_id  order_number  order_day_of_week  order_hour_of_day  \\\n",
       "0  2539329       1           1.0                2.0                8.0   \n",
       "1  2398795       1           2.0                3.0                7.0   \n",
       "2   473747       1           3.0                3.0               12.0   \n",
       "3  2254736       1           4.0                4.0                7.0   \n",
       "4   431534       1           5.0                4.0               15.0   \n",
       "\n",
       "   days_since_prior_order product_id  add_to_cart_order  reordered _merge  \\\n",
       "0                     NaN        196                1.0        0.0   both   \n",
       "1                    15.0        196                1.0        1.0   both   \n",
       "2                    21.0        196                1.0        1.0   both   \n",
       "3                    29.0        196                1.0        1.0   both   \n",
       "4                    28.0        196                1.0        1.0   both   \n",
       "\n",
       "   ... prices        price_label  busiest_days  busiest_period_of_day  \\\n",
       "0  ...    9.0  Mid-range product  Regular Days         Average Orders   \n",
       "1  ...    9.0  Mid-range product  Slowest Days         Average Orders   \n",
       "2  ...    9.0  Mid-range product  Slowest Days            Most Orders   \n",
       "3  ...    9.0  Mid-range product  Slowest Days         Average Orders   \n",
       "4  ...    9.0  Mid-range product  Slowest Days            Most Orders   \n",
       "\n",
       "  max_order  loyalty_flag average_price  spending_flag  \\\n",
       "0      10.0  New Customer          14.0   High Spender   \n",
       "1      10.0  New Customer          14.0   High Spender   \n",
       "2      10.0  New Customer          14.0   High Spender   \n",
       "3      10.0  New Customer          14.0   High Spender   \n",
       "4      10.0  New Customer          14.0   High Spender   \n",
       "\n",
       "  average_days_since_prior_order         frequency_flag  \n",
       "0                           30.0  Non-frequent Customer  \n",
       "1                           30.0  Non-frequent Customer  \n",
       "2                           30.0  Non-frequent Customer  \n",
       "3                           30.0  Non-frequent Customer  \n",
       "4                           30.0  Non-frequent Customer  \n",
       "\n",
       "[5 rows x 23 columns]"
      ]
     },
     "execution_count": 8,
     "metadata": {},
     "output_type": "execute_result"
    }
   ],
   "source": [
    "#Checking orders_products_merged import with head\n",
    "ords_prods_merge.head()"
   ]
  },
  {
   "cell_type": "markdown",
   "id": "27d64286",
   "metadata": {},
   "source": [
    "## 03. Merging Customers and Orders_Products_Merged"
   ]
  },
  {
   "cell_type": "code",
   "execution_count": 9,
   "id": "ed0b04e2",
   "metadata": {},
   "outputs": [],
   "source": [
    "#Outer join on customers and orders_products_merged\n",
    "ords_prods_cust = cust.merge(ords_prods_merge, on = 'user_id', how = 'outer')"
   ]
  },
  {
   "cell_type": "code",
   "execution_count": 10,
   "id": "a7869c70",
   "metadata": {},
   "outputs": [
    {
     "data": {
      "text/plain": [
       "_merge\n",
       "both          32435059\n",
       "left_only            0\n",
       "right_only           0\n",
       "Name: count, dtype: int64"
      ]
     },
     "execution_count": 10,
     "metadata": {},
     "output_type": "execute_result"
    }
   ],
   "source": [
    "#Checking merge with value_counts\n",
    "ords_prods_cust['_merge'].value_counts()"
   ]
  },
  {
   "cell_type": "code",
   "execution_count": 11,
   "id": "5bf46f78",
   "metadata": {},
   "outputs": [
    {
     "data": {
      "text/plain": [
       "(32435059, 29)"
      ]
     },
     "execution_count": 11,
     "metadata": {},
     "output_type": "execute_result"
    }
   ],
   "source": [
    "#Checking merge with shape\n",
    "ords_prods_cust.shape"
   ]
  },
  {
   "cell_type": "markdown",
   "id": "5b5e55d0",
   "metadata": {},
   "source": [
    "## 04. Creating Visualizations - Prices, Days, Hours, and Loyalty"
   ]
  },
  {
   "cell_type": "markdown",
   "id": "e268918c",
   "metadata": {},
   "source": [
    "### Bar chart of 'orders_by_day_of_week'."
   ]
  },
  {
   "cell_type": "code",
   "execution_count": 13,
   "id": "bfca9e40",
   "metadata": {},
   "outputs": [
    {
     "data": {
      "text/plain": [
       "Text(0, 0.5, 'Number of Orders (In millions)')"
      ]
     },
     "execution_count": 13,
     "metadata": {},
     "output_type": "execute_result"
    },
    {
     "data": {
      "image/png": "[encoded data removed]",
      "text/plain": [
       "<Figure size 640x480 with 1 Axes>"
      ]
     },
     "metadata": {},
     "output_type": "display_data"
    }
   ],
   "source": [
    "#Bar chart sorted by days of week\n",
    "bar_days = ords_prods_cust['order_day_of_week'].value_counts().sort_index().plot.bar()\n",
    "plt.title('Number of Orders by Day of Week')\n",
    "plt.xlabel('Day of Week')\n",
    "plt.ylabel('Number of Orders (In millions)')"
   ]
  },
  {
   "cell_type": "markdown",
   "id": "07f76ece",
   "metadata": {},
   "source": [
    "### Scatterplot of 'prices'."
   ]
  },
  {
   "cell_type": "code",
   "execution_count": null,
   "id": "ae6fc7ae",
   "metadata": {},
   "outputs": [],
   "source": [
    "#Scatterplot of prices\n",
    "hist_prices = ords_prods_cust['prices'].plot.hist(bins = 25)"
   ]
  },
  {
   "cell_type": "markdown",
   "id": "fa47579b",
   "metadata": {},
   "source": [
    "### Line chart of prices' over 'order_day_of_week' using a subset."
   ]
  },
  {
   "cell_type": "code",
   "execution_count": 17,
   "id": "fc724633",
   "metadata": {},
   "outputs": [],
   "source": [
    "#Assigning random number to data to make sample\n",
    "np.random.seed(4)\n",
    "dev = np.random.rand(len(ords_prods_cust)) <= 0.7"
   ]
  },
  {
   "cell_type": "code",
   "execution_count": 18,
   "id": "fe5d9207",
   "metadata": {},
   "outputs": [],
   "source": [
    "#Splitting numbers into two sample groups\n",
    "big = ords_prods_cust[dev]\n",
    "small = ords_prods_cust[~dev]"
   ]
  },
  {
   "cell_type": "code",
   "execution_count": 19,
   "id": "43759f9a",
   "metadata": {},
   "outputs": [
    {
     "data": {
      "text/plain": [
       "32435059"
      ]
     },
     "execution_count": 19,
     "metadata": {},
     "output_type": "execute_result"
    }
   ],
   "source": [
    "#Checking sample groups\n",
    "len(ords_prods_cust)"
   ]
  },
  {
   "cell_type": "code",
   "execution_count": 20,
   "id": "c86c4161",
   "metadata": {},
   "outputs": [
    {
     "data": {
      "text/plain": [
       "32435059"
      ]
     },
     "execution_count": 20,
     "metadata": {},
     "output_type": "execute_result"
    }
   ],
   "source": [
    "len(big) + len(small)"
   ]
  },
  {
   "cell_type": "code",
   "execution_count": null,
   "id": "2ccf93b9",
   "metadata": {},
   "outputs": [],
   "source": [
    "#Creating subset of data with sample and columns needed for line chart\n",
    "line_set = small[['order_day_of_week', 'prices']]"
   ]
  },
  {
   "cell_type": "code",
   "execution_count": null,
   "id": "a6184f94",
   "metadata": {},
   "outputs": [],
   "source": [
    "#Creating line chart using line_set\n",
    "line = sns.lineplot(data = line_set, x = 'order_day_of_week', y = 'prices')"
   ]
  },
  {
   "cell_type": "markdown",
   "id": "6b239c26",
   "metadata": {},
   "source": [
    "### A histogram of the 'order_hour_of_day'."
   ]
  },
  {
   "cell_type": "code",
   "execution_count": 15,
   "id": "389f5a52",
   "metadata": {},
   "outputs": [
    {
     "data": {
      "text/plain": [
       "Text(0, 0.5, 'Number of Orders (In millions)')"
      ]
     },
     "execution_count": 15,
     "metadata": {},
     "output_type": "execute_result"
    },
    {
     "data": {
      "image/png": "[encoded data removed]",
      "text/plain": [
       "<Figure size 640x480 with 1 Axes>"
      ]
     },
     "metadata": {},
     "output_type": "display_data"
    }
   ],
   "source": [
    "#Creating histogram of order_hour_of_day\n",
    "hist_hour = ords_prods_cust['order_hour_of_day'].plot.hist(bins = 24)\n",
    "plt.title('Number of Orders by Hour of Day')\n",
    "plt.xlabel('Hour of Day')\n",
    "plt.ylabel('Number of Orders (In millions)')"
   ]
  },
  {
   "cell_type": "markdown",
   "id": "097a4cbc",
   "metadata": {},
   "source": [
    "### This histogram shows how frequently a hour shows up in our data. The most frequent hours are in the center of the graph, from hour 10 - 16. Since order_hour_of_day means the hour of the day an order is placed, we can infer that the most popular time for orders to be placed are from 10 - 16 (10AM - 4PM)."
   ]
  },
  {
   "cell_type": "markdown",
   "id": "896283ba",
   "metadata": {},
   "source": [
    "### Bar chart of the 'loyalty_flag'."
   ]
  },
  {
   "cell_type": "code",
   "execution_count": 37,
   "id": "4ae0e9ee",
   "metadata": {},
   "outputs": [
    {
     "data": {
      "text/plain": [
       "Text(0, 0.5, 'Number of Customers (In Ten Millions)')"
      ]
     },
     "execution_count": 37,
     "metadata": {},
     "output_type": "execute_result"
    },
    {
     "data": {
      "image/png": "[encoded data removed]",
      "text/plain": [
       "<Figure size 640x480 with 1 Axes>"
      ]
     },
     "metadata": {},
     "output_type": "display_data"
    }
   ],
   "source": [
    "#Creating bar chart of loyalty_flag\n",
    "bar_loyalty = ords_prods_cust['loyalty_flag'].value_counts().plot.bar()\n",
    "plt.title('Loyalty Flag Counts')\n",
    "plt.xlabel('Customer Loyalty Status')\n",
    "plt.ylabel('Number of Customers (In Ten Millions)')"
   ]
  },
  {
   "cell_type": "markdown",
   "id": "ddfc3f61",
   "metadata": {},
   "source": [
    "### Most customers are considered a Regular Customer, followed by Loyal Customer and then New Customer."
   ]
  },
  {
   "cell_type": "markdown",
   "id": "cf321e66",
   "metadata": {},
   "source": [
    "### Line graph of 'prices' over 'order_hour_of_day'. "
   ]
  },
  {
   "cell_type": "code",
   "execution_count": 21,
   "id": "33ca1213",
   "metadata": {},
   "outputs": [],
   "source": [
    "#Using previously created small sample with order_hour_of_day and prices in new subset\n",
    "line_hour_set = small[['order_hour_of_day', 'prices']]"
   ]
  },
  {
   "cell_type": "code",
   "execution_count": 26,
   "id": "cd69336c",
   "metadata": {},
   "outputs": [
    {
     "name": "stderr",
     "output_type": "stream",
     "text": [
      "C:\\Users\\Mosspants\\anaconda3\\Lib\\site-packages\\seaborn\\_oldcore.py:1498: FutureWarning: is_categorical_dtype is deprecated and will be removed in a future version. Use isinstance(dtype, CategoricalDtype) instead\n",
      "  if pd.api.types.is_categorical_dtype(vector):\n",
      "C:\\Users\\Mosspants\\anaconda3\\Lib\\site-packages\\seaborn\\_oldcore.py:1498: FutureWarning: is_categorical_dtype is deprecated and will be removed in a future version. Use isinstance(dtype, CategoricalDtype) instead\n",
      "  if pd.api.types.is_categorical_dtype(vector):\n",
      "C:\\Users\\Mosspants\\anaconda3\\Lib\\site-packages\\seaborn\\_oldcore.py:1119: FutureWarning: use_inf_as_na option is deprecated and will be removed in a future version. Convert inf values to NaN before operating instead.\n",
      "  with pd.option_context('mode.use_inf_as_na', True):\n",
      "C:\\Users\\Mosspants\\anaconda3\\Lib\\site-packages\\seaborn\\_oldcore.py:1119: FutureWarning: use_inf_as_na option is deprecated and will be removed in a future version. Convert inf values to NaN before operating instead.\n",
      "  with pd.option_context('mode.use_inf_as_na', True):\n"
     ]
    },
    {
     "data": {
      "text/plain": [
       "Text(0, 0.5, 'Revenue')"
      ]
     },
     "execution_count": 26,
     "metadata": {},
     "output_type": "execute_result"
    },
    {
     "data": {
      "image/png": "[encoded data removed]",
      "text/plain": [
       "<Figure size 640x480 with 1 Axes>"
      ]
     },
     "metadata": {},
     "output_type": "display_data"
    }
   ],
   "source": [
    "#Using new line_hour_set subset for line chart\n",
    "line_hour = sns.lineplot(data = line_hour_set, x = 'order_hour_of_day', y = 'prices')\n",
    "plt.title('Revenue by Hour of Day')\n",
    "plt.xlabel('Hour of Day')\n",
    "plt.ylabel('Revenue')"
   ]
  },
  {
   "cell_type": "markdown",
   "id": "0b269d03",
   "metadata": {},
   "source": [
    "### Even though the most popular order time is 10 - 16, the price of the order is low around hour 10 and highest around hour 1 and 4."
   ]
  },
  {
   "cell_type": "markdown",
   "id": "8752feb1",
   "metadata": {},
   "source": [
    "### Price Label Frequency Chart"
   ]
  },
  {
   "cell_type": "code",
   "execution_count": 29,
   "id": "3efbc279",
   "metadata": {},
   "outputs": [
    {
     "data": {
      "text/plain": [
       "Text(0, 0.5, 'Number of Products (In Ten Millions)')"
      ]
     },
     "execution_count": 29,
     "metadata": {},
     "output_type": "execute_result"
    },
    {
     "data": {
      "image/png": "[encoded data removed]",
      "text/plain": [
       "<Figure size 640x480 with 1 Axes>"
      ]
     },
     "metadata": {},
     "output_type": "display_data"
    }
   ],
   "source": [
    "#Price Label Frequency Chart\n",
    "price_label_bar = ords_prods_cust['price_label'].value_counts().sort_index().plot.bar()\n",
    "plt.title('Price Label Counts')\n",
    "plt.xlabel('Price Label')\n",
    "plt.ylabel('Number of Products (In Ten Millions)')"
   ]
  },
  {
   "cell_type": "markdown",
   "id": "a693501c",
   "metadata": {},
   "source": [
    "## 05. Creating Visualizations - Customer Demographics"
   ]
  },
  {
   "cell_type": "markdown",
   "id": "b10093d2",
   "metadata": {},
   "source": [
    "### Line graph to determine connection between 'age' and 'number_of_dependants'."
   ]
  },
  {
   "cell_type": "code",
   "execution_count": null,
   "id": "0f2534da",
   "metadata": {},
   "outputs": [],
   "source": [
    "#Using previously created small sample with age and family_status in new subset\n",
    "line_age_set = small[['age', 'number_of_dependants']]"
   ]
  },
  {
   "cell_type": "code",
   "execution_count": null,
   "id": "0aed9e8f",
   "metadata": {},
   "outputs": [],
   "source": [
    "#Using new line_age_set subset for line chart\n",
    "line_age = sns.lineplot(data = line_age_set, x = 'age', y = 'number_of_dependants')"
   ]
  },
  {
   "cell_type": "markdown",
   "id": "891638e5",
   "metadata": {},
   "source": [
    "### There doesn't seem to be a relationship between age and number of dependants. I have also created a graph where to axes are switched to see if that would better visualize a relationship."
   ]
  },
  {
   "cell_type": "code",
   "execution_count": null,
   "id": "c4396722",
   "metadata": {},
   "outputs": [],
   "source": [
    "#Line chart with axes switched\n",
    "line_age_2 = sns.lineplot(data = line_age_set, x = 'number_of_dependants', y = 'age')"
   ]
  },
  {
   "cell_type": "markdown",
   "id": "6468aea6",
   "metadata": {},
   "source": [
    "### With the axes swtich, it still doesn't seem like there is a relationship between age and dependants. The line decreases at 1 dependant and increases at 2 dependants, but the age range of those points are within age 49."
   ]
  },
  {
   "cell_type": "markdown",
   "id": "8f9b3280",
   "metadata": {},
   "source": [
    "### Scatterplot of 'age' and 'income'."
   ]
  },
  {
   "cell_type": "code",
   "execution_count": null,
   "id": "0e99896f",
   "metadata": {},
   "outputs": [],
   "source": [
    "#Scatterplot of age and income\n",
    "scatter_income = sns.scatterplot(x = 'age', y = 'income', data = ords_prods_cust)"
   ]
  },
  {
   "cell_type": "markdown",
   "id": "a5ea89e7",
   "metadata": {},
   "source": [
    "### Most people across all ages have an income of less than 200,000. Those 40 and older have more people earning an income of 300,000 than those under 40. 200,000 and 300,000 seem like high income figures, and while there are some high income points it doesn't seem like the numbers are skewed by a few outliers.  "
   ]
  },
  {
   "cell_type": "markdown",
   "id": "26cc8a3d",
   "metadata": {},
   "source": [
    "## 06. Export Charts and Data"
   ]
  },
  {
   "cell_type": "code",
   "execution_count": 31,
   "id": "2a116cd2",
   "metadata": {},
   "outputs": [],
   "source": [
    "#Exporting days of week bar chart\n",
    "(bar_days.figure.savefig(os.path.join(path, '04_Analysis', 'Visualizations', 'bar_order_days_of_week.png')))"
   ]
  },
  {
   "cell_type": "code",
   "execution_count": null,
   "id": "6b10fd6a",
   "metadata": {
    "scrolled": true
   },
   "outputs": [],
   "source": [
    "#Exporting prices histogram\n",
    "(hist_prices.figure.savefig(os.path.join(path, '04_Analysis', 'Visualizations', 'histogram_prices.png')))"
   ]
  },
  {
   "cell_type": "code",
   "execution_count": null,
   "id": "4983779a",
   "metadata": {},
   "outputs": [],
   "source": [
    "#Exporting prices by day of week line chart\n",
    "(line.figure.savefig(os.path.join(path, '04_Analysis', 'Visualizations', 'line_day_prices.png')))"
   ]
  },
  {
   "cell_type": "code",
   "execution_count": 16,
   "id": "5567f2b6",
   "metadata": {},
   "outputs": [],
   "source": [
    "#Exporting hour of day histogram\n",
    "(hist_hour.figure.savefig(os.path.join(path, '04_Analysis', 'Visualizations', 'histogram_hour.png')))"
   ]
  },
  {
   "cell_type": "code",
   "execution_count": 38,
   "id": "2b303364",
   "metadata": {},
   "outputs": [],
   "source": [
    "#Exporting loyalty flag bar chart\n",
    "(bar_loyalty.figure.savefig(os.path.join(path, '04_Analysis', 'Visualizations', 'bar_loyalty.png')))"
   ]
  },
  {
   "cell_type": "code",
   "execution_count": 27,
   "id": "92023897",
   "metadata": {},
   "outputs": [],
   "source": [
    "#Exporting hour of day and prices line chart\n",
    "(line_hour.figure.savefig(os.path.join(path, '04_Analysis', 'Visualizations', 'line_prices_hour.png')))"
   ]
  },
  {
   "cell_type": "code",
   "execution_count": 34,
   "id": "232aa1db",
   "metadata": {},
   "outputs": [],
   "source": [
    "#Exporting price label counts bar\n",
    "(price_label_bar.figure.savefig(os.path.join(path, '04_Analysis', 'Visualizations', 'price_label_bar.png')))"
   ]
  },
  {
   "cell_type": "code",
   "execution_count": null,
   "id": "3f8b7490",
   "metadata": {},
   "outputs": [],
   "source": [
    "#Exporting age and dependants line chart\n",
    "(line_age.figure.savefig(os.path.join(path, '04_Analysis', 'Visualizations', 'line_age.png')))"
   ]
  },
  {
   "cell_type": "code",
   "execution_count": null,
   "id": "53bf68b2",
   "metadata": {},
   "outputs": [],
   "source": [
    "#Exporting age and dependants line chart with axes swithced\n",
    "(line_age_2.figure.savefig(os.path.join(path, '04_Analysis', 'Visualizations', 'line_age_2.png')))"
   ]
  },
  {
   "cell_type": "code",
   "execution_count": null,
   "id": "ef4c34d1",
   "metadata": {},
   "outputs": [],
   "source": [
    "#Exporting income and age scatterplot\n",
    "(scatter_income.figure.savefig(os.path.join(path, '04_Analysis', 'Visualizations', 'scatter_income_age.png')))"
   ]
  },
  {
   "cell_type": "markdown",
   "id": "d4372470",
   "metadata": {},
   "source": [
    "### Exporting Data"
   ]
  },
  {
   "cell_type": "code",
   "execution_count": null,
   "id": "081ca434",
   "metadata": {},
   "outputs": [],
   "source": [
    "#Exporting as orders_products_all\n",
    "ords_prods_cust.to_pickle(os.path.join(path, '02_Data', 'Prepared_Data', 'orders_products_all.pkl'))"
   ]
  }
 ],
 "metadata": {
  "kernelspec": {
   "display_name": "Python 3 (ipykernel)",
   "language": "python",
   "name": "python3"
  },
  "language_info": {
   "codemirror_mode": {
    "name": "ipython",
    "version": 3
   },
   "file_extension": ".py",
   "mimetype": "text/x-python",
   "name": "python",
   "nbconvert_exporter": "python",
   "pygments_lexer": "ipython3",
   "version": "3.11.5"
  }
 },
 "nbformat": 4,
 "nbformat_minor": 5
}
