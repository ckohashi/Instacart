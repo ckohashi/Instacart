{
 "cells": [
  {
   "cell_type": "markdown",
   "id": "bf4882eb",
   "metadata": {},
   "source": [
    "# Deriving New Variables Exercise"
   ]
  },
  {
   "cell_type": "markdown",
   "id": "fcf83791",
   "metadata": {},
   "source": [
    "## List of Contents:\n",
    "## 01. Importing Libraries\n",
    "## 02. Importing Data\n",
    "## 03. Creating Price_Label Variable\n",
    "## 04. Creating Busiest_Day Variable\n",
    "## 05. Creating Busiest_Days Variable\n",
    "## 06. Creating a Busiest_Period_Of_Day Variable\n",
    "## 07. Export Data\n",
    "\n",
    "## --"
   ]
  },
  {
   "cell_type": "markdown",
   "id": "86536f38",
   "metadata": {},
   "source": [
    "## 01. Importing Libraries"
   ]
  },
  {
   "cell_type": "code",
   "execution_count": null,
   "id": "1decfeee",
   "metadata": {},
   "outputs": [],
   "source": [
    "#Importing libraries\n",
    "import pandas as pd\n",
    "import numpy as np\n",
    "import os"
   ]
  },
  {
   "cell_type": "markdown",
   "id": "39d32b40",
   "metadata": {},
   "source": [
    "## 02. Importing Data"
   ]
  },
  {
   "cell_type": "code",
   "execution_count": null,
   "id": "a81822d1",
   "metadata": {},
   "outputs": [],
   "source": [
    "#Assigning path for import\n",
    "path = r'C:\\Users\\Mosspants\\Desktop\\CareerFoundry\\A4_Python_Fundamentals_for_Data_Analysts\\Instacart Basket Analysis_10_2023'"
   ]
  },
  {
   "cell_type": "code",
   "execution_count": null,
   "id": "791b4db9",
   "metadata": {},
   "outputs": [],
   "source": [
    "#Importing orders_products_merged.pkl\n",
    "ords_prods_merge = pd.read_pickle(os.path.join(path, '02_Data', 'Prepared_Data', 'orders_products_merged.pkl'))"
   ]
  },
  {
   "cell_type": "markdown",
   "id": "449a630a",
   "metadata": {},
   "source": [
    "## 03. Creating Price_Label Variable"
   ]
  },
  {
   "cell_type": "markdown",
   "id": "31cbf2b7",
   "metadata": {},
   "source": [
    "### Using If-Statements with the loc() Function to make price_label."
   ]
  },
  {
   "cell_type": "markdown",
   "id": "f909fb15",
   "metadata": {},
   "source": [
    "### Creating conditions."
   ]
  },
  {
   "cell_type": "code",
   "execution_count": null,
   "id": "d02b03df",
   "metadata": {},
   "outputs": [],
   "source": [
    "#High-range product over 15\n",
    "ords_prods_merge.loc[ords_prods_merge['prices'] > 15, 'price_label'] = 'High-range product'"
   ]
  },
  {
   "cell_type": "code",
   "execution_count": null,
   "id": "3c3baa71",
   "metadata": {},
   "outputs": [],
   "source": [
    "#Mid-range product under or equal to 15 and over 5\n",
    "ords_prods_merge.loc[(ords_prods_merge['prices'] <= 15) & (ords_prods_merge['prices'] > 5), 'price_label'] = 'Mid-range product'"
   ]
  },
  {
   "cell_type": "code",
   "execution_count": null,
   "id": "57a13880",
   "metadata": {},
   "outputs": [],
   "source": [
    "#Low-range product under or equal to 5\n",
    "ords_prods_merge.loc[ords_prods_merge['prices'] <= 5, 'price_label'] = 'Low-range product'"
   ]
  },
  {
   "cell_type": "code",
   "execution_count": null,
   "id": "8d842353",
   "metadata": {},
   "outputs": [],
   "source": [
    "#Checking values of new column\n",
    "ords_prods_merge['price_label'].value_counts(dropna = False)"
   ]
  },
  {
   "cell_type": "markdown",
   "id": "f65eb92c",
   "metadata": {},
   "source": [
    "## 04. Creating Busiest_Day Variable"
   ]
  },
  {
   "cell_type": "markdown",
   "id": "a2fd79c3",
   "metadata": {},
   "source": [
    "### Using If-Statements with For-Loops to create busiest_day."
   ]
  },
  {
   "cell_type": "code",
   "execution_count": null,
   "id": "678838dd",
   "metadata": {},
   "outputs": [],
   "source": [
    "#Frequency of orders_day_of_the_week\n",
    "ords_prods_merge['order_day_of_week'].value_counts(dropna = False)"
   ]
  },
  {
   "cell_type": "code",
   "execution_count": null,
   "id": "6381fa29",
   "metadata": {},
   "outputs": [],
   "source": [
    "#Creating loop\n",
    "result = []\n",
    "\n",
    "for value in ords_prods_merge['order_day_of_week']:\n",
    "    if value == 0:\n",
    "        result.append('Busiest Day')\n",
    "    elif value == 4:\n",
    "        result.append('Least Busy')\n",
    "    else:\n",
    "        result.append('Regular Busy')"
   ]
  },
  {
   "cell_type": "code",
   "execution_count": null,
   "id": "6ecf1e1a",
   "metadata": {},
   "outputs": [],
   "source": [
    "#Checking output\n",
    "result"
   ]
  },
  {
   "cell_type": "code",
   "execution_count": null,
   "id": "110a3e43",
   "metadata": {},
   "outputs": [],
   "source": [
    "#Combining result with ords_prods_merge\n",
    "ords_prods_merge['busiest_day'] = result"
   ]
  },
  {
   "cell_type": "code",
   "execution_count": null,
   "id": "c4e1bc31",
   "metadata": {},
   "outputs": [],
   "source": [
    "#Checking values in new busiest day column\n",
    "ords_prods_merge['busiest_day'].value_counts(dropna = False)"
   ]
  },
  {
   "cell_type": "markdown",
   "id": "7eab40b6",
   "metadata": {},
   "source": [
    "## 05. Creating Busiest_Days Variable"
   ]
  },
  {
   "cell_type": "markdown",
   "id": "db094194",
   "metadata": {},
   "source": [
    "### Identifying the two busiest and slowest days."
   ]
  },
  {
   "cell_type": "code",
   "execution_count": null,
   "id": "9064aa2c",
   "metadata": {},
   "outputs": [],
   "source": [
    "#Frequency check of order_day_of_week to identify two busiest and slowest days\n",
    "ords_prods_merge['order_day_of_week'].value_counts(dropna = False)"
   ]
  },
  {
   "cell_type": "markdown",
   "id": "cc1bef04",
   "metadata": {},
   "source": [
    "### Busiest days are Saturday (0) and Sunday (1). Slowest days are Wednesday (4) and Tuesday (3)."
   ]
  },
  {
   "cell_type": "markdown",
   "id": "b8c8611d",
   "metadata": {},
   "source": [
    "### Creating an If-Statement with For-Loops to create busiest_days."
   ]
  },
  {
   "cell_type": "code",
   "execution_count": null,
   "id": "dd368beb",
   "metadata": {},
   "outputs": [],
   "source": [
    "#Creating for-loop on order_day_of_week to make busiest and slowest days\n",
    "result = []\n",
    "\n",
    "for value in ords_prods_merge['order_day_of_week']:\n",
    "    if (value == 0):\n",
    "        result.append('Busiest Days')\n",
    "    elif (value == 1):\n",
    "        result.append('Busiest Days')\n",
    "    elif (value == 4):\n",
    "        result.append('Slowest Days')\n",
    "    elif (value == 3):\n",
    "        result.append('Slowest Days')\n",
    "    else:\n",
    "        result.append('Regular Days')"
   ]
  },
  {
   "cell_type": "code",
   "execution_count": null,
   "id": "1e184228",
   "metadata": {},
   "outputs": [],
   "source": [
    "#Creating new column called \"busiest_days\" with results of loop\n",
    "ords_prods_merge['busiest_days'] = result"
   ]
  },
  {
   "cell_type": "markdown",
   "id": "4fe49803",
   "metadata": {},
   "source": [
    "### Checking output of new busiest_days column for accuracy."
   ]
  },
  {
   "cell_type": "code",
   "execution_count": null,
   "id": "d9e0e34e",
   "metadata": {},
   "outputs": [],
   "source": [
    "#Checking frequency of new busiest_days column\n",
    "ords_prods_merge['busiest_days'].value_counts(dropna = False)"
   ]
  },
  {
   "cell_type": "code",
   "execution_count": null,
   "id": "cc8176cd",
   "metadata": {},
   "outputs": [],
   "source": [
    "#Checking shape of busiest_days\n",
    "ords_prods_merge['busiest_days'].shape"
   ]
  },
  {
   "cell_type": "markdown",
   "id": "7d9b4d32",
   "metadata": {},
   "source": [
    "### The Busiest days add up, as Saturday (6,209,808) plus Sunday (5,665,951) does equal 11,875,759. The Slowest days also adds up as well (Wednesday 3,787,263 + Tuesday 3,844,175 = 7,631,438). There are more Regular days than Busiest or Slow days, but Busiest days makes up 36.61% of all days. The two busiest days are also the weekend. The slowest days are more in the middle of the week."
   ]
  },
  {
   "cell_type": "markdown",
   "id": "66304cef",
   "metadata": {},
   "source": [
    "## 06. Creating a Busiest_Period_Of_Day Variable"
   ]
  },
  {
   "cell_type": "markdown",
   "id": "334ab0e5",
   "metadata": {},
   "source": [
    "### Identifying busiest hours of day."
   ]
  },
  {
   "cell_type": "code",
   "execution_count": null,
   "id": "6309d5f5",
   "metadata": {
    "scrolled": true
   },
   "outputs": [],
   "source": [
    "#Checking frequency of order_hour_of_day to identify most, average, and fewest order times\n",
    "ords_prods_merge['order_hour_of_day'].value_counts(dropna = False)"
   ]
  },
  {
   "cell_type": "code",
   "execution_count": null,
   "id": "75121dbc",
   "metadata": {},
   "outputs": [],
   "source": [
    "ords_prods_merge['order_hour_of_day'].shape"
   ]
  },
  {
   "cell_type": "markdown",
   "id": "6cf6d609",
   "metadata": {},
   "source": [
    "### Most order hours are 10, 11, 14, 15, 13, 12, 16, and 9 (9-16 or 9AM - 4PM). Average hours are 17, 8, 18, 19, 20, 7, 21, and 22 (7-8 and 17-22 or 7AM - 8AM and 5PM - 10PM). Fewest hours are 23, 6, 0, 1, 5, 2, 4, and 3 (23 - 6 or 11PM - 6AM)."
   ]
  },
  {
   "cell_type": "markdown",
   "id": "e6bb6b0d",
   "metadata": {},
   "source": [
    "### Using If-Statements with the loc() Function to make busiest_period_of day."
   ]
  },
  {
   "cell_type": "markdown",
   "id": "b2409c0a",
   "metadata": {},
   "source": [
    "### Creating conditions."
   ]
  },
  {
   "cell_type": "code",
   "execution_count": null,
   "id": "ee150cca",
   "metadata": {},
   "outputs": [],
   "source": [
    "#Most orders at 9-16\n",
    "ords_prods_merge.loc[(ords_prods_merge['order_hour_of_day'] >=9) & (ords_prods_merge['order_hour_of_day'] <=16), 'busiest_period_of_day'] = 'Most Orders'"
   ]
  },
  {
   "cell_type": "code",
   "execution_count": null,
   "id": "df947f5f",
   "metadata": {},
   "outputs": [],
   "source": [
    "#Average orders at 7\n",
    "ords_prods_merge.loc[ords_prods_merge['order_hour_of_day'] ==7, 'busiest_period_of_day'] = 'Average Orders'"
   ]
  },
  {
   "cell_type": "code",
   "execution_count": null,
   "id": "7f01a219",
   "metadata": {},
   "outputs": [],
   "source": [
    "#Average orders at 8\n",
    "ords_prods_merge.loc[ords_prods_merge['order_hour_of_day'] ==8, 'busiest_period_of_day'] = 'Average Orders'"
   ]
  },
  {
   "cell_type": "code",
   "execution_count": null,
   "id": "34a5a646",
   "metadata": {},
   "outputs": [],
   "source": [
    "#Average orders at 17-22\n",
    "ords_prods_merge.loc[(ords_prods_merge['order_hour_of_day'] >= 17) & (ords_prods_merge['order_hour_of_day'] <=22), 'busiest_period_of_day'] = 'Average Orders'"
   ]
  },
  {
   "cell_type": "code",
   "execution_count": null,
   "id": "097e4ac7",
   "metadata": {},
   "outputs": [],
   "source": [
    "#Fewest orders at 23\n",
    "ords_prods_merge.loc[ords_prods_merge['order_hour_of_day'] == 23, 'busiest_period_of_day'] = 'Fewest Orders'"
   ]
  },
  {
   "cell_type": "code",
   "execution_count": null,
   "id": "ce9bc6d6",
   "metadata": {},
   "outputs": [],
   "source": [
    "#Fewest orders at 0-6\n",
    "ords_prods_merge.loc[ords_prods_merge['order_hour_of_day'] <=6, 'busiest_period_of_day'] = 'Fewest Orders'"
   ]
  },
  {
   "cell_type": "markdown",
   "id": "7f248187",
   "metadata": {},
   "source": [
    "### Checking output of new busiest_period_of_day column."
   ]
  },
  {
   "cell_type": "code",
   "execution_count": null,
   "id": "42cbdedf",
   "metadata": {},
   "outputs": [],
   "source": [
    "#Checking frequency of busiest_period_of_day\n",
    "ords_prods_merge['busiest_period_of_day'].value_counts(dropna = False)"
   ]
  },
  {
   "cell_type": "code",
   "execution_count": null,
   "id": "7e596f4c",
   "metadata": {
    "scrolled": true
   },
   "outputs": [],
   "source": [
    "#Checking shape of busiest_period_of_day\n",
    "ords_prods_merge['busiest_period_of_day'].shape"
   ]
  },
  {
   "cell_type": "code",
   "execution_count": null,
   "id": "98f145a9",
   "metadata": {},
   "outputs": [],
   "source": [
    "#Checking overall dataframe\n",
    "ords_prods_merge.head()"
   ]
  },
  {
   "cell_type": "markdown",
   "id": "44a50144",
   "metadata": {},
   "source": [
    "## 07. Export Data"
   ]
  },
  {
   "cell_type": "code",
   "execution_count": null,
   "id": "4d1ef286",
   "metadata": {},
   "outputs": [],
   "source": [
    "#Exporting new dataframe as orders_products_derived.pkl\n",
    "ords_prods_merge.to_pickle(os.path.join(path, '02_Data', 'Prepared_Data', 'orders_products_derived.pkl'))"
   ]
  }
 ],
 "metadata": {
  "kernelspec": {
   "display_name": "Python 3 (ipykernel)",
   "language": "python",
   "name": "python3"
  },
  "language_info": {
   "codemirror_mode": {
    "name": "ipython",
    "version": 3
   },
   "file_extension": ".py",
   "mimetype": "text/x-python",
   "name": "python",
   "nbconvert_exporter": "python",
   "pygments_lexer": "ipython3",
   "version": "3.11.5"
  }
 },
 "nbformat": 4,
 "nbformat_minor": 5
}
